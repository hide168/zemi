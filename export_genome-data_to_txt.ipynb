{
 "cells": [
  {
   "cell_type": "code",
   "execution_count": 1,
   "id": "f2c57248",
   "metadata": {
    "scrolled": true
   },
   "outputs": [
    {
     "name": "stdout",
     "output_type": "stream",
     "text": [
      "2023-10-19 14:14:59.703 WARN  Utils:69 - Your hostname, hidenaoki-MacBook.local resolves to a loopback address: 127.0.0.1; using 172.19.189.38 instead (on interface en0)\n",
      "2023-10-19 14:14:59.708 WARN  Utils:69 - Set SPARK_LOCAL_IP if you need to bind to another address\n",
      "2023-10-19 14:15:00.098 WARN  NativeCodeLoader:60 - Unable to load native-hadoop library for your platform... using builtin-java classes where applicable\n"
     ]
    },
    {
     "name": "stderr",
     "output_type": "stream",
     "text": [
      "Setting default log level to \"WARN\".\n",
      "To adjust logging level use sc.setLogLevel(newLevel). For SparkR, use setLogLevel(newLevel).\n",
      "Running on Apache Spark version 3.1.3\n",
      "SparkUI available at http://172.19.189.38:4040\n",
      "Welcome to\n",
      "     __  __     <>__\n",
      "    / /_/ /__  __/ /\n",
      "   / __  / _ `/ / /\n",
      "  /_/ /_/\\_,_/_/_/   version 0.2.107-2387bb00ceee\n",
      "LOGGING: writing to /Users/naoki/dev/my-zemi/prs-on-hail/hail-20231019-1414-0.2.107-2387bb00ceee.log\n"
     ]
    },
    {
     "data": {
      "text/html": [
       "\n",
       "    <div class=\"bk-root\">\n",
       "        <a href=\"https://bokeh.org\" target=\"_blank\" class=\"bk-logo bk-logo-small bk-logo-notebook\"></a>\n",
       "        <span id=\"1001\">Loading BokehJS ...</span>\n",
       "    </div>"
      ]
     },
     "metadata": {},
     "output_type": "display_data"
    },
    {
     "data": {
      "application/javascript": [
       "\n",
       "(function(root) {\n",
       "  function now() {\n",
       "    return new Date();\n",
       "  }\n",
       "\n",
       "  var force = true;\n",
       "\n",
       "  if (typeof root._bokeh_onload_callbacks === \"undefined\" || force === true) {\n",
       "    root._bokeh_onload_callbacks = [];\n",
       "    root._bokeh_is_loading = undefined;\n",
       "  }\n",
       "\n",
       "  var JS_MIME_TYPE = 'application/javascript';\n",
       "  var HTML_MIME_TYPE = 'text/html';\n",
       "  var EXEC_MIME_TYPE = 'application/vnd.bokehjs_exec.v0+json';\n",
       "  var CLASS_NAME = 'output_bokeh rendered_html';\n",
       "\n",
       "  /**\n",
       "   * Render data to the DOM node\n",
       "   */\n",
       "  function render(props, node) {\n",
       "    var script = document.createElement(\"script\");\n",
       "    node.appendChild(script);\n",
       "  }\n",
       "\n",
       "  /**\n",
       "   * Handle when an output is cleared or removed\n",
       "   */\n",
       "  function handleClearOutput(event, handle) {\n",
       "    var cell = handle.cell;\n",
       "\n",
       "    var id = cell.output_area._bokeh_element_id;\n",
       "    var server_id = cell.output_area._bokeh_server_id;\n",
       "    // Clean up Bokeh references\n",
       "    if (id != null && id in Bokeh.index) {\n",
       "      Bokeh.index[id].model.document.clear();\n",
       "      delete Bokeh.index[id];\n",
       "    }\n",
       "\n",
       "    if (server_id !== undefined) {\n",
       "      // Clean up Bokeh references\n",
       "      var cmd = \"from bokeh.io.state import curstate; print(curstate().uuid_to_server['\" + server_id + \"'].get_sessions()[0].document.roots[0]._id)\";\n",
       "      cell.notebook.kernel.execute(cmd, {\n",
       "        iopub: {\n",
       "          output: function(msg) {\n",
       "            var id = msg.content.text.trim();\n",
       "            if (id in Bokeh.index) {\n",
       "              Bokeh.index[id].model.document.clear();\n",
       "              delete Bokeh.index[id];\n",
       "            }\n",
       "          }\n",
       "        }\n",
       "      });\n",
       "      // Destroy server and session\n",
       "      var cmd = \"import bokeh.io.notebook as ion; ion.destroy_server('\" + server_id + \"')\";\n",
       "      cell.notebook.kernel.execute(cmd);\n",
       "    }\n",
       "  }\n",
       "\n",
       "  /**\n",
       "   * Handle when a new output is added\n",
       "   */\n",
       "  function handleAddOutput(event, handle) {\n",
       "    var output_area = handle.output_area;\n",
       "    var output = handle.output;\n",
       "\n",
       "    // limit handleAddOutput to display_data with EXEC_MIME_TYPE content only\n",
       "    if ((output.output_type != \"display_data\") || (!output.data.hasOwnProperty(EXEC_MIME_TYPE))) {\n",
       "      return\n",
       "    }\n",
       "\n",
       "    var toinsert = output_area.element.find(\".\" + CLASS_NAME.split(' ')[0]);\n",
       "\n",
       "    if (output.metadata[EXEC_MIME_TYPE][\"id\"] !== undefined) {\n",
       "      toinsert[toinsert.length - 1].firstChild.textContent = output.data[JS_MIME_TYPE];\n",
       "      // store reference to embed id on output_area\n",
       "      output_area._bokeh_element_id = output.metadata[EXEC_MIME_TYPE][\"id\"];\n",
       "    }\n",
       "    if (output.metadata[EXEC_MIME_TYPE][\"server_id\"] !== undefined) {\n",
       "      var bk_div = document.createElement(\"div\");\n",
       "      bk_div.innerHTML = output.data[HTML_MIME_TYPE];\n",
       "      var script_attrs = bk_div.children[0].attributes;\n",
       "      for (var i = 0; i < script_attrs.length; i++) {\n",
       "        toinsert[toinsert.length - 1].firstChild.setAttribute(script_attrs[i].name, script_attrs[i].value);\n",
       "      }\n",
       "      // store reference to server id on output_area\n",
       "      output_area._bokeh_server_id = output.metadata[EXEC_MIME_TYPE][\"server_id\"];\n",
       "    }\n",
       "  }\n",
       "\n",
       "  function register_renderer(events, OutputArea) {\n",
       "\n",
       "    function append_mime(data, metadata, element) {\n",
       "      // create a DOM node to render to\n",
       "      var toinsert = this.create_output_subarea(\n",
       "        metadata,\n",
       "        CLASS_NAME,\n",
       "        EXEC_MIME_TYPE\n",
       "      );\n",
       "      this.keyboard_manager.register_events(toinsert);\n",
       "      // Render to node\n",
       "      var props = {data: data, metadata: metadata[EXEC_MIME_TYPE]};\n",
       "      render(props, toinsert[toinsert.length - 1]);\n",
       "      element.append(toinsert);\n",
       "      return toinsert\n",
       "    }\n",
       "\n",
       "    /* Handle when an output is cleared or removed */\n",
       "    events.on('clear_output.CodeCell', handleClearOutput);\n",
       "    events.on('delete.Cell', handleClearOutput);\n",
       "\n",
       "    /* Handle when a new output is added */\n",
       "    events.on('output_added.OutputArea', handleAddOutput);\n",
       "\n",
       "    /**\n",
       "     * Register the mime type and append_mime function with output_area\n",
       "     */\n",
       "    OutputArea.prototype.register_mime_type(EXEC_MIME_TYPE, append_mime, {\n",
       "      /* Is output safe? */\n",
       "      safe: true,\n",
       "      /* Index of renderer in `output_area.display_order` */\n",
       "      index: 0\n",
       "    });\n",
       "  }\n",
       "\n",
       "  // register the mime type if in Jupyter Notebook environment and previously unregistered\n",
       "  if (root.Jupyter !== undefined) {\n",
       "    var events = require('base/js/events');\n",
       "    var OutputArea = require('notebook/js/outputarea').OutputArea;\n",
       "\n",
       "    if (OutputArea.prototype.mime_types().indexOf(EXEC_MIME_TYPE) == -1) {\n",
       "      register_renderer(events, OutputArea);\n",
       "    }\n",
       "  }\n",
       "\n",
       "  \n",
       "  if (typeof (root._bokeh_timeout) === \"undefined\" || force === true) {\n",
       "    root._bokeh_timeout = Date.now() + 5000;\n",
       "    root._bokeh_failed_load = false;\n",
       "  }\n",
       "\n",
       "  var NB_LOAD_WARNING = {'data': {'text/html':\n",
       "     \"<div style='background-color: #fdd'>\\n\"+\n",
       "     \"<p>\\n\"+\n",
       "     \"BokehJS does not appear to have successfully loaded. If loading BokehJS from CDN, this \\n\"+\n",
       "     \"may be due to a slow or bad network connection. Possible fixes:\\n\"+\n",
       "     \"</p>\\n\"+\n",
       "     \"<ul>\\n\"+\n",
       "     \"<li>re-rerun `output_notebook()` to attempt to load from CDN again, or</li>\\n\"+\n",
       "     \"<li>use INLINE resources instead, as so:</li>\\n\"+\n",
       "     \"</ul>\\n\"+\n",
       "     \"<code>\\n\"+\n",
       "     \"from bokeh.resources import INLINE\\n\"+\n",
       "     \"output_notebook(resources=INLINE)\\n\"+\n",
       "     \"</code>\\n\"+\n",
       "     \"</div>\"}};\n",
       "\n",
       "  function display_loaded() {\n",
       "    var el = document.getElementById(\"1001\");\n",
       "    if (el != null) {\n",
       "      el.textContent = \"BokehJS is loading...\";\n",
       "    }\n",
       "    if (root.Bokeh !== undefined) {\n",
       "      if (el != null) {\n",
       "        el.textContent = \"BokehJS \" + root.Bokeh.version + \" successfully loaded.\";\n",
       "      }\n",
       "    } else if (Date.now() < root._bokeh_timeout) {\n",
       "      setTimeout(display_loaded, 100)\n",
       "    }\n",
       "  }\n",
       "\n",
       "\n",
       "  function run_callbacks() {\n",
       "    try {\n",
       "      root._bokeh_onload_callbacks.forEach(function(callback) {\n",
       "        if (callback != null)\n",
       "          callback();\n",
       "      });\n",
       "    } finally {\n",
       "      delete root._bokeh_onload_callbacks\n",
       "    }\n",
       "    console.debug(\"Bokeh: all callbacks have finished\");\n",
       "  }\n",
       "\n",
       "  function load_libs(css_urls, js_urls, callback) {\n",
       "    if (css_urls == null) css_urls = [];\n",
       "    if (js_urls == null) js_urls = [];\n",
       "\n",
       "    root._bokeh_onload_callbacks.push(callback);\n",
       "    if (root._bokeh_is_loading > 0) {\n",
       "      console.debug(\"Bokeh: BokehJS is being loaded, scheduling callback at\", now());\n",
       "      return null;\n",
       "    }\n",
       "    if (js_urls == null || js_urls.length === 0) {\n",
       "      run_callbacks();\n",
       "      return null;\n",
       "    }\n",
       "    console.debug(\"Bokeh: BokehJS not loaded, scheduling load and callback at\", now());\n",
       "    root._bokeh_is_loading = css_urls.length + js_urls.length;\n",
       "\n",
       "    function on_load() {\n",
       "      root._bokeh_is_loading--;\n",
       "      if (root._bokeh_is_loading === 0) {\n",
       "        console.debug(\"Bokeh: all BokehJS libraries/stylesheets loaded\");\n",
       "        run_callbacks()\n",
       "      }\n",
       "    }\n",
       "\n",
       "    function on_error() {\n",
       "      console.error(\"failed to load \" + url);\n",
       "    }\n",
       "\n",
       "    for (var i = 0; i < css_urls.length; i++) {\n",
       "      var url = css_urls[i];\n",
       "      const element = document.createElement(\"link\");\n",
       "      element.onload = on_load;\n",
       "      element.onerror = on_error;\n",
       "      element.rel = \"stylesheet\";\n",
       "      element.type = \"text/css\";\n",
       "      element.href = url;\n",
       "      console.debug(\"Bokeh: injecting link tag for BokehJS stylesheet: \", url);\n",
       "      document.body.appendChild(element);\n",
       "    }\n",
       "\n",
       "    for (var i = 0; i < js_urls.length; i++) {\n",
       "      var url = js_urls[i];\n",
       "      var element = document.createElement('script');\n",
       "      element.onload = on_load;\n",
       "      element.onerror = on_error;\n",
       "      element.async = false;\n",
       "      element.src = url;\n",
       "      console.debug(\"Bokeh: injecting script tag for BokehJS library: \", url);\n",
       "      document.head.appendChild(element);\n",
       "    }\n",
       "  };var element = document.getElementById(\"1001\");\n",
       "  if (element == null) {\n",
       "    console.error(\"Bokeh: ERROR: autoload.js configured with elementid '1001' but no matching script tag was found. \")\n",
       "    return false;\n",
       "  }\n",
       "\n",
       "  function inject_raw_css(css) {\n",
       "    const element = document.createElement(\"style\");\n",
       "    element.appendChild(document.createTextNode(css));\n",
       "    document.body.appendChild(element);\n",
       "  }\n",
       "\n",
       "  \n",
       "  var js_urls = [\"https://cdn.pydata.org/bokeh/release/bokeh-1.4.0.min.js\", \"https://cdn.pydata.org/bokeh/release/bokeh-widgets-1.4.0.min.js\", \"https://cdn.pydata.org/bokeh/release/bokeh-tables-1.4.0.min.js\", \"https://cdn.pydata.org/bokeh/release/bokeh-gl-1.4.0.min.js\"];\n",
       "  var css_urls = [];\n",
       "  \n",
       "\n",
       "  var inline_js = [\n",
       "    function(Bokeh) {\n",
       "      Bokeh.set_log_level(\"info\");\n",
       "    },\n",
       "    function(Bokeh) {\n",
       "    \n",
       "    \n",
       "    }\n",
       "  ];\n",
       "\n",
       "  function run_inline_js() {\n",
       "    \n",
       "    if (root.Bokeh !== undefined || force === true) {\n",
       "      \n",
       "    for (var i = 0; i < inline_js.length; i++) {\n",
       "      inline_js[i].call(root, root.Bokeh);\n",
       "    }\n",
       "    if (force === true) {\n",
       "        display_loaded();\n",
       "      }} else if (Date.now() < root._bokeh_timeout) {\n",
       "      setTimeout(run_inline_js, 100);\n",
       "    } else if (!root._bokeh_failed_load) {\n",
       "      console.log(\"Bokeh: BokehJS failed to load within specified timeout.\");\n",
       "      root._bokeh_failed_load = true;\n",
       "    } else if (force !== true) {\n",
       "      var cell = $(document.getElementById(\"1001\")).parents('.cell').data().cell;\n",
       "      cell.output_area.append_execute_result(NB_LOAD_WARNING)\n",
       "    }\n",
       "\n",
       "  }\n",
       "\n",
       "  if (root._bokeh_is_loading === 0) {\n",
       "    console.debug(\"Bokeh: BokehJS loaded, going straight to plotting\");\n",
       "    run_inline_js();\n",
       "  } else {\n",
       "    load_libs(css_urls, js_urls, function() {\n",
       "      console.debug(\"Bokeh: BokehJS plotting callback run at\", now());\n",
       "      run_inline_js();\n",
       "    });\n",
       "  }\n",
       "}(window));"
      ],
      "application/vnd.bokehjs_load.v0+json": "\n(function(root) {\n  function now() {\n    return new Date();\n  }\n\n  var force = true;\n\n  if (typeof root._bokeh_onload_callbacks === \"undefined\" || force === true) {\n    root._bokeh_onload_callbacks = [];\n    root._bokeh_is_loading = undefined;\n  }\n\n  \n\n  \n  if (typeof (root._bokeh_timeout) === \"undefined\" || force === true) {\n    root._bokeh_timeout = Date.now() + 5000;\n    root._bokeh_failed_load = false;\n  }\n\n  var NB_LOAD_WARNING = {'data': {'text/html':\n     \"<div style='background-color: #fdd'>\\n\"+\n     \"<p>\\n\"+\n     \"BokehJS does not appear to have successfully loaded. If loading BokehJS from CDN, this \\n\"+\n     \"may be due to a slow or bad network connection. Possible fixes:\\n\"+\n     \"</p>\\n\"+\n     \"<ul>\\n\"+\n     \"<li>re-rerun `output_notebook()` to attempt to load from CDN again, or</li>\\n\"+\n     \"<li>use INLINE resources instead, as so:</li>\\n\"+\n     \"</ul>\\n\"+\n     \"<code>\\n\"+\n     \"from bokeh.resources import INLINE\\n\"+\n     \"output_notebook(resources=INLINE)\\n\"+\n     \"</code>\\n\"+\n     \"</div>\"}};\n\n  function display_loaded() {\n    var el = document.getElementById(\"1001\");\n    if (el != null) {\n      el.textContent = \"BokehJS is loading...\";\n    }\n    if (root.Bokeh !== undefined) {\n      if (el != null) {\n        el.textContent = \"BokehJS \" + root.Bokeh.version + \" successfully loaded.\";\n      }\n    } else if (Date.now() < root._bokeh_timeout) {\n      setTimeout(display_loaded, 100)\n    }\n  }\n\n\n  function run_callbacks() {\n    try {\n      root._bokeh_onload_callbacks.forEach(function(callback) {\n        if (callback != null)\n          callback();\n      });\n    } finally {\n      delete root._bokeh_onload_callbacks\n    }\n    console.debug(\"Bokeh: all callbacks have finished\");\n  }\n\n  function load_libs(css_urls, js_urls, callback) {\n    if (css_urls == null) css_urls = [];\n    if (js_urls == null) js_urls = [];\n\n    root._bokeh_onload_callbacks.push(callback);\n    if (root._bokeh_is_loading > 0) {\n      console.debug(\"Bokeh: BokehJS is being loaded, scheduling callback at\", now());\n      return null;\n    }\n    if (js_urls == null || js_urls.length === 0) {\n      run_callbacks();\n      return null;\n    }\n    console.debug(\"Bokeh: BokehJS not loaded, scheduling load and callback at\", now());\n    root._bokeh_is_loading = css_urls.length + js_urls.length;\n\n    function on_load() {\n      root._bokeh_is_loading--;\n      if (root._bokeh_is_loading === 0) {\n        console.debug(\"Bokeh: all BokehJS libraries/stylesheets loaded\");\n        run_callbacks()\n      }\n    }\n\n    function on_error() {\n      console.error(\"failed to load \" + url);\n    }\n\n    for (var i = 0; i < css_urls.length; i++) {\n      var url = css_urls[i];\n      const element = document.createElement(\"link\");\n      element.onload = on_load;\n      element.onerror = on_error;\n      element.rel = \"stylesheet\";\n      element.type = \"text/css\";\n      element.href = url;\n      console.debug(\"Bokeh: injecting link tag for BokehJS stylesheet: \", url);\n      document.body.appendChild(element);\n    }\n\n    for (var i = 0; i < js_urls.length; i++) {\n      var url = js_urls[i];\n      var element = document.createElement('script');\n      element.onload = on_load;\n      element.onerror = on_error;\n      element.async = false;\n      element.src = url;\n      console.debug(\"Bokeh: injecting script tag for BokehJS library: \", url);\n      document.head.appendChild(element);\n    }\n  };var element = document.getElementById(\"1001\");\n  if (element == null) {\n    console.error(\"Bokeh: ERROR: autoload.js configured with elementid '1001' but no matching script tag was found. \")\n    return false;\n  }\n\n  function inject_raw_css(css) {\n    const element = document.createElement(\"style\");\n    element.appendChild(document.createTextNode(css));\n    document.body.appendChild(element);\n  }\n\n  \n  var js_urls = [\"https://cdn.pydata.org/bokeh/release/bokeh-1.4.0.min.js\", \"https://cdn.pydata.org/bokeh/release/bokeh-widgets-1.4.0.min.js\", \"https://cdn.pydata.org/bokeh/release/bokeh-tables-1.4.0.min.js\", \"https://cdn.pydata.org/bokeh/release/bokeh-gl-1.4.0.min.js\"];\n  var css_urls = [];\n  \n\n  var inline_js = [\n    function(Bokeh) {\n      Bokeh.set_log_level(\"info\");\n    },\n    function(Bokeh) {\n    \n    \n    }\n  ];\n\n  function run_inline_js() {\n    \n    if (root.Bokeh !== undefined || force === true) {\n      \n    for (var i = 0; i < inline_js.length; i++) {\n      inline_js[i].call(root, root.Bokeh);\n    }\n    if (force === true) {\n        display_loaded();\n      }} else if (Date.now() < root._bokeh_timeout) {\n      setTimeout(run_inline_js, 100);\n    } else if (!root._bokeh_failed_load) {\n      console.log(\"Bokeh: BokehJS failed to load within specified timeout.\");\n      root._bokeh_failed_load = true;\n    } else if (force !== true) {\n      var cell = $(document.getElementById(\"1001\")).parents('.cell').data().cell;\n      cell.output_area.append_execute_result(NB_LOAD_WARNING)\n    }\n\n  }\n\n  if (root._bokeh_is_loading === 0) {\n    console.debug(\"Bokeh: BokehJS loaded, going straight to plotting\");\n    run_inline_js();\n  } else {\n    load_libs(css_urls, js_urls, function() {\n      console.debug(\"Bokeh: BokehJS plotting callback run at\", now());\n      run_inline_js();\n    });\n  }\n}(window));"
     },
     "metadata": {},
     "output_type": "display_data"
    }
   ],
   "source": [
    "import hail as hl\n",
    "hl.init()\n",
    "from hail.plot import show\n",
    "from pprint import pprint\n",
    "hl.plot.output_notebook()"
   ]
  },
  {
   "cell_type": "code",
   "execution_count": null,
   "id": "d4b6417a",
   "metadata": {},
   "outputs": [],
   "source": []
  },
  {
   "cell_type": "code",
   "execution_count": 3,
   "id": "e79bf9e1",
   "metadata": {},
   "outputs": [],
   "source": [
    "# ゲノムデータを import します(読み込んだ時点でlocusでソートされる)"
   ]
  },
  {
   "cell_type": "code",
   "execution_count": 3,
   "id": "5ad58d66",
   "metadata": {},
   "outputs": [
    {
     "name": "stdout",
     "output_type": "stream",
     "text": [
      "(10860860, 104)\n"
     ]
    }
   ],
   "source": [
    "mt = hl.read_matrix_table('genome-data/1kg.JPT.chrAll.filtered.mt')\n",
    "print(mt.count())"
   ]
  },
  {
   "cell_type": "code",
   "execution_count": null,
   "id": "a40848a2",
   "metadata": {},
   "outputs": [],
   "source": []
  },
  {
   "cell_type": "code",
   "execution_count": 5,
   "id": "d58106a4",
   "metadata": {},
   "outputs": [],
   "source": [
    "#  ゲノムデータを人別に分割します"
   ]
  },
  {
   "cell_type": "code",
   "execution_count": 6,
   "id": "a5670038",
   "metadata": {},
   "outputs": [],
   "source": [
    "name_ids = mt.s.collect()\n",
    "dict_mt = {}\n",
    "\n",
    "for name_id in name_ids:\n",
    "    filter_mt = mt.filter_cols(mt.s == name_id)\n",
    "    dict_mt[name_id] = filter_mt"
   ]
  },
  {
   "cell_type": "code",
   "execution_count": 7,
   "id": "1b40b2ea",
   "metadata": {},
   "outputs": [
    {
     "name": "stdout",
     "output_type": "stream",
     "text": [
      "TEST_NA18939_TEST_NA18939 (10860860, 1)\n",
      "TEST_NA18940_TEST_NA18940 (10860860, 1)\n",
      "TEST_NA18941_TEST_NA18941 (10860860, 1)\n",
      "TEST_NA18942_TEST_NA18942 (10860860, 1)\n",
      "TEST_NA18943_TEST_NA18943 (10860860, 1)\n",
      "TEST_NA18944_TEST_NA18944 (10860860, 1)\n",
      "TEST_NA18945_TEST_NA18945 (10860860, 1)\n",
      "TEST_NA18946_TEST_NA18946 (10860860, 1)\n",
      "TEST_NA18947_TEST_NA18947 (10860860, 1)\n",
      "TEST_NA18948_TEST_NA18948 (10860860, 1)\n",
      "TEST_NA18949_TEST_NA18949 (10860860, 1)\n",
      "TEST_NA18950_TEST_NA18950 (10860860, 1)\n",
      "TEST_NA18951_TEST_NA18951 (10860860, 1)\n",
      "TEST_NA18952_TEST_NA18952 (10860860, 1)\n",
      "TEST_NA18953_TEST_NA18953 (10860860, 1)\n",
      "TEST_NA18954_TEST_NA18954 (10860860, 1)\n",
      "TEST_NA18955_TEST_NA18955 (10860860, 1)\n",
      "TEST_NA18956_TEST_NA18956 (10860860, 1)\n",
      "TEST_NA18957_TEST_NA18957 (10860860, 1)\n",
      "TEST_NA18959_TEST_NA18959 (10860860, 1)\n",
      "TEST_NA18960_TEST_NA18960 (10860860, 1)\n",
      "TEST_NA18961_TEST_NA18961 (10860860, 1)\n",
      "TEST_NA18962_TEST_NA18962 (10860860, 1)\n",
      "TEST_NA18963_TEST_NA18963 (10860860, 1)\n",
      "TEST_NA18964_TEST_NA18964 (10860860, 1)\n",
      "TEST_NA18965_TEST_NA18965 (10860860, 1)\n",
      "TEST_NA18966_TEST_NA18966 (10860860, 1)\n",
      "TEST_NA18967_TEST_NA18967 (10860860, 1)\n",
      "TEST_NA18968_TEST_NA18968 (10860860, 1)\n",
      "TEST_NA18969_TEST_NA18969 (10860860, 1)\n",
      "TEST_NA18970_TEST_NA18970 (10860860, 1)\n",
      "TEST_NA18971_TEST_NA18971 (10860860, 1)\n",
      "TEST_NA18972_TEST_NA18972 (10860860, 1)\n",
      "TEST_NA18973_TEST_NA18973 (10860860, 1)\n",
      "TEST_NA18974_TEST_NA18974 (10860860, 1)\n",
      "TEST_NA18975_TEST_NA18975 (10860860, 1)\n",
      "TEST_NA18977_TEST_NA18977 (10860860, 1)\n",
      "TEST_NA18978_TEST_NA18978 (10860860, 1)\n",
      "TEST_NA18979_TEST_NA18979 (10860860, 1)\n",
      "TEST_NA18980_TEST_NA18980 (10860860, 1)\n",
      "TEST_NA18981_TEST_NA18981 (10860860, 1)\n",
      "TEST_NA18982_TEST_NA18982 (10860860, 1)\n",
      "TEST_NA18983_TEST_NA18983 (10860860, 1)\n",
      "TEST_NA18984_TEST_NA18984 (10860860, 1)\n",
      "TEST_NA18985_TEST_NA18985 (10860860, 1)\n",
      "TEST_NA18986_TEST_NA18986 (10860860, 1)\n",
      "TEST_NA18987_TEST_NA18987 (10860860, 1)\n",
      "TEST_NA18988_TEST_NA18988 (10860860, 1)\n",
      "TEST_NA18989_TEST_NA18989 (10860860, 1)\n",
      "TEST_NA18990_TEST_NA18990 (10860860, 1)\n",
      "TEST_NA18991_TEST_NA18991 (10860860, 1)\n",
      "TEST_NA18992_TEST_NA18992 (10860860, 1)\n",
      "TEST_NA18993_TEST_NA18993 (10860860, 1)\n",
      "TEST_NA18994_TEST_NA18994 (10860860, 1)\n",
      "TEST_NA18995_TEST_NA18995 (10860860, 1)\n",
      "TEST_NA18997_TEST_NA18997 (10860860, 1)\n",
      "TEST_NA18998_TEST_NA18998 (10860860, 1)\n",
      "TEST_NA18999_TEST_NA18999 (10860860, 1)\n",
      "TEST_NA19000_TEST_NA19000 (10860860, 1)\n",
      "TEST_NA19001_TEST_NA19001 (10860860, 1)\n",
      "TEST_NA19002_TEST_NA19002 (10860860, 1)\n",
      "TEST_NA19003_TEST_NA19003 (10860860, 1)\n",
      "TEST_NA19004_TEST_NA19004 (10860860, 1)\n",
      "TEST_NA19005_TEST_NA19005 (10860860, 1)\n",
      "TEST_NA19006_TEST_NA19006 (10860860, 1)\n",
      "TEST_NA19007_TEST_NA19007 (10860860, 1)\n",
      "TEST_NA19009_TEST_NA19009 (10860860, 1)\n",
      "TEST_NA19010_TEST_NA19010 (10860860, 1)\n",
      "TEST_NA19011_TEST_NA19011 (10860860, 1)\n",
      "TEST_NA19012_TEST_NA19012 (10860860, 1)\n",
      "TEST_NA19054_TEST_NA19054 (10860860, 1)\n",
      "TEST_NA19055_TEST_NA19055 (10860860, 1)\n",
      "TEST_NA19056_TEST_NA19056 (10860860, 1)\n",
      "TEST_NA19057_TEST_NA19057 (10860860, 1)\n",
      "TEST_NA19058_TEST_NA19058 (10860860, 1)\n",
      "TEST_NA19059_TEST_NA19059 (10860860, 1)\n",
      "TEST_NA19060_TEST_NA19060 (10860860, 1)\n",
      "TEST_NA19062_TEST_NA19062 (10860860, 1)\n",
      "TEST_NA19063_TEST_NA19063 (10860860, 1)\n",
      "TEST_NA19064_TEST_NA19064 (10860860, 1)\n",
      "TEST_NA19065_TEST_NA19065 (10860860, 1)\n",
      "TEST_NA19066_TEST_NA19066 (10860860, 1)\n",
      "TEST_NA19067_TEST_NA19067 (10860860, 1)\n",
      "TEST_NA19068_TEST_NA19068 (10860860, 1)\n",
      "TEST_NA19070_TEST_NA19070 (10860860, 1)\n",
      "TEST_NA19072_TEST_NA19072 (10860860, 1)\n",
      "TEST_NA19074_TEST_NA19074 (10860860, 1)\n",
      "TEST_NA19075_TEST_NA19075 (10860860, 1)\n",
      "TEST_NA19076_TEST_NA19076 (10860860, 1)\n",
      "TEST_NA19077_TEST_NA19077 (10860860, 1)\n",
      "TEST_NA19078_TEST_NA19078 (10860860, 1)\n",
      "TEST_NA19079_TEST_NA19079 (10860860, 1)\n",
      "TEST_NA19080_TEST_NA19080 (10860860, 1)\n",
      "TEST_NA19081_TEST_NA19081 (10860860, 1)\n",
      "TEST_NA19082_TEST_NA19082 (10860860, 1)\n",
      "TEST_NA19083_TEST_NA19083 (10860860, 1)\n",
      "TEST_NA19084_TEST_NA19084 (10860860, 1)\n",
      "TEST_NA19085_TEST_NA19085 (10860860, 1)\n",
      "TEST_NA19086_TEST_NA19086 (10860860, 1)\n",
      "TEST_NA19087_TEST_NA19087 (10860860, 1)\n",
      "TEST_NA19088_TEST_NA19088 (10860860, 1)\n",
      "TEST_NA19089_TEST_NA19089 (10860860, 1)\n",
      "TEST_NA19090_TEST_NA19090 (10860860, 1)\n",
      "TEST_NA19091_TEST_NA19091 (10860860, 1)\n"
     ]
    }
   ],
   "source": [
    "for name_id in name_ids:\n",
    "    print(name_id, dict_mt[name_id].count())"
   ]
  },
  {
   "cell_type": "code",
   "execution_count": null,
   "id": "cecbaa26",
   "metadata": {},
   "outputs": [],
   "source": []
  },
  {
   "cell_type": "code",
   "execution_count": null,
   "id": "dfbd9c1b",
   "metadata": {
    "collapsed": true
   },
   "outputs": [],
   "source": [
    "# 軽量化のため不要な列及び行を削除します"
   ]
  },
  {
   "cell_type": "code",
   "execution_count": 11,
   "id": "81007119",
   "metadata": {},
   "outputs": [
    {
     "name": "stdout",
     "output_type": "stream",
     "text": [
      "----------------------------------------\n",
      "Global fields:\n",
      "    None\n",
      "----------------------------------------\n",
      "Column fields:\n",
      "    's': str\n",
      "----------------------------------------\n",
      "Row fields:\n",
      "    'locus': locus<GRCh37>\n",
      "    'alleles': array<str>\n",
      "    'rsid': str\n",
      "    'variantID': str\n",
      "----------------------------------------\n",
      "Entry fields:\n",
      "    'GT': call\n",
      "    'DS': float64\n",
      "----------------------------------------\n",
      "Column key: ['s']\n",
      "Row key: ['locus', 'alleles']\n",
      "----------------------------------------\n"
     ]
    }
   ],
   "source": [
    "droped_mt = {}\n",
    "\n",
    "for name_id in name_ids:\n",
    "    droped_mt[name_id] = dict_mt[name_id].drop('info', 'qual', 'filters')\n",
    "\n",
    "droped_mt[name_ids[0]].describe()"
   ]
  },
  {
   "cell_type": "code",
   "execution_count": null,
   "id": "21bcb6bd",
   "metadata": {},
   "outputs": [],
   "source": [
    "# is_non_refメソッドで影響因子を持たないアレルを取り除いています"
   ]
  },
  {
   "cell_type": "code",
   "execution_count": 13,
   "id": "35cebc8f",
   "metadata": {},
   "outputs": [
    {
     "name": "stderr",
     "output_type": "stream",
     "text": [
      "2023-10-19 10:51:53.041 Hail: WARN: entries(): Resulting entries table is sorted by '(row_key, col_key)'.\n",
      "    To preserve row-major matrix table order, first unkey columns with 'key_cols_by()'\n",
      "[Stage 0:=========================================>               (16 + 6) / 22]\r"
     ]
    },
    {
     "name": "stdout",
     "output_type": "stream",
     "text": [
      "TEST_NA18939_TEST_NA18939 3686708\n"
     ]
    },
    {
     "name": "stderr",
     "output_type": "stream",
     "text": [
      "[Stage 1:===================================================>     (20 + 2) / 22]\r"
     ]
    },
    {
     "name": "stdout",
     "output_type": "stream",
     "text": [
      "TEST_NA18940_TEST_NA18940 3709460\n"
     ]
    },
    {
     "name": "stderr",
     "output_type": "stream",
     "text": [
      "[Stage 2:======================================>                  (15 + 7) / 22]\r"
     ]
    },
    {
     "name": "stdout",
     "output_type": "stream",
     "text": [
      "TEST_NA18941_TEST_NA18941 3679977\n"
     ]
    },
    {
     "name": "stderr",
     "output_type": "stream",
     "text": [
      "[Stage 3:=========================================>               (16 + 6) / 22]\r"
     ]
    },
    {
     "name": "stdout",
     "output_type": "stream",
     "text": [
      "TEST_NA18942_TEST_NA18942 3704791\n"
     ]
    },
    {
     "name": "stderr",
     "output_type": "stream",
     "text": [
      "[Stage 4:==============================================>          (18 + 4) / 22]\r"
     ]
    },
    {
     "name": "stdout",
     "output_type": "stream",
     "text": [
      "TEST_NA18943_TEST_NA18943 3700720\n"
     ]
    },
    {
     "name": "stderr",
     "output_type": "stream",
     "text": [
      "[Stage 5:===================================================>     (20 + 2) / 22]\r"
     ]
    },
    {
     "name": "stdout",
     "output_type": "stream",
     "text": [
      "TEST_NA18944_TEST_NA18944 3684801\n"
     ]
    },
    {
     "name": "stderr",
     "output_type": "stream",
     "text": [
      "[Stage 6:==============================================>          (18 + 4) / 22]\r"
     ]
    },
    {
     "name": "stdout",
     "output_type": "stream",
     "text": [
      "TEST_NA18945_TEST_NA18945 3687481\n"
     ]
    },
    {
     "name": "stderr",
     "output_type": "stream",
     "text": [
      "[Stage 7:=========================================>               (16 + 6) / 22]\r"
     ]
    },
    {
     "name": "stdout",
     "output_type": "stream",
     "text": [
      "TEST_NA18946_TEST_NA18946 3700032\n"
     ]
    },
    {
     "name": "stderr",
     "output_type": "stream",
     "text": [
      "[Stage 8:==============================================>          (18 + 4) / 22]\r"
     ]
    },
    {
     "name": "stdout",
     "output_type": "stream",
     "text": [
      "TEST_NA18947_TEST_NA18947 3706768\n"
     ]
    },
    {
     "name": "stderr",
     "output_type": "stream",
     "text": [
      "[Stage 9:==============================================>          (18 + 4) / 22]\r"
     ]
    },
    {
     "name": "stdout",
     "output_type": "stream",
     "text": [
      "TEST_NA18948_TEST_NA18948 3683049\n"
     ]
    },
    {
     "name": "stderr",
     "output_type": "stream",
     "text": [
      "[Stage 10:========================================>               (16 + 6) / 22]\r"
     ]
    },
    {
     "name": "stdout",
     "output_type": "stream",
     "text": [
      "TEST_NA18949_TEST_NA18949 3680894\n"
     ]
    },
    {
     "name": "stderr",
     "output_type": "stream",
     "text": [
      "[Stage 11:==================================================>     (20 + 2) / 22]\r"
     ]
    },
    {
     "name": "stdout",
     "output_type": "stream",
     "text": [
      "TEST_NA18950_TEST_NA18950 3724478\n"
     ]
    },
    {
     "name": "stderr",
     "output_type": "stream",
     "text": [
      "[Stage 12:===========================================>            (17 + 5) / 22]\r"
     ]
    },
    {
     "name": "stdout",
     "output_type": "stream",
     "text": [
      "TEST_NA18951_TEST_NA18951 3715354\n"
     ]
    },
    {
     "name": "stderr",
     "output_type": "stream",
     "text": [
      "[Stage 13:========================================>               (16 + 6) / 22]\r"
     ]
    },
    {
     "name": "stdout",
     "output_type": "stream",
     "text": [
      "TEST_NA18952_TEST_NA18952 3685471\n"
     ]
    },
    {
     "name": "stderr",
     "output_type": "stream",
     "text": [
      "[Stage 14:=====================================================>  (21 + 1) / 22]\r"
     ]
    },
    {
     "name": "stdout",
     "output_type": "stream",
     "text": [
      "TEST_NA18953_TEST_NA18953 3674025\n"
     ]
    },
    {
     "name": "stderr",
     "output_type": "stream",
     "text": [
      "[Stage 15:================================================>       (19 + 3) / 22]\r"
     ]
    },
    {
     "name": "stdout",
     "output_type": "stream",
     "text": [
      "TEST_NA18954_TEST_NA18954 3695512\n"
     ]
    },
    {
     "name": "stderr",
     "output_type": "stream",
     "text": [
      "[Stage 16:==================================================>     (20 + 2) / 22]\r"
     ]
    },
    {
     "name": "stdout",
     "output_type": "stream",
     "text": [
      "TEST_NA18955_TEST_NA18955 3700056\n"
     ]
    },
    {
     "name": "stderr",
     "output_type": "stream",
     "text": [
      "[Stage 17:=============================================>          (18 + 4) / 22]\r"
     ]
    },
    {
     "name": "stdout",
     "output_type": "stream",
     "text": [
      "TEST_NA18956_TEST_NA18956 3695399\n"
     ]
    },
    {
     "name": "stderr",
     "output_type": "stream",
     "text": [
      "[Stage 18:===========================================>            (17 + 5) / 22]\r"
     ]
    },
    {
     "name": "stdout",
     "output_type": "stream",
     "text": [
      "TEST_NA18957_TEST_NA18957 3698914\n"
     ]
    },
    {
     "name": "stderr",
     "output_type": "stream",
     "text": [
      "[Stage 19:================================================>       (19 + 3) / 22]\r"
     ]
    },
    {
     "name": "stdout",
     "output_type": "stream",
     "text": [
      "TEST_NA18959_TEST_NA18959 3708618\n"
     ]
    },
    {
     "name": "stderr",
     "output_type": "stream",
     "text": [
      "[Stage 20:=====================================================>  (21 + 1) / 22]\r"
     ]
    },
    {
     "name": "stdout",
     "output_type": "stream",
     "text": [
      "TEST_NA18960_TEST_NA18960 3724022\n"
     ]
    },
    {
     "name": "stderr",
     "output_type": "stream",
     "text": [
      "[Stage 21:=============================================>          (18 + 4) / 22]\r"
     ]
    },
    {
     "name": "stdout",
     "output_type": "stream",
     "text": [
      "TEST_NA18961_TEST_NA18961 3680646\n"
     ]
    },
    {
     "name": "stderr",
     "output_type": "stream",
     "text": [
      "[Stage 22:========================================>               (16 + 6) / 22]\r"
     ]
    },
    {
     "name": "stdout",
     "output_type": "stream",
     "text": [
      "TEST_NA18962_TEST_NA18962 3698226\n"
     ]
    },
    {
     "name": "stderr",
     "output_type": "stream",
     "text": [
      "[Stage 23:========================================>               (16 + 6) / 22]\r"
     ]
    },
    {
     "name": "stdout",
     "output_type": "stream",
     "text": [
      "TEST_NA18963_TEST_NA18963 3713640\n"
     ]
    },
    {
     "name": "stderr",
     "output_type": "stream",
     "text": [
      "[Stage 24:===========================================>            (17 + 5) / 22]\r"
     ]
    },
    {
     "name": "stdout",
     "output_type": "stream",
     "text": [
      "TEST_NA18964_TEST_NA18964 3682991\n"
     ]
    },
    {
     "name": "stderr",
     "output_type": "stream",
     "text": [
      "[Stage 25:===========================================>            (17 + 5) / 22]\r"
     ]
    },
    {
     "name": "stdout",
     "output_type": "stream",
     "text": [
      "TEST_NA18965_TEST_NA18965 3700329\n"
     ]
    },
    {
     "name": "stderr",
     "output_type": "stream",
     "text": [
      "[Stage 26:========================================>               (16 + 6) / 22]\r"
     ]
    },
    {
     "name": "stdout",
     "output_type": "stream",
     "text": [
      "TEST_NA18966_TEST_NA18966 3714957\n"
     ]
    },
    {
     "name": "stderr",
     "output_type": "stream",
     "text": [
      "[Stage 27:=====================================================>  (21 + 1) / 22]\r"
     ]
    },
    {
     "name": "stdout",
     "output_type": "stream",
     "text": [
      "TEST_NA18967_TEST_NA18967 3689375\n"
     ]
    },
    {
     "name": "stderr",
     "output_type": "stream",
     "text": [
      "[Stage 28:===========================================>            (17 + 5) / 22]\r"
     ]
    },
    {
     "name": "stdout",
     "output_type": "stream",
     "text": [
      "TEST_NA18968_TEST_NA18968 3696269\n"
     ]
    },
    {
     "name": "stderr",
     "output_type": "stream",
     "text": [
      "[Stage 29:=============================================>          (18 + 4) / 22]\r"
     ]
    },
    {
     "name": "stdout",
     "output_type": "stream",
     "text": [
      "TEST_NA18969_TEST_NA18969 3665246\n"
     ]
    },
    {
     "name": "stderr",
     "output_type": "stream",
     "text": [
      "[Stage 30:=============================================>          (18 + 4) / 22]\r"
     ]
    },
    {
     "name": "stdout",
     "output_type": "stream",
     "text": [
      "TEST_NA18970_TEST_NA18970 3701286\n"
     ]
    },
    {
     "name": "stderr",
     "output_type": "stream",
     "text": [
      "[Stage 31:===========================================>            (17 + 5) / 22]\r"
     ]
    },
    {
     "name": "stdout",
     "output_type": "stream",
     "text": [
      "TEST_NA18971_TEST_NA18971 3700084\n"
     ]
    },
    {
     "name": "stderr",
     "output_type": "stream",
     "text": [
      "[Stage 32:=====================================================>  (21 + 1) / 22]\r"
     ]
    },
    {
     "name": "stdout",
     "output_type": "stream",
     "text": [
      "TEST_NA18972_TEST_NA18972 3692512\n"
     ]
    },
    {
     "name": "stderr",
     "output_type": "stream",
     "text": [
      "[Stage 33:================================================>       (19 + 3) / 22]\r"
     ]
    },
    {
     "name": "stdout",
     "output_type": "stream",
     "text": [
      "TEST_NA18973_TEST_NA18973 3702990\n"
     ]
    },
    {
     "name": "stderr",
     "output_type": "stream",
     "text": [
      "[Stage 34:======================================>                 (15 + 7) / 22]\r"
     ]
    },
    {
     "name": "stdout",
     "output_type": "stream",
     "text": [
      "TEST_NA18974_TEST_NA18974 3700357\n"
     ]
    },
    {
     "name": "stderr",
     "output_type": "stream",
     "text": [
      "[Stage 35:========================================>               (16 + 6) / 22]\r"
     ]
    },
    {
     "name": "stdout",
     "output_type": "stream",
     "text": [
      "TEST_NA18975_TEST_NA18975 3709397\n"
     ]
    },
    {
     "name": "stderr",
     "output_type": "stream",
     "text": [
      "[Stage 36:=============================================>          (18 + 4) / 22]\r"
     ]
    },
    {
     "name": "stdout",
     "output_type": "stream",
     "text": [
      "TEST_NA18977_TEST_NA18977 3708961\n"
     ]
    },
    {
     "name": "stderr",
     "output_type": "stream",
     "text": [
      "[Stage 37:===========================================>            (17 + 5) / 22]\r"
     ]
    },
    {
     "name": "stdout",
     "output_type": "stream",
     "text": [
      "TEST_NA18978_TEST_NA18978 3706391\n"
     ]
    },
    {
     "name": "stderr",
     "output_type": "stream",
     "text": [
      "[Stage 38:===========================================>            (17 + 5) / 22]\r"
     ]
    },
    {
     "name": "stdout",
     "output_type": "stream",
     "text": [
      "TEST_NA18979_TEST_NA18979 3705638\n"
     ]
    },
    {
     "name": "stderr",
     "output_type": "stream",
     "text": [
      "[Stage 39:===========================================>            (17 + 5) / 22]\r"
     ]
    },
    {
     "name": "stdout",
     "output_type": "stream",
     "text": [
      "TEST_NA18980_TEST_NA18980 3697705\n"
     ]
    },
    {
     "name": "stderr",
     "output_type": "stream",
     "text": [
      "[Stage 40:=====================================================>  (21 + 1) / 22]\r"
     ]
    },
    {
     "name": "stdout",
     "output_type": "stream",
     "text": [
      "TEST_NA18981_TEST_NA18981 3700636\n"
     ]
    },
    {
     "name": "stderr",
     "output_type": "stream",
     "text": [
      "[Stage 41:=====================================================>  (21 + 1) / 22]\r"
     ]
    },
    {
     "name": "stdout",
     "output_type": "stream",
     "text": [
      "TEST_NA18982_TEST_NA18982 3697783\n"
     ]
    },
    {
     "name": "stderr",
     "output_type": "stream",
     "text": [
      "[Stage 42:========================================>               (16 + 6) / 22]\r"
     ]
    },
    {
     "name": "stdout",
     "output_type": "stream",
     "text": [
      "TEST_NA18983_TEST_NA18983 3718995\n"
     ]
    },
    {
     "name": "stderr",
     "output_type": "stream",
     "text": [
      "[Stage 43:=====================================================>  (21 + 1) / 22]\r"
     ]
    },
    {
     "name": "stdout",
     "output_type": "stream",
     "text": [
      "TEST_NA18984_TEST_NA18984 3657451\n"
     ]
    },
    {
     "name": "stderr",
     "output_type": "stream",
     "text": [
      "[Stage 44:=============================================>          (18 + 4) / 22]\r"
     ]
    },
    {
     "name": "stdout",
     "output_type": "stream",
     "text": [
      "TEST_NA18985_TEST_NA18985 3693628\n"
     ]
    },
    {
     "name": "stderr",
     "output_type": "stream",
     "text": [
      "[Stage 45:===========================================>            (17 + 5) / 22]\r"
     ]
    },
    {
     "name": "stdout",
     "output_type": "stream",
     "text": [
      "TEST_NA18986_TEST_NA18986 3729893\n"
     ]
    },
    {
     "name": "stderr",
     "output_type": "stream",
     "text": [
      "[Stage 46:=============================================>          (18 + 4) / 22]\r"
     ]
    },
    {
     "name": "stdout",
     "output_type": "stream",
     "text": [
      "TEST_NA18987_TEST_NA18987 3638830\n"
     ]
    },
    {
     "name": "stderr",
     "output_type": "stream",
     "text": [
      "[Stage 47:=============================================>          (18 + 4) / 22]\r"
     ]
    },
    {
     "name": "stdout",
     "output_type": "stream",
     "text": [
      "TEST_NA18988_TEST_NA18988 3721343\n"
     ]
    },
    {
     "name": "stderr",
     "output_type": "stream",
     "text": [
      "[Stage 48:========================================>               (16 + 6) / 22]\r"
     ]
    },
    {
     "name": "stdout",
     "output_type": "stream",
     "text": [
      "TEST_NA18989_TEST_NA18989 3720782\n"
     ]
    },
    {
     "name": "stderr",
     "output_type": "stream",
     "text": [
      "[Stage 49:===========================================>            (17 + 5) / 22]\r"
     ]
    },
    {
     "name": "stdout",
     "output_type": "stream",
     "text": [
      "TEST_NA18990_TEST_NA18990 3699690\n"
     ]
    },
    {
     "name": "stderr",
     "output_type": "stream",
     "text": [
      "[Stage 50:===========================================>            (17 + 5) / 22]\r"
     ]
    },
    {
     "name": "stdout",
     "output_type": "stream",
     "text": [
      "TEST_NA18991_TEST_NA18991 3695085\n"
     ]
    },
    {
     "name": "stderr",
     "output_type": "stream",
     "text": [
      "[Stage 51:=============================================>          (18 + 4) / 22]\r"
     ]
    },
    {
     "name": "stdout",
     "output_type": "stream",
     "text": [
      "TEST_NA18992_TEST_NA18992 3610566\n"
     ]
    },
    {
     "name": "stderr",
     "output_type": "stream",
     "text": [
      "[Stage 52:================================================>       (19 + 3) / 22]\r"
     ]
    },
    {
     "name": "stdout",
     "output_type": "stream",
     "text": [
      "TEST_NA18993_TEST_NA18993 3694313\n"
     ]
    },
    {
     "name": "stderr",
     "output_type": "stream",
     "text": [
      "[Stage 53:===========================================>            (17 + 5) / 22]\r"
     ]
    },
    {
     "name": "stdout",
     "output_type": "stream",
     "text": [
      "TEST_NA18994_TEST_NA18994 3670496\n"
     ]
    },
    {
     "name": "stderr",
     "output_type": "stream",
     "text": [
      "[Stage 54:========================================>               (16 + 6) / 22]\r"
     ]
    },
    {
     "name": "stdout",
     "output_type": "stream",
     "text": [
      "TEST_NA18995_TEST_NA18995 3672165\n"
     ]
    },
    {
     "name": "stderr",
     "output_type": "stream",
     "text": [
      "[Stage 55:========================================>               (16 + 6) / 22]\r"
     ]
    },
    {
     "name": "stdout",
     "output_type": "stream",
     "text": [
      "TEST_NA18997_TEST_NA18997 3683641\n"
     ]
    },
    {
     "name": "stderr",
     "output_type": "stream",
     "text": [
      "[Stage 56:================================================>       (19 + 3) / 22]\r"
     ]
    },
    {
     "name": "stdout",
     "output_type": "stream",
     "text": [
      "TEST_NA18998_TEST_NA18998 3719176\n"
     ]
    },
    {
     "name": "stderr",
     "output_type": "stream",
     "text": [
      "[Stage 57:=============================================>          (18 + 4) / 22]\r"
     ]
    },
    {
     "name": "stdout",
     "output_type": "stream",
     "text": [
      "TEST_NA18999_TEST_NA18999 3693688\n"
     ]
    },
    {
     "name": "stderr",
     "output_type": "stream",
     "text": [
      "[Stage 58:========================================>               (16 + 6) / 22]\r"
     ]
    },
    {
     "name": "stdout",
     "output_type": "stream",
     "text": [
      "TEST_NA19000_TEST_NA19000 3724982\n"
     ]
    },
    {
     "name": "stderr",
     "output_type": "stream",
     "text": [
      "[Stage 59:=============================================>          (18 + 4) / 22]\r"
     ]
    },
    {
     "name": "stdout",
     "output_type": "stream",
     "text": [
      "TEST_NA19001_TEST_NA19001 3715119\n"
     ]
    },
    {
     "name": "stderr",
     "output_type": "stream",
     "text": [
      "[Stage 60:=============================================>          (18 + 4) / 22]\r"
     ]
    },
    {
     "name": "stdout",
     "output_type": "stream",
     "text": [
      "TEST_NA19002_TEST_NA19002 3690864\n"
     ]
    },
    {
     "name": "stderr",
     "output_type": "stream",
     "text": [
      "[Stage 61:=============================================>          (18 + 4) / 22]\r"
     ]
    },
    {
     "name": "stdout",
     "output_type": "stream",
     "text": [
      "TEST_NA19003_TEST_NA19003 3673894\n"
     ]
    },
    {
     "name": "stderr",
     "output_type": "stream",
     "text": [
      "[Stage 62:========================================>               (16 + 6) / 22]\r"
     ]
    },
    {
     "name": "stdout",
     "output_type": "stream",
     "text": [
      "TEST_NA19004_TEST_NA19004 3706133\n"
     ]
    },
    {
     "name": "stderr",
     "output_type": "stream",
     "text": [
      "[Stage 63:========================================>               (16 + 6) / 22]\r"
     ]
    },
    {
     "name": "stdout",
     "output_type": "stream",
     "text": [
      "TEST_NA19005_TEST_NA19005 3709416\n"
     ]
    },
    {
     "name": "stderr",
     "output_type": "stream",
     "text": [
      "[Stage 64:==================================================>     (20 + 2) / 22]\r"
     ]
    },
    {
     "name": "stdout",
     "output_type": "stream",
     "text": [
      "TEST_NA19006_TEST_NA19006 3698331\n"
     ]
    },
    {
     "name": "stderr",
     "output_type": "stream",
     "text": [
      "[Stage 65:=============================================>          (18 + 4) / 22]\r"
     ]
    },
    {
     "name": "stdout",
     "output_type": "stream",
     "text": [
      "TEST_NA19007_TEST_NA19007 3692309\n"
     ]
    },
    {
     "name": "stderr",
     "output_type": "stream",
     "text": [
      "[Stage 66:=============================================>          (18 + 4) / 22]\r"
     ]
    },
    {
     "name": "stdout",
     "output_type": "stream",
     "text": [
      "TEST_NA19009_TEST_NA19009 3702471\n"
     ]
    },
    {
     "name": "stderr",
     "output_type": "stream",
     "text": [
      "[Stage 67:=============================================>          (18 + 4) / 22]\r"
     ]
    },
    {
     "name": "stdout",
     "output_type": "stream",
     "text": [
      "TEST_NA19010_TEST_NA19010 3699016\n"
     ]
    },
    {
     "name": "stderr",
     "output_type": "stream",
     "text": [
      "[Stage 68:==================================================>     (20 + 2) / 22]\r"
     ]
    },
    {
     "name": "stdout",
     "output_type": "stream",
     "text": [
      "TEST_NA19011_TEST_NA19011 3715259\n"
     ]
    },
    {
     "name": "stderr",
     "output_type": "stream",
     "text": [
      "[Stage 69:=============================================>          (18 + 4) / 22]\r"
     ]
    },
    {
     "name": "stdout",
     "output_type": "stream",
     "text": [
      "TEST_NA19012_TEST_NA19012 3593996\n"
     ]
    },
    {
     "name": "stderr",
     "output_type": "stream",
     "text": [
      "[Stage 70:=============================================>          (18 + 4) / 22]\r"
     ]
    },
    {
     "name": "stdout",
     "output_type": "stream",
     "text": [
      "TEST_NA19054_TEST_NA19054 3701723\n"
     ]
    },
    {
     "name": "stderr",
     "output_type": "stream",
     "text": [
      "[Stage 71:===========================================>            (17 + 5) / 22]\r"
     ]
    },
    {
     "name": "stdout",
     "output_type": "stream",
     "text": [
      "TEST_NA19055_TEST_NA19055 3700060\n"
     ]
    },
    {
     "name": "stderr",
     "output_type": "stream",
     "text": [
      "[Stage 72:========================================>               (16 + 6) / 22]\r"
     ]
    },
    {
     "name": "stdout",
     "output_type": "stream",
     "text": [
      "TEST_NA19056_TEST_NA19056 3687158\n"
     ]
    },
    {
     "name": "stderr",
     "output_type": "stream",
     "text": [
      "[Stage 73:=============================================>          (18 + 4) / 22]\r"
     ]
    },
    {
     "name": "stdout",
     "output_type": "stream",
     "text": [
      "TEST_NA19057_TEST_NA19057 3693355\n"
     ]
    },
    {
     "name": "stderr",
     "output_type": "stream",
     "text": [
      "[Stage 74:================================================>       (19 + 3) / 22]\r"
     ]
    },
    {
     "name": "stdout",
     "output_type": "stream",
     "text": [
      "TEST_NA19058_TEST_NA19058 3692213\n"
     ]
    },
    {
     "name": "stderr",
     "output_type": "stream",
     "text": [
      "[Stage 75:=============================================>          (18 + 4) / 22]\r"
     ]
    },
    {
     "name": "stdout",
     "output_type": "stream",
     "text": [
      "TEST_NA19059_TEST_NA19059 3688058\n"
     ]
    },
    {
     "name": "stderr",
     "output_type": "stream",
     "text": [
      "[Stage 76:=============================================>          (18 + 4) / 22]\r"
     ]
    },
    {
     "name": "stdout",
     "output_type": "stream",
     "text": [
      "TEST_NA19060_TEST_NA19060 3695173\n"
     ]
    },
    {
     "name": "stderr",
     "output_type": "stream",
     "text": [
      "[Stage 77:================================================>       (19 + 3) / 22]\r"
     ]
    },
    {
     "name": "stdout",
     "output_type": "stream",
     "text": [
      "TEST_NA19062_TEST_NA19062 3699875\n"
     ]
    },
    {
     "name": "stderr",
     "output_type": "stream",
     "text": [
      "[Stage 78:=============================================>          (18 + 4) / 22]\r"
     ]
    },
    {
     "name": "stdout",
     "output_type": "stream",
     "text": [
      "TEST_NA19063_TEST_NA19063 3701760\n"
     ]
    },
    {
     "name": "stderr",
     "output_type": "stream",
     "text": [
      "[Stage 79:================================================>       (19 + 3) / 22]\r"
     ]
    },
    {
     "name": "stdout",
     "output_type": "stream",
     "text": [
      "TEST_NA19064_TEST_NA19064 3701346\n"
     ]
    },
    {
     "name": "stderr",
     "output_type": "stream",
     "text": [
      "[Stage 80:===========================================>            (17 + 5) / 22]\r"
     ]
    },
    {
     "name": "stdout",
     "output_type": "stream",
     "text": [
      "TEST_NA19065_TEST_NA19065 3696085\n"
     ]
    },
    {
     "name": "stderr",
     "output_type": "stream",
     "text": [
      "[Stage 81:==================================================>     (20 + 2) / 22]\r"
     ]
    },
    {
     "name": "stdout",
     "output_type": "stream",
     "text": [
      "TEST_NA19066_TEST_NA19066 3708007\n"
     ]
    },
    {
     "name": "stderr",
     "output_type": "stream",
     "text": [
      "[Stage 82:===========================================>            (17 + 5) / 22]\r"
     ]
    },
    {
     "name": "stdout",
     "output_type": "stream",
     "text": [
      "TEST_NA19067_TEST_NA19067 3709131\n"
     ]
    },
    {
     "name": "stderr",
     "output_type": "stream",
     "text": [
      "[Stage 83:=============================================>          (18 + 4) / 22]\r"
     ]
    },
    {
     "name": "stdout",
     "output_type": "stream",
     "text": [
      "TEST_NA19068_TEST_NA19068 3723282\n"
     ]
    },
    {
     "name": "stderr",
     "output_type": "stream",
     "text": [
      "[Stage 84:=============================================>          (18 + 4) / 22]\r"
     ]
    },
    {
     "name": "stdout",
     "output_type": "stream",
     "text": [
      "TEST_NA19070_TEST_NA19070 3689512\n"
     ]
    },
    {
     "name": "stderr",
     "output_type": "stream",
     "text": [
      "[Stage 85:=============================================>          (18 + 4) / 22]\r"
     ]
    },
    {
     "name": "stdout",
     "output_type": "stream",
     "text": [
      "TEST_NA19072_TEST_NA19072 3708930\n"
     ]
    },
    {
     "name": "stderr",
     "output_type": "stream",
     "text": [
      "[Stage 86:=============================================>          (18 + 4) / 22]\r"
     ]
    },
    {
     "name": "stdout",
     "output_type": "stream",
     "text": [
      "TEST_NA19074_TEST_NA19074 3687369\n"
     ]
    },
    {
     "name": "stderr",
     "output_type": "stream",
     "text": [
      "[Stage 87:===========================================>            (17 + 5) / 22]\r"
     ]
    },
    {
     "name": "stdout",
     "output_type": "stream",
     "text": [
      "TEST_NA19075_TEST_NA19075 3673786\n"
     ]
    },
    {
     "name": "stderr",
     "output_type": "stream",
     "text": [
      "[Stage 88:=====================================================>  (21 + 1) / 22]\r"
     ]
    },
    {
     "name": "stdout",
     "output_type": "stream",
     "text": [
      "TEST_NA19076_TEST_NA19076 3673526\n"
     ]
    },
    {
     "name": "stderr",
     "output_type": "stream",
     "text": [
      "[Stage 89:===========================================>            (17 + 5) / 22]\r"
     ]
    },
    {
     "name": "stdout",
     "output_type": "stream",
     "text": [
      "TEST_NA19077_TEST_NA19077 3701145\n"
     ]
    },
    {
     "name": "stderr",
     "output_type": "stream",
     "text": [
      "[Stage 90:===========================================>            (17 + 5) / 22]\r"
     ]
    },
    {
     "name": "stdout",
     "output_type": "stream",
     "text": [
      "TEST_NA19078_TEST_NA19078 3694670\n"
     ]
    },
    {
     "name": "stderr",
     "output_type": "stream",
     "text": [
      "[Stage 91:=============================================>          (18 + 4) / 22]\r"
     ]
    },
    {
     "name": "stdout",
     "output_type": "stream",
     "text": [
      "TEST_NA19079_TEST_NA19079 3685404\n"
     ]
    },
    {
     "name": "stderr",
     "output_type": "stream",
     "text": [
      "[Stage 92:=============================================>          (18 + 4) / 22]\r"
     ]
    },
    {
     "name": "stdout",
     "output_type": "stream",
     "text": [
      "TEST_NA19080_TEST_NA19080 3682761\n"
     ]
    },
    {
     "name": "stderr",
     "output_type": "stream",
     "text": [
      "[Stage 93:==================================================>     (20 + 2) / 22]\r"
     ]
    },
    {
     "name": "stdout",
     "output_type": "stream",
     "text": [
      "TEST_NA19081_TEST_NA19081 3692717\n"
     ]
    },
    {
     "name": "stderr",
     "output_type": "stream",
     "text": [
      "[Stage 94:===========================================>            (17 + 5) / 22]\r"
     ]
    },
    {
     "name": "stdout",
     "output_type": "stream",
     "text": [
      "TEST_NA19082_TEST_NA19082 3699332\n"
     ]
    },
    {
     "name": "stderr",
     "output_type": "stream",
     "text": [
      "[Stage 95:==================================================>     (20 + 2) / 22]\r"
     ]
    },
    {
     "name": "stdout",
     "output_type": "stream",
     "text": [
      "TEST_NA19083_TEST_NA19083 3703201\n"
     ]
    },
    {
     "name": "stderr",
     "output_type": "stream",
     "text": [
      "[Stage 96:=============================================>          (18 + 4) / 22]\r"
     ]
    },
    {
     "name": "stdout",
     "output_type": "stream",
     "text": [
      "TEST_NA19084_TEST_NA19084 3707867\n"
     ]
    },
    {
     "name": "stderr",
     "output_type": "stream",
     "text": [
      "[Stage 97:=============================================>          (18 + 4) / 22]\r"
     ]
    },
    {
     "name": "stdout",
     "output_type": "stream",
     "text": [
      "TEST_NA19085_TEST_NA19085 3723471\n"
     ]
    },
    {
     "name": "stderr",
     "output_type": "stream",
     "text": [
      "[Stage 98:=====================================================>  (21 + 1) / 22]\r"
     ]
    },
    {
     "name": "stdout",
     "output_type": "stream",
     "text": [
      "TEST_NA19086_TEST_NA19086 3691341\n"
     ]
    },
    {
     "name": "stderr",
     "output_type": "stream",
     "text": [
      "[Stage 99:================================================>       (19 + 3) / 22]\r"
     ]
    },
    {
     "name": "stdout",
     "output_type": "stream",
     "text": [
      "TEST_NA19087_TEST_NA19087 3695223\n"
     ]
    },
    {
     "name": "stderr",
     "output_type": "stream",
     "text": [
      "[Stage 100:====================================================>  (21 + 1) / 22]\r"
     ]
    },
    {
     "name": "stdout",
     "output_type": "stream",
     "text": [
      "TEST_NA19088_TEST_NA19088 3693599\n"
     ]
    },
    {
     "name": "stderr",
     "output_type": "stream",
     "text": [
      "[Stage 101:==================================================>    (20 + 2) / 22]\r"
     ]
    },
    {
     "name": "stdout",
     "output_type": "stream",
     "text": [
      "TEST_NA19089_TEST_NA19089 3689131\n"
     ]
    },
    {
     "name": "stderr",
     "output_type": "stream",
     "text": [
      "[Stage 102:====================================================>  (21 + 1) / 22]\r"
     ]
    },
    {
     "name": "stdout",
     "output_type": "stream",
     "text": [
      "TEST_NA19090_TEST_NA19090 3696773\n"
     ]
    },
    {
     "name": "stderr",
     "output_type": "stream",
     "text": [
      "[Stage 103:=====================================>                 (15 + 7) / 22]\r"
     ]
    },
    {
     "name": "stdout",
     "output_type": "stream",
     "text": [
      "TEST_NA19091_TEST_NA19091 3678828\n"
     ]
    },
    {
     "name": "stderr",
     "output_type": "stream",
     "text": [
      "\r",
      "[Stage 103:===============================================>       (19 + 3) / 22]\r"
     ]
    }
   ],
   "source": [
    "filtered_mt = {}\n",
    "\n",
    "for name_id in name_ids:\n",
    "    filtered_mt[name_id] = droped_mt[name_id].filter_entries(droped_mt[name_id].GT.is_non_ref())\n",
    "    print(name_id, filtered_mt[name_id].entries().count())"
   ]
  },
  {
   "cell_type": "code",
   "execution_count": null,
   "id": "709c0e8c",
   "metadata": {},
   "outputs": [],
   "source": []
  },
  {
   "cell_type": "code",
   "execution_count": null,
   "id": "0babff78",
   "metadata": {},
   "outputs": [],
   "source": [
    "# 加工したゲノムデータをテキストデータに保存します"
   ]
  },
  {
   "cell_type": "code",
   "execution_count": 15,
   "id": "2a591248",
   "metadata": {},
   "outputs": [
    {
     "name": "stderr",
     "output_type": "stream",
     "text": [
      "2023-10-19 11:00:54.957 Hail: INFO: merging 23 files totalling 303.5M...2) / 22]\n",
      "2023-10-19 11:00:55.433 Hail: INFO: while writing:\n",
      "    filtered_chrAll_genome-data/TEST_NA18939_TEST_NA18939.txt\n",
      "  merge time: 475.425ms\n"
     ]
    },
    {
     "name": "stdout",
     "output_type": "stream",
     "text": [
      "TEST_NA18939_TEST_NA18939 export complete!\n"
     ]
    },
    {
     "name": "stderr",
     "output_type": "stream",
     "text": [
      "2023-10-19 11:01:05.423 Hail: INFO: merging 23 files totalling 305.4M...1) / 22]\n",
      "2023-10-19 11:01:05.898 Hail: INFO: while writing:\n",
      "    filtered_chrAll_genome-data/TEST_NA18940_TEST_NA18940.txt\n",
      "  merge time: 475.404ms\n"
     ]
    },
    {
     "name": "stdout",
     "output_type": "stream",
     "text": [
      "TEST_NA18940_TEST_NA18940 export complete!\n"
     ]
    },
    {
     "name": "stderr",
     "output_type": "stream",
     "text": [
      "2023-10-19 11:01:16.819 Hail: INFO: merging 23 files totalling 303.0M...1) / 22]\n",
      "2023-10-19 11:01:17.311 Hail: INFO: while writing:\n",
      "    filtered_chrAll_genome-data/TEST_NA18941_TEST_NA18941.txt\n",
      "  merge time: 491.751ms\n"
     ]
    },
    {
     "name": "stdout",
     "output_type": "stream",
     "text": [
      "TEST_NA18941_TEST_NA18941 export complete!\n"
     ]
    },
    {
     "name": "stderr",
     "output_type": "stream",
     "text": [
      "2023-10-19 11:01:27.632 Hail: INFO: merging 23 files totalling 305.0M...2) / 22]\n",
      "2023-10-19 11:01:28.137 Hail: INFO: while writing:\n",
      "    filtered_chrAll_genome-data/TEST_NA18942_TEST_NA18942.txt\n",
      "  merge time: 505.275ms\n"
     ]
    },
    {
     "name": "stdout",
     "output_type": "stream",
     "text": [
      "TEST_NA18942_TEST_NA18942 export complete!\n"
     ]
    },
    {
     "name": "stderr",
     "output_type": "stream",
     "text": [
      "2023-10-19 11:01:38.486 Hail: INFO: merging 23 files totalling 304.7M...1) / 22]\n",
      "2023-10-19 11:01:38.870 Hail: INFO: while writing:\n",
      "    filtered_chrAll_genome-data/TEST_NA18943_TEST_NA18943.txt\n",
      "  merge time: 383.711ms\n"
     ]
    },
    {
     "name": "stdout",
     "output_type": "stream",
     "text": [
      "TEST_NA18943_TEST_NA18943 export complete!\n"
     ]
    },
    {
     "name": "stderr",
     "output_type": "stream",
     "text": [
      "2023-10-19 11:01:49.171 Hail: INFO: merging 23 files totalling 303.4M...3) / 22]\n",
      "2023-10-19 11:01:49.583 Hail: INFO: while writing:\n",
      "    filtered_chrAll_genome-data/TEST_NA18944_TEST_NA18944.txt\n",
      "  merge time: 411.739ms\n"
     ]
    },
    {
     "name": "stdout",
     "output_type": "stream",
     "text": [
      "TEST_NA18944_TEST_NA18944 export complete!\n"
     ]
    },
    {
     "name": "stderr",
     "output_type": "stream",
     "text": [
      "2023-10-19 11:01:59.752 Hail: INFO: merging 23 files totalling 303.6M...1) / 22]\n",
      "2023-10-19 11:02:00.136 Hail: INFO: while writing:\n",
      "    filtered_chrAll_genome-data/TEST_NA18945_TEST_NA18945.txt\n",
      "  merge time: 383.572ms\n"
     ]
    },
    {
     "name": "stdout",
     "output_type": "stream",
     "text": [
      "TEST_NA18945_TEST_NA18945 export complete!\n"
     ]
    },
    {
     "name": "stderr",
     "output_type": "stream",
     "text": [
      "2023-10-19 11:02:10.541 Hail: INFO: merging 23 files totalling 304.6M...1) / 22]\n",
      "2023-10-19 11:02:10.905 Hail: INFO: while writing:\n",
      "    filtered_chrAll_genome-data/TEST_NA18946_TEST_NA18946.txt\n",
      "  merge time: 363.829ms\n"
     ]
    },
    {
     "name": "stdout",
     "output_type": "stream",
     "text": [
      "TEST_NA18946_TEST_NA18946 export complete!\n"
     ]
    },
    {
     "name": "stderr",
     "output_type": "stream",
     "text": [
      "2023-10-19 11:02:21.410 Hail: INFO: merging 23 files totalling 305.2M...1) / 22]\n",
      "2023-10-19 11:02:21.860 Hail: INFO: while writing:\n",
      "    filtered_chrAll_genome-data/TEST_NA18947_TEST_NA18947.txt\n",
      "  merge time: 450.350ms\n"
     ]
    },
    {
     "name": "stdout",
     "output_type": "stream",
     "text": [
      "TEST_NA18947_TEST_NA18947 export complete!\n"
     ]
    },
    {
     "name": "stderr",
     "output_type": "stream",
     "text": [
      "2023-10-19 11:02:32.411 Hail: INFO: merging 23 files totalling 303.2M...1) / 22]\n",
      "2023-10-19 11:02:32.761 Hail: INFO: while writing:\n",
      "    filtered_chrAll_genome-data/TEST_NA18948_TEST_NA18948.txt\n",
      "  merge time: 349.841ms\n"
     ]
    },
    {
     "name": "stdout",
     "output_type": "stream",
     "text": [
      "TEST_NA18948_TEST_NA18948 export complete!\n"
     ]
    },
    {
     "name": "stderr",
     "output_type": "stream",
     "text": [
      "2023-10-19 11:02:42.815 Hail: INFO: merging 23 files totalling 303.0M...2) / 22]\n",
      "2023-10-19 11:02:43.228 Hail: INFO: while writing:\n",
      "    filtered_chrAll_genome-data/TEST_NA18949_TEST_NA18949.txt\n",
      "  merge time: 412.254ms\n"
     ]
    },
    {
     "name": "stdout",
     "output_type": "stream",
     "text": [
      "TEST_NA18949_TEST_NA18949 export complete!\n"
     ]
    },
    {
     "name": "stderr",
     "output_type": "stream",
     "text": [
      "2023-10-19 11:02:52.995 Hail: INFO: merging 23 files totalling 306.6M...3) / 22]\n",
      "2023-10-19 11:02:53.350 Hail: INFO: while writing:\n",
      "    filtered_chrAll_genome-data/TEST_NA18950_TEST_NA18950.txt\n",
      "  merge time: 355.079ms\n"
     ]
    },
    {
     "name": "stdout",
     "output_type": "stream",
     "text": [
      "TEST_NA18950_TEST_NA18950 export complete!\n"
     ]
    },
    {
     "name": "stderr",
     "output_type": "stream",
     "text": [
      "2023-10-19 11:03:03.214 Hail: INFO: merging 23 files totalling 305.9M...1) / 22]\n",
      "2023-10-19 11:03:03.588 Hail: INFO: while writing:\n",
      "    filtered_chrAll_genome-data/TEST_NA18951_TEST_NA18951.txt\n",
      "  merge time: 373.500ms\n"
     ]
    },
    {
     "name": "stdout",
     "output_type": "stream",
     "text": [
      "TEST_NA18951_TEST_NA18951 export complete!\n"
     ]
    },
    {
     "name": "stderr",
     "output_type": "stream",
     "text": [
      "2023-10-19 11:03:13.432 Hail: INFO: merging 23 files totalling 303.4M...1) / 22]\n",
      "2023-10-19 11:03:13.805 Hail: INFO: while writing:\n",
      "    filtered_chrAll_genome-data/TEST_NA18952_TEST_NA18952.txt\n",
      "  merge time: 368.892ms\n"
     ]
    },
    {
     "name": "stdout",
     "output_type": "stream",
     "text": [
      "TEST_NA18952_TEST_NA18952 export complete!\n"
     ]
    },
    {
     "name": "stderr",
     "output_type": "stream",
     "text": [
      "2023-10-19 11:03:23.704 Hail: INFO: merging 23 files totalling 302.5M...1) / 22]\n",
      "2023-10-19 11:03:24.055 Hail: INFO: while writing:\n",
      "    filtered_chrAll_genome-data/TEST_NA18953_TEST_NA18953.txt\n",
      "  merge time: 350.599ms\n"
     ]
    },
    {
     "name": "stdout",
     "output_type": "stream",
     "text": [
      "TEST_NA18953_TEST_NA18953 export complete!\n"
     ]
    },
    {
     "name": "stderr",
     "output_type": "stream",
     "text": [
      "2023-10-19 11:03:33.939 Hail: INFO: merging 23 files totalling 304.3M...3) / 22]\n",
      "2023-10-19 11:03:34.357 Hail: INFO: while writing:\n",
      "    filtered_chrAll_genome-data/TEST_NA18954_TEST_NA18954.txt\n",
      "  merge time: 417.775ms\n"
     ]
    },
    {
     "name": "stdout",
     "output_type": "stream",
     "text": [
      "TEST_NA18954_TEST_NA18954 export complete!\n"
     ]
    },
    {
     "name": "stderr",
     "output_type": "stream",
     "text": [
      "2023-10-19 11:03:44.816 Hail: INFO: merging 23 files totalling 304.6M...1) / 22]\n",
      "2023-10-19 11:03:45.233 Hail: INFO: while writing:\n",
      "    filtered_chrAll_genome-data/TEST_NA18955_TEST_NA18955.txt\n",
      "  merge time: 415.856ms\n"
     ]
    },
    {
     "name": "stdout",
     "output_type": "stream",
     "text": [
      "TEST_NA18955_TEST_NA18955 export complete!\n"
     ]
    },
    {
     "name": "stderr",
     "output_type": "stream",
     "text": [
      "2023-10-19 11:03:55.457 Hail: INFO: merging 23 files totalling 304.2M...2) / 22]\n",
      "2023-10-19 11:03:55.872 Hail: INFO: while writing:\n",
      "    filtered_chrAll_genome-data/TEST_NA18956_TEST_NA18956.txt\n",
      "  merge time: 414.379ms\n"
     ]
    },
    {
     "name": "stdout",
     "output_type": "stream",
     "text": [
      "TEST_NA18956_TEST_NA18956 export complete!\n"
     ]
    },
    {
     "name": "stderr",
     "output_type": "stream",
     "text": [
      "2023-10-19 11:04:06.784 Hail: INFO: merging 23 files totalling 304.5M...2) / 22]\n",
      "2023-10-19 11:04:07.235 Hail: INFO: while writing:\n",
      "    filtered_chrAll_genome-data/TEST_NA18957_TEST_NA18957.txt\n",
      "  merge time: 450.682ms\n"
     ]
    },
    {
     "name": "stdout",
     "output_type": "stream",
     "text": [
      "TEST_NA18957_TEST_NA18957 export complete!\n"
     ]
    },
    {
     "name": "stderr",
     "output_type": "stream",
     "text": [
      "2023-10-19 11:04:17.745 Hail: INFO: merging 23 files totalling 305.3M...1) / 22]\n",
      "2023-10-19 11:04:18.159 Hail: INFO: while writing:\n",
      "    filtered_chrAll_genome-data/TEST_NA18959_TEST_NA18959.txt\n",
      "  merge time: 410.933ms\n"
     ]
    },
    {
     "name": "stdout",
     "output_type": "stream",
     "text": [
      "TEST_NA18959_TEST_NA18959 export complete!\n"
     ]
    },
    {
     "name": "stderr",
     "output_type": "stream",
     "text": [
      "2023-10-19 11:04:27.970 Hail: INFO: merging 23 files totalling 306.6M...1) / 22]\n",
      "2023-10-19 11:04:28.370 Hail: INFO: while writing:\n",
      "    filtered_chrAll_genome-data/TEST_NA18960_TEST_NA18960.txt\n",
      "  merge time: 400.171ms\n"
     ]
    },
    {
     "name": "stdout",
     "output_type": "stream",
     "text": [
      "TEST_NA18960_TEST_NA18960 export complete!\n"
     ]
    },
    {
     "name": "stderr",
     "output_type": "stream",
     "text": [
      "2023-10-19 11:04:38.104 Hail: INFO: merging 23 files totalling 303.0M...3) / 22]\n",
      "2023-10-19 11:04:38.460 Hail: INFO: while writing:\n",
      "    filtered_chrAll_genome-data/TEST_NA18961_TEST_NA18961.txt\n",
      "  merge time: 356.480ms\n"
     ]
    },
    {
     "name": "stdout",
     "output_type": "stream",
     "text": [
      "TEST_NA18961_TEST_NA18961 export complete!\n"
     ]
    },
    {
     "name": "stderr",
     "output_type": "stream",
     "text": [
      "2023-10-19 11:04:48.610 Hail: INFO: merging 23 files totalling 304.5M...2) / 22]\n",
      "2023-10-19 11:04:48.988 Hail: INFO: while writing:\n",
      "    filtered_chrAll_genome-data/TEST_NA18962_TEST_NA18962.txt\n",
      "  merge time: 377.090ms\n"
     ]
    },
    {
     "name": "stdout",
     "output_type": "stream",
     "text": [
      "TEST_NA18962_TEST_NA18962 export complete!\n"
     ]
    },
    {
     "name": "stderr",
     "output_type": "stream",
     "text": [
      "2023-10-19 11:04:58.842 Hail: INFO: merging 23 files totalling 305.7M...1) / 22]\n",
      "2023-10-19 11:04:59.251 Hail: INFO: while writing:\n",
      "    filtered_chrAll_genome-data/TEST_NA18963_TEST_NA18963.txt\n",
      "  merge time: 408.949ms\n"
     ]
    },
    {
     "name": "stdout",
     "output_type": "stream",
     "text": [
      "TEST_NA18963_TEST_NA18963 export complete!\n"
     ]
    },
    {
     "name": "stderr",
     "output_type": "stream",
     "text": [
      "2023-10-19 11:05:09.162 Hail: INFO: merging 23 files totalling 303.2M...1) / 22]\n",
      "2023-10-19 11:05:09.621 Hail: INFO: while writing:\n",
      "    filtered_chrAll_genome-data/TEST_NA18964_TEST_NA18964.txt\n",
      "  merge time: 455.629ms\n"
     ]
    },
    {
     "name": "stdout",
     "output_type": "stream",
     "text": [
      "TEST_NA18964_TEST_NA18964 export complete!\n"
     ]
    },
    {
     "name": "stderr",
     "output_type": "stream",
     "text": [
      "2023-10-19 11:05:19.430 Hail: INFO: merging 23 files totalling 304.6M...2) / 22]\n",
      "2023-10-19 11:05:19.805 Hail: INFO: while writing:\n",
      "    filtered_chrAll_genome-data/TEST_NA18965_TEST_NA18965.txt\n",
      "  merge time: 375.396ms\n"
     ]
    },
    {
     "name": "stdout",
     "output_type": "stream",
     "text": [
      "TEST_NA18965_TEST_NA18965 export complete!\n"
     ]
    },
    {
     "name": "stderr",
     "output_type": "stream",
     "text": [
      "2023-10-19 11:05:29.796 Hail: INFO: merging 23 files totalling 305.9M...1) / 22]\n",
      "2023-10-19 11:05:30.195 Hail: INFO: while writing:\n",
      "    filtered_chrAll_genome-data/TEST_NA18966_TEST_NA18966.txt\n",
      "  merge time: 398.845ms\n"
     ]
    },
    {
     "name": "stdout",
     "output_type": "stream",
     "text": [
      "TEST_NA18966_TEST_NA18966 export complete!\n"
     ]
    },
    {
     "name": "stderr",
     "output_type": "stream",
     "text": [
      "2023-10-19 11:05:40.075 Hail: INFO: merging 23 files totalling 303.7M...2) / 22]\n",
      "2023-10-19 11:05:40.459 Hail: INFO: while writing:\n",
      "    filtered_chrAll_genome-data/TEST_NA18967_TEST_NA18967.txt\n",
      "  merge time: 383.834ms\n"
     ]
    },
    {
     "name": "stdout",
     "output_type": "stream",
     "text": [
      "TEST_NA18967_TEST_NA18967 export complete!\n"
     ]
    },
    {
     "name": "stderr",
     "output_type": "stream",
     "text": [
      "2023-10-19 11:05:50.345 Hail: INFO: merging 23 files totalling 304.3M...1) / 22]\n",
      "2023-10-19 11:05:50.736 Hail: INFO: while writing:\n",
      "    filtered_chrAll_genome-data/TEST_NA18968_TEST_NA18968.txt\n",
      "  merge time: 391.286ms\n"
     ]
    },
    {
     "name": "stdout",
     "output_type": "stream",
     "text": [
      "TEST_NA18968_TEST_NA18968 export complete!\n"
     ]
    },
    {
     "name": "stderr",
     "output_type": "stream",
     "text": [
      "2023-10-19 11:06:00.813 Hail: INFO: merging 23 files totalling 301.8M...1) / 22]\n",
      "2023-10-19 11:06:01.238 Hail: INFO: while writing:\n",
      "    filtered_chrAll_genome-data/TEST_NA18969_TEST_NA18969.txt\n",
      "  merge time: 425.406ms\n"
     ]
    },
    {
     "name": "stdout",
     "output_type": "stream",
     "text": [
      "TEST_NA18969_TEST_NA18969 export complete!\n"
     ]
    },
    {
     "name": "stderr",
     "output_type": "stream",
     "text": [
      "2023-10-19 11:06:11.173 Hail: INFO: merging 23 files totalling 304.7M...3) / 22]\n",
      "2023-10-19 11:06:11.538 Hail: INFO: while writing:\n",
      "    filtered_chrAll_genome-data/TEST_NA18970_TEST_NA18970.txt\n",
      "  merge time: 365.604ms\n"
     ]
    },
    {
     "name": "stdout",
     "output_type": "stream",
     "text": [
      "TEST_NA18970_TEST_NA18970 export complete!\n"
     ]
    },
    {
     "name": "stderr",
     "output_type": "stream",
     "text": [
      "2023-10-19 11:06:21.693 Hail: INFO: merging 23 files totalling 304.6M...3) / 22]\n",
      "2023-10-19 11:06:22.083 Hail: INFO: while writing:\n",
      "    filtered_chrAll_genome-data/TEST_NA18971_TEST_NA18971.txt\n",
      "  merge time: 389.715ms\n"
     ]
    },
    {
     "name": "stdout",
     "output_type": "stream",
     "text": [
      "TEST_NA18971_TEST_NA18971 export complete!\n"
     ]
    },
    {
     "name": "stderr",
     "output_type": "stream",
     "text": [
      "2023-10-19 11:06:32.105 Hail: INFO: merging 23 files totalling 304.0M...3) / 22]\n",
      "2023-10-19 11:06:32.464 Hail: INFO: while writing:\n",
      "    filtered_chrAll_genome-data/TEST_NA18972_TEST_NA18972.txt\n",
      "  merge time: 358.590ms\n"
     ]
    },
    {
     "name": "stdout",
     "output_type": "stream",
     "text": [
      "TEST_NA18972_TEST_NA18972 export complete!\n"
     ]
    },
    {
     "name": "stderr",
     "output_type": "stream",
     "text": [
      "2023-10-19 11:06:42.380 Hail: INFO: merging 23 files totalling 304.9M...2) / 22]\n",
      "2023-10-19 11:06:42.745 Hail: INFO: while writing:\n",
      "    filtered_chrAll_genome-data/TEST_NA18973_TEST_NA18973.txt\n",
      "  merge time: 364.502ms\n"
     ]
    },
    {
     "name": "stdout",
     "output_type": "stream",
     "text": [
      "TEST_NA18973_TEST_NA18973 export complete!\n"
     ]
    },
    {
     "name": "stderr",
     "output_type": "stream",
     "text": [
      "2023-10-19 11:06:52.961 Hail: INFO: merging 23 files totalling 304.7M...1) / 22]\n",
      "2023-10-19 11:06:53.360 Hail: INFO: while writing:\n",
      "    filtered_chrAll_genome-data/TEST_NA18974_TEST_NA18974.txt\n",
      "  merge time: 399.107ms\n"
     ]
    },
    {
     "name": "stdout",
     "output_type": "stream",
     "text": [
      "TEST_NA18974_TEST_NA18974 export complete!\n"
     ]
    },
    {
     "name": "stderr",
     "output_type": "stream",
     "text": [
      "2023-10-19 11:07:03.460 Hail: INFO: merging 23 files totalling 305.4M...1) / 22]\n",
      "2023-10-19 11:07:03.983 Hail: INFO: while writing:\n",
      "    filtered_chrAll_genome-data/TEST_NA18975_TEST_NA18975.txt\n",
      "  merge time: 522.905ms\n"
     ]
    },
    {
     "name": "stdout",
     "output_type": "stream",
     "text": [
      "TEST_NA18975_TEST_NA18975 export complete!\n"
     ]
    },
    {
     "name": "stderr",
     "output_type": "stream",
     "text": [
      "2023-10-19 11:07:14.444 Hail: INFO: merging 23 files totalling 305.4M...2) / 22]\n",
      "2023-10-19 11:07:14.855 Hail: INFO: while writing:\n",
      "    filtered_chrAll_genome-data/TEST_NA18977_TEST_NA18977.txt\n",
      "  merge time: 411.535ms\n"
     ]
    },
    {
     "name": "stdout",
     "output_type": "stream",
     "text": [
      "TEST_NA18977_TEST_NA18977 export complete!\n"
     ]
    },
    {
     "name": "stderr",
     "output_type": "stream",
     "text": [
      "2023-10-19 11:07:24.927 Hail: INFO: merging 23 files totalling 305.2M...2) / 22]\n",
      "2023-10-19 11:07:25.295 Hail: INFO: while writing:\n",
      "    filtered_chrAll_genome-data/TEST_NA18978_TEST_NA18978.txt\n",
      "  merge time: 367.743ms\n"
     ]
    },
    {
     "name": "stdout",
     "output_type": "stream",
     "text": [
      "TEST_NA18978_TEST_NA18978 export complete!\n"
     ]
    },
    {
     "name": "stderr",
     "output_type": "stream",
     "text": [
      "2023-10-19 11:07:35.443 Hail: INFO: merging 23 files totalling 305.1M...1) / 22]\n",
      "2023-10-19 11:07:35.796 Hail: INFO: while writing:\n",
      "    filtered_chrAll_genome-data/TEST_NA18979_TEST_NA18979.txt\n",
      "  merge time: 352.878ms\n"
     ]
    },
    {
     "name": "stdout",
     "output_type": "stream",
     "text": [
      "TEST_NA18979_TEST_NA18979 export complete!\n"
     ]
    },
    {
     "name": "stderr",
     "output_type": "stream",
     "text": [
      "2023-10-19 11:07:45.998 Hail: INFO: merging 23 files totalling 304.5M...1) / 22]\n",
      "2023-10-19 11:07:46.363 Hail: INFO: while writing:\n",
      "    filtered_chrAll_genome-data/TEST_NA18980_TEST_NA18980.txt\n",
      "  merge time: 364.811ms\n"
     ]
    },
    {
     "name": "stdout",
     "output_type": "stream",
     "text": [
      "TEST_NA18980_TEST_NA18980 export complete!\n"
     ]
    },
    {
     "name": "stderr",
     "output_type": "stream",
     "text": [
      "2023-10-19 11:07:57.047 Hail: INFO: merging 23 files totalling 304.7M...1) / 22]\n",
      "2023-10-19 11:07:57.449 Hail: INFO: while writing:\n",
      "    filtered_chrAll_genome-data/TEST_NA18981_TEST_NA18981.txt\n",
      "  merge time: 401.490ms\n"
     ]
    },
    {
     "name": "stdout",
     "output_type": "stream",
     "text": [
      "TEST_NA18981_TEST_NA18981 export complete!\n"
     ]
    },
    {
     "name": "stderr",
     "output_type": "stream",
     "text": [
      "2023-10-19 11:08:08.107 Hail: INFO: merging 23 files totalling 304.4M...1) / 22]\n",
      "2023-10-19 11:08:08.454 Hail: INFO: while writing:\n",
      "    filtered_chrAll_genome-data/TEST_NA18982_TEST_NA18982.txt\n",
      "  merge time: 343.021ms\n"
     ]
    },
    {
     "name": "stdout",
     "output_type": "stream",
     "text": [
      "TEST_NA18982_TEST_NA18982 export complete!\n"
     ]
    },
    {
     "name": "stderr",
     "output_type": "stream",
     "text": [
      "2023-10-19 11:08:18.420 Hail: INFO: merging 23 files totalling 306.2M...1) / 22]\n",
      "2023-10-19 11:08:18.815 Hail: INFO: while writing:\n",
      "    filtered_chrAll_genome-data/TEST_NA18983_TEST_NA18983.txt\n",
      "  merge time: 394.820ms\n"
     ]
    },
    {
     "name": "stdout",
     "output_type": "stream",
     "text": [
      "TEST_NA18983_TEST_NA18983 export complete!\n"
     ]
    },
    {
     "name": "stderr",
     "output_type": "stream",
     "text": [
      "2023-10-19 11:08:28.860 Hail: INFO: merging 23 files totalling 301.1M...1) / 22]\n",
      "2023-10-19 11:08:29.259 Hail: INFO: while writing:\n",
      "    filtered_chrAll_genome-data/TEST_NA18984_TEST_NA18984.txt\n",
      "  merge time: 398.682ms\n"
     ]
    },
    {
     "name": "stdout",
     "output_type": "stream",
     "text": [
      "TEST_NA18984_TEST_NA18984 export complete!\n"
     ]
    },
    {
     "name": "stderr",
     "output_type": "stream",
     "text": [
      "2023-10-19 11:08:39.397 Hail: INFO: merging 23 files totalling 304.1M...2) / 22]\n",
      "2023-10-19 11:08:39.803 Hail: INFO: while writing:\n",
      "    filtered_chrAll_genome-data/TEST_NA18985_TEST_NA18985.txt\n",
      "  merge time: 405.618ms\n"
     ]
    },
    {
     "name": "stdout",
     "output_type": "stream",
     "text": [
      "TEST_NA18985_TEST_NA18985 export complete!\n"
     ]
    },
    {
     "name": "stderr",
     "output_type": "stream",
     "text": [
      "2023-10-19 11:08:50.138 Hail: INFO: merging 23 files totalling 307.1M...1) / 22]\n",
      "2023-10-19 11:08:50.494 Hail: INFO: while writing:\n",
      "    filtered_chrAll_genome-data/TEST_NA18986_TEST_NA18986.txt\n",
      "  merge time: 356.235ms\n"
     ]
    },
    {
     "name": "stdout",
     "output_type": "stream",
     "text": [
      "TEST_NA18986_TEST_NA18986 export complete!\n"
     ]
    },
    {
     "name": "stderr",
     "output_type": "stream",
     "text": [
      "2023-10-19 11:09:00.438 Hail: INFO: merging 23 files totalling 299.6M...2) / 22]\n",
      "2023-10-19 11:09:00.796 Hail: INFO: while writing:\n",
      "    filtered_chrAll_genome-data/TEST_NA18987_TEST_NA18987.txt\n",
      "  merge time: 357.445ms\n"
     ]
    },
    {
     "name": "stdout",
     "output_type": "stream",
     "text": [
      "TEST_NA18987_TEST_NA18987 export complete!\n"
     ]
    },
    {
     "name": "stderr",
     "output_type": "stream",
     "text": [
      "2023-10-19 11:09:11.213 Hail: INFO: merging 23 files totalling 306.4M...1) / 22]\n",
      "2023-10-19 11:09:11.596 Hail: INFO: while writing:\n",
      "    filtered_chrAll_genome-data/TEST_NA18988_TEST_NA18988.txt\n",
      "  merge time: 382.913ms\n"
     ]
    },
    {
     "name": "stdout",
     "output_type": "stream",
     "text": [
      "TEST_NA18988_TEST_NA18988 export complete!\n"
     ]
    },
    {
     "name": "stderr",
     "output_type": "stream",
     "text": [
      "2023-10-19 11:09:21.980 Hail: INFO: merging 23 files totalling 306.4M...1) / 22]\n",
      "2023-10-19 11:09:22.341 Hail: INFO: while writing:\n",
      "    filtered_chrAll_genome-data/TEST_NA18989_TEST_NA18989.txt\n",
      "  merge time: 361.552ms\n"
     ]
    },
    {
     "name": "stdout",
     "output_type": "stream",
     "text": [
      "TEST_NA18989_TEST_NA18989 export complete!\n"
     ]
    },
    {
     "name": "stderr",
     "output_type": "stream",
     "text": [
      "2023-10-19 11:09:32.533 Hail: INFO: merging 23 files totalling 304.6M...1) / 22]\n",
      "2023-10-19 11:09:32.889 Hail: INFO: while writing:\n",
      "    filtered_chrAll_genome-data/TEST_NA18990_TEST_NA18990.txt\n",
      "  merge time: 356.461ms\n"
     ]
    },
    {
     "name": "stdout",
     "output_type": "stream",
     "text": [
      "TEST_NA18990_TEST_NA18990 export complete!\n"
     ]
    },
    {
     "name": "stderr",
     "output_type": "stream",
     "text": [
      "2023-10-19 11:09:43.011 Hail: INFO: merging 23 files totalling 304.2M...3) / 22]\n",
      "2023-10-19 11:09:43.365 Hail: INFO: while writing:\n",
      "    filtered_chrAll_genome-data/TEST_NA18991_TEST_NA18991.txt\n",
      "  merge time: 354.433ms\n"
     ]
    },
    {
     "name": "stdout",
     "output_type": "stream",
     "text": [
      "TEST_NA18991_TEST_NA18991 export complete!\n"
     ]
    },
    {
     "name": "stderr",
     "output_type": "stream",
     "text": [
      "2023-10-19 11:09:53.784 Hail: INFO: merging 23 files totalling 297.3M...1) / 22]\n",
      "2023-10-19 11:09:54.270 Hail: INFO: while writing:\n",
      "    filtered_chrAll_genome-data/TEST_NA18992_TEST_NA18992.txt\n",
      "  merge time: 389.152ms\n"
     ]
    },
    {
     "name": "stdout",
     "output_type": "stream",
     "text": [
      "TEST_NA18992_TEST_NA18992 export complete!\n"
     ]
    },
    {
     "name": "stderr",
     "output_type": "stream",
     "text": [
      "2023-10-19 11:10:04.868 Hail: INFO: merging 23 files totalling 304.1M...1) / 22]\n",
      "2023-10-19 11:10:05.335 Hail: INFO: while writing:\n",
      "    filtered_chrAll_genome-data/TEST_NA18993_TEST_NA18993.txt\n",
      "  merge time: 372.947ms\n"
     ]
    },
    {
     "name": "stdout",
     "output_type": "stream",
     "text": [
      "TEST_NA18993_TEST_NA18993 export complete!\n"
     ]
    },
    {
     "name": "stderr",
     "output_type": "stream",
     "text": [
      "2023-10-19 11:10:15.914 Hail: INFO: merging 23 files totalling 302.2M...1) / 22]\n",
      "2023-10-19 11:10:16.367 Hail: INFO: while writing:\n",
      "    filtered_chrAll_genome-data/TEST_NA18994_TEST_NA18994.txt\n",
      "  merge time: 358.528ms\n"
     ]
    },
    {
     "name": "stdout",
     "output_type": "stream",
     "text": [
      "TEST_NA18994_TEST_NA18994 export complete!\n"
     ]
    },
    {
     "name": "stderr",
     "output_type": "stream",
     "text": [
      "2023-10-19 11:10:27.260 Hail: INFO: merging 23 files totalling 302.4M...3) / 22]\n",
      "2023-10-19 11:10:27.618 Hail: INFO: while writing:\n",
      "    filtered_chrAll_genome-data/TEST_NA18995_TEST_NA18995.txt\n",
      "  merge time: 358.209ms\n"
     ]
    },
    {
     "name": "stdout",
     "output_type": "stream",
     "text": [
      "TEST_NA18995_TEST_NA18995 export complete!\n"
     ]
    },
    {
     "name": "stderr",
     "output_type": "stream",
     "text": [
      "2023-10-19 11:10:37.791 Hail: INFO: merging 23 files totalling 303.3M...2) / 22]\n",
      "2023-10-19 11:10:38.245 Hail: INFO: while writing:\n",
      "    filtered_chrAll_genome-data/TEST_NA18997_TEST_NA18997.txt\n",
      "  merge time: 453.799ms\n"
     ]
    },
    {
     "name": "stdout",
     "output_type": "stream",
     "text": [
      "TEST_NA18997_TEST_NA18997 export complete!\n"
     ]
    },
    {
     "name": "stderr",
     "output_type": "stream",
     "text": [
      "2023-10-19 11:10:48.234 Hail: INFO: merging 23 files totalling 306.2M...1) / 22]\n",
      "2023-10-19 11:10:48.660 Hail: INFO: while writing:\n",
      "    filtered_chrAll_genome-data/TEST_NA18998_TEST_NA18998.txt\n",
      "  merge time: 421.841ms\n"
     ]
    },
    {
     "name": "stdout",
     "output_type": "stream",
     "text": [
      "TEST_NA18998_TEST_NA18998 export complete!\n"
     ]
    },
    {
     "name": "stderr",
     "output_type": "stream",
     "text": [
      "2023-10-19 11:10:59.220 Hail: INFO: merging 23 files totalling 304.1M...2) / 22]\n",
      "2023-10-19 11:10:59.750 Hail: INFO: while writing:\n",
      "    filtered_chrAll_genome-data/TEST_NA18999_TEST_NA18999.txt\n",
      "  merge time: 529.566ms\n"
     ]
    },
    {
     "name": "stdout",
     "output_type": "stream",
     "text": [
      "TEST_NA18999_TEST_NA18999 export complete!\n"
     ]
    },
    {
     "name": "stderr",
     "output_type": "stream",
     "text": [
      "2023-10-19 11:11:10.053 Hail: INFO: merging 23 files totalling 306.7M...2) / 22]\n",
      "2023-10-19 11:11:10.619 Hail: INFO: while writing:\n",
      "    filtered_chrAll_genome-data/TEST_NA19000_TEST_NA19000.txt\n",
      "  merge time: 565.843ms\n"
     ]
    },
    {
     "name": "stdout",
     "output_type": "stream",
     "text": [
      "TEST_NA19000_TEST_NA19000 export complete!\n"
     ]
    },
    {
     "name": "stderr",
     "output_type": "stream",
     "text": [
      "2023-10-19 11:11:21.225 Hail: INFO: merging 23 files totalling 305.9M...1) / 22]\n",
      "2023-10-19 11:11:21.755 Hail: INFO: while writing:\n",
      "    filtered_chrAll_genome-data/TEST_NA19001_TEST_NA19001.txt\n",
      "  merge time: 529.477ms\n"
     ]
    },
    {
     "name": "stdout",
     "output_type": "stream",
     "text": [
      "TEST_NA19001_TEST_NA19001 export complete!\n"
     ]
    },
    {
     "name": "stderr",
     "output_type": "stream",
     "text": [
      "2023-10-19 11:11:31.815 Hail: INFO: merging 23 files totalling 303.9M...1) / 22]\n",
      "2023-10-19 11:11:32.230 Hail: INFO: while writing:\n",
      "    filtered_chrAll_genome-data/TEST_NA19002_TEST_NA19002.txt\n",
      "  merge time: 415.242ms\n"
     ]
    },
    {
     "name": "stdout",
     "output_type": "stream",
     "text": [
      "TEST_NA19002_TEST_NA19002 export complete!\n"
     ]
    },
    {
     "name": "stderr",
     "output_type": "stream",
     "text": [
      "2023-10-19 11:11:42.252 Hail: INFO: merging 23 files totalling 302.5M...3) / 22]\n",
      "2023-10-19 11:11:42.613 Hail: INFO: while writing:\n",
      "    filtered_chrAll_genome-data/TEST_NA19003_TEST_NA19003.txt\n",
      "  merge time: 360.716ms\n"
     ]
    },
    {
     "name": "stdout",
     "output_type": "stream",
     "text": [
      "TEST_NA19003_TEST_NA19003 export complete!\n"
     ]
    },
    {
     "name": "stderr",
     "output_type": "stream",
     "text": [
      "2023-10-19 11:11:52.625 Hail: INFO: merging 23 files totalling 305.1M...1) / 22]\n",
      "2023-10-19 11:11:53.045 Hail: INFO: while writing:\n",
      "    filtered_chrAll_genome-data/TEST_NA19004_TEST_NA19004.txt\n",
      "  merge time: 419.694ms\n"
     ]
    },
    {
     "name": "stdout",
     "output_type": "stream",
     "text": [
      "TEST_NA19004_TEST_NA19004 export complete!\n"
     ]
    },
    {
     "name": "stderr",
     "output_type": "stream",
     "text": [
      "2023-10-19 11:12:03.340 Hail: INFO: merging 23 files totalling 305.4M...2) / 22]\n",
      "2023-10-19 11:12:03.731 Hail: INFO: while writing:\n",
      "    filtered_chrAll_genome-data/TEST_NA19005_TEST_NA19005.txt\n",
      "  merge time: 390.984ms\n"
     ]
    },
    {
     "name": "stdout",
     "output_type": "stream",
     "text": [
      "TEST_NA19005_TEST_NA19005 export complete!\n"
     ]
    },
    {
     "name": "stderr",
     "output_type": "stream",
     "text": [
      "2023-10-19 11:12:14.298 Hail: INFO: merging 23 files totalling 304.5M...3) / 22]\n",
      "2023-10-19 11:12:14.669 Hail: INFO: while writing:\n",
      "    filtered_chrAll_genome-data/TEST_NA19006_TEST_NA19006.txt\n",
      "  merge time: 370.998ms\n"
     ]
    },
    {
     "name": "stdout",
     "output_type": "stream",
     "text": [
      "TEST_NA19006_TEST_NA19006 export complete!\n"
     ]
    },
    {
     "name": "stderr",
     "output_type": "stream",
     "text": [
      "2023-10-19 11:12:24.732 Hail: INFO: merging 23 files totalling 304.0M...2) / 22]\n",
      "2023-10-19 11:12:25.122 Hail: INFO: while writing:\n",
      "    filtered_chrAll_genome-data/TEST_NA19007_TEST_NA19007.txt\n",
      "  merge time: 390.570ms\n"
     ]
    },
    {
     "name": "stdout",
     "output_type": "stream",
     "text": [
      "TEST_NA19007_TEST_NA19007 export complete!\n"
     ]
    },
    {
     "name": "stderr",
     "output_type": "stream",
     "text": [
      "2023-10-19 11:12:34.933 Hail: INFO: merging 23 files totalling 304.8M...2) / 22]\n",
      "2023-10-19 11:12:35.288 Hail: INFO: while writing:\n",
      "    filtered_chrAll_genome-data/TEST_NA19009_TEST_NA19009.txt\n",
      "  merge time: 354.674ms\n"
     ]
    },
    {
     "name": "stdout",
     "output_type": "stream",
     "text": [
      "TEST_NA19009_TEST_NA19009 export complete!\n"
     ]
    },
    {
     "name": "stderr",
     "output_type": "stream",
     "text": [
      "2023-10-19 11:12:45.441 Hail: INFO: merging 23 files totalling 304.6M...1) / 22]\n",
      "2023-10-19 11:12:45.788 Hail: INFO: while writing:\n",
      "    filtered_chrAll_genome-data/TEST_NA19010_TEST_NA19010.txt\n",
      "  merge time: 346.594ms\n"
     ]
    },
    {
     "name": "stdout",
     "output_type": "stream",
     "text": [
      "TEST_NA19010_TEST_NA19010 export complete!\n"
     ]
    },
    {
     "name": "stderr",
     "output_type": "stream",
     "text": [
      "2023-10-19 11:12:55.812 Hail: INFO: merging 23 files totalling 305.9M...1) / 22]\n",
      "2023-10-19 11:12:56.159 Hail: INFO: while writing:\n",
      "    filtered_chrAll_genome-data/TEST_NA19011_TEST_NA19011.txt\n",
      "  merge time: 346.967ms\n"
     ]
    },
    {
     "name": "stdout",
     "output_type": "stream",
     "text": [
      "TEST_NA19011_TEST_NA19011 export complete!\n"
     ]
    },
    {
     "name": "stderr",
     "output_type": "stream",
     "text": [
      "2023-10-19 11:13:08.140 Hail: INFO: merging 23 files totalling 295.8M...1) / 22]\n",
      "2023-10-19 11:13:08.609 Hail: INFO: while writing:\n",
      "    filtered_chrAll_genome-data/TEST_NA19012_TEST_NA19012.txt\n",
      "  merge time: 377.140ms\n"
     ]
    },
    {
     "name": "stdout",
     "output_type": "stream",
     "text": [
      "TEST_NA19012_TEST_NA19012 export complete!\n"
     ]
    },
    {
     "name": "stderr",
     "output_type": "stream",
     "text": [
      "2023-10-19 11:13:22.218 Hail: INFO: merging 23 files totalling 304.8M...1) / 22]\n",
      "2023-10-19 11:13:22.614 Hail: INFO: while writing:\n",
      "    filtered_chrAll_genome-data/TEST_NA19054_TEST_NA19054.txt\n",
      "  merge time: 396.100ms\n"
     ]
    },
    {
     "name": "stdout",
     "output_type": "stream",
     "text": [
      "TEST_NA19054_TEST_NA19054 export complete!\n"
     ]
    },
    {
     "name": "stderr",
     "output_type": "stream",
     "text": [
      "2023-10-19 11:13:32.687 Hail: INFO: merging 23 files totalling 304.6M...1) / 22]\n",
      "2023-10-19 11:13:33.036 Hail: INFO: while writing:\n",
      "    filtered_chrAll_genome-data/TEST_NA19055_TEST_NA19055.txt\n",
      "  merge time: 348.696ms\n"
     ]
    },
    {
     "name": "stdout",
     "output_type": "stream",
     "text": [
      "TEST_NA19055_TEST_NA19055 export complete!\n"
     ]
    },
    {
     "name": "stderr",
     "output_type": "stream",
     "text": [
      "2023-10-19 11:13:42.932 Hail: INFO: merging 23 files totalling 303.5M...3) / 22]\n",
      "2023-10-19 11:13:43.360 Hail: INFO: while writing:\n",
      "    filtered_chrAll_genome-data/TEST_NA19056_TEST_NA19056.txt\n",
      "  merge time: 427.510ms\n"
     ]
    },
    {
     "name": "stdout",
     "output_type": "stream",
     "text": [
      "TEST_NA19056_TEST_NA19056 export complete!\n"
     ]
    },
    {
     "name": "stderr",
     "output_type": "stream",
     "text": [
      "2023-10-19 11:13:53.651 Hail: INFO: merging 23 files totalling 304.1M...1) / 22]\n",
      "2023-10-19 11:13:53.993 Hail: INFO: while writing:\n",
      "    filtered_chrAll_genome-data/TEST_NA19057_TEST_NA19057.txt\n",
      "  merge time: 341.741ms\n"
     ]
    },
    {
     "name": "stdout",
     "output_type": "stream",
     "text": [
      "TEST_NA19057_TEST_NA19057 export complete!\n"
     ]
    },
    {
     "name": "stderr",
     "output_type": "stream",
     "text": [
      "2023-10-19 11:14:04.495 Hail: INFO: merging 23 files totalling 304.0M...1) / 22]\n",
      "2023-10-19 11:14:04.898 Hail: INFO: while writing:\n",
      "    filtered_chrAll_genome-data/TEST_NA19058_TEST_NA19058.txt\n",
      "  merge time: 402.254ms\n"
     ]
    },
    {
     "name": "stdout",
     "output_type": "stream",
     "text": [
      "TEST_NA19058_TEST_NA19058 export complete!\n"
     ]
    },
    {
     "name": "stderr",
     "output_type": "stream",
     "text": [
      "2023-10-19 11:14:15.358 Hail: INFO: merging 23 files totalling 303.6M...1) / 22]\n",
      "2023-10-19 11:14:15.924 Hail: INFO: while writing:\n",
      "    filtered_chrAll_genome-data/TEST_NA19059_TEST_NA19059.txt\n",
      "  merge time: 566.773ms\n"
     ]
    },
    {
     "name": "stdout",
     "output_type": "stream",
     "text": [
      "TEST_NA19059_TEST_NA19059 export complete!\n"
     ]
    },
    {
     "name": "stderr",
     "output_type": "stream",
     "text": [
      "2023-10-19 11:14:25.982 Hail: INFO: merging 23 files totalling 304.2M...3) / 22]\n",
      "2023-10-19 11:14:26.380 Hail: INFO: while writing:\n",
      "    filtered_chrAll_genome-data/TEST_NA19060_TEST_NA19060.txt\n",
      "  merge time: 397.333ms\n"
     ]
    },
    {
     "name": "stdout",
     "output_type": "stream",
     "text": [
      "TEST_NA19060_TEST_NA19060 export complete!\n"
     ]
    },
    {
     "name": "stderr",
     "output_type": "stream",
     "text": [
      "2023-10-19 11:14:36.423 Hail: INFO: merging 23 files totalling 304.6M...2) / 22]\n",
      "2023-10-19 11:14:36.817 Hail: INFO: while writing:\n",
      "    filtered_chrAll_genome-data/TEST_NA19062_TEST_NA19062.txt\n",
      "  merge time: 394.470ms\n"
     ]
    },
    {
     "name": "stdout",
     "output_type": "stream",
     "text": [
      "TEST_NA19062_TEST_NA19062 export complete!\n"
     ]
    },
    {
     "name": "stderr",
     "output_type": "stream",
     "text": [
      "2023-10-19 11:14:47.169 Hail: INFO: merging 23 files totalling 304.8M...1) / 22]\n",
      "2023-10-19 11:14:47.529 Hail: INFO: while writing:\n",
      "    filtered_chrAll_genome-data/TEST_NA19063_TEST_NA19063.txt\n",
      "  merge time: 359.824ms\n"
     ]
    },
    {
     "name": "stdout",
     "output_type": "stream",
     "text": [
      "TEST_NA19063_TEST_NA19063 export complete!\n"
     ]
    },
    {
     "name": "stderr",
     "output_type": "stream",
     "text": [
      "2023-10-19 11:14:57.547 Hail: INFO: merging 23 files totalling 304.7M...3) / 22]\n",
      "2023-10-19 11:14:57.930 Hail: INFO: while writing:\n",
      "    filtered_chrAll_genome-data/TEST_NA19064_TEST_NA19064.txt\n",
      "  merge time: 382.363ms\n"
     ]
    },
    {
     "name": "stdout",
     "output_type": "stream",
     "text": [
      "TEST_NA19064_TEST_NA19064 export complete!\n"
     ]
    },
    {
     "name": "stderr",
     "output_type": "stream",
     "text": [
      "2023-10-19 11:15:08.106 Hail: INFO: merging 23 files totalling 304.3M...3) / 22]\n",
      "2023-10-19 11:15:08.463 Hail: INFO: while writing:\n",
      "    filtered_chrAll_genome-data/TEST_NA19065_TEST_NA19065.txt\n",
      "  merge time: 356.851ms\n"
     ]
    },
    {
     "name": "stdout",
     "output_type": "stream",
     "text": [
      "TEST_NA19065_TEST_NA19065 export complete!\n"
     ]
    },
    {
     "name": "stderr",
     "output_type": "stream",
     "text": [
      "2023-10-19 11:15:18.660 Hail: INFO: merging 23 files totalling 305.3M...2) / 22]\n",
      "2023-10-19 11:15:19.014 Hail: INFO: while writing:\n",
      "    filtered_chrAll_genome-data/TEST_NA19066_TEST_NA19066.txt\n",
      "  merge time: 354.361ms\n"
     ]
    },
    {
     "name": "stdout",
     "output_type": "stream",
     "text": [
      "TEST_NA19066_TEST_NA19066 export complete!\n"
     ]
    },
    {
     "name": "stderr",
     "output_type": "stream",
     "text": [
      "2023-10-19 11:15:29.095 Hail: INFO: merging 23 files totalling 305.4M...1) / 22]\n",
      "2023-10-19 11:15:29.491 Hail: INFO: while writing:\n",
      "    filtered_chrAll_genome-data/TEST_NA19067_TEST_NA19067.txt\n",
      "  merge time: 395.550ms\n"
     ]
    },
    {
     "name": "stdout",
     "output_type": "stream",
     "text": [
      "TEST_NA19067_TEST_NA19067 export complete!\n"
     ]
    },
    {
     "name": "stderr",
     "output_type": "stream",
     "text": [
      "2023-10-19 11:15:39.767 Hail: INFO: merging 23 files totalling 306.5M...2) / 22]\n",
      "2023-10-19 11:15:40.134 Hail: INFO: while writing:\n",
      "    filtered_chrAll_genome-data/TEST_NA19068_TEST_NA19068.txt\n",
      "  merge time: 366.710ms\n"
     ]
    },
    {
     "name": "stdout",
     "output_type": "stream",
     "text": [
      "TEST_NA19068_TEST_NA19068 export complete!\n"
     ]
    },
    {
     "name": "stderr",
     "output_type": "stream",
     "text": [
      "2023-10-19 11:15:50.030 Hail: INFO: merging 23 files totalling 303.7M...3) / 22]\n",
      "2023-10-19 11:15:50.434 Hail: INFO: while writing:\n",
      "    filtered_chrAll_genome-data/TEST_NA19070_TEST_NA19070.txt\n",
      "  merge time: 403.283ms\n"
     ]
    },
    {
     "name": "stdout",
     "output_type": "stream",
     "text": [
      "TEST_NA19070_TEST_NA19070 export complete!\n"
     ]
    },
    {
     "name": "stderr",
     "output_type": "stream",
     "text": [
      "2023-10-19 11:16:00.397 Hail: INFO: merging 23 files totalling 305.3M...1) / 22]\n",
      "2023-10-19 11:16:00.781 Hail: INFO: while writing:\n",
      "    filtered_chrAll_genome-data/TEST_NA19072_TEST_NA19072.txt\n",
      "  merge time: 383.496ms\n"
     ]
    },
    {
     "name": "stdout",
     "output_type": "stream",
     "text": [
      "TEST_NA19072_TEST_NA19072 export complete!\n"
     ]
    },
    {
     "name": "stderr",
     "output_type": "stream",
     "text": [
      "2023-10-19 11:16:10.876 Hail: INFO: merging 23 files totalling 303.6M...2) / 22]\n",
      "2023-10-19 11:16:11.258 Hail: INFO: while writing:\n",
      "    filtered_chrAll_genome-data/TEST_NA19074_TEST_NA19074.txt\n",
      "  merge time: 381.493ms\n"
     ]
    },
    {
     "name": "stdout",
     "output_type": "stream",
     "text": [
      "TEST_NA19074_TEST_NA19074 export complete!\n"
     ]
    },
    {
     "name": "stderr",
     "output_type": "stream",
     "text": [
      "2023-10-19 11:16:21.299 Hail: INFO: merging 23 files totalling 302.4M...3) / 22]\n",
      "2023-10-19 11:16:21.648 Hail: INFO: while writing:\n",
      "    filtered_chrAll_genome-data/TEST_NA19075_TEST_NA19075.txt\n",
      "  merge time: 348.841ms\n"
     ]
    },
    {
     "name": "stdout",
     "output_type": "stream",
     "text": [
      "TEST_NA19075_TEST_NA19075 export complete!\n"
     ]
    },
    {
     "name": "stderr",
     "output_type": "stream",
     "text": [
      "2023-10-19 11:16:31.757 Hail: INFO: merging 23 files totalling 302.4M...1) / 22]\n",
      "2023-10-19 11:16:32.182 Hail: INFO: while writing:\n",
      "    filtered_chrAll_genome-data/TEST_NA19076_TEST_NA19076.txt\n",
      "  merge time: 425.166ms\n"
     ]
    },
    {
     "name": "stdout",
     "output_type": "stream",
     "text": [
      "TEST_NA19076_TEST_NA19076 export complete!\n"
     ]
    },
    {
     "name": "stderr",
     "output_type": "stream",
     "text": [
      "2023-10-19 11:16:42.118 Hail: INFO: merging 23 files totalling 304.7M...2) / 22]\n",
      "2023-10-19 11:16:42.521 Hail: INFO: while writing:\n",
      "    filtered_chrAll_genome-data/TEST_NA19077_TEST_NA19077.txt\n",
      "  merge time: 402.759ms\n"
     ]
    },
    {
     "name": "stdout",
     "output_type": "stream",
     "text": [
      "TEST_NA19077_TEST_NA19077 export complete!\n"
     ]
    },
    {
     "name": "stderr",
     "output_type": "stream",
     "text": [
      "2023-10-19 11:16:52.509 Hail: INFO: merging 23 files totalling 304.2M...2) / 22]\n",
      "2023-10-19 11:16:52.891 Hail: INFO: while writing:\n",
      "    filtered_chrAll_genome-data/TEST_NA19078_TEST_NA19078.txt\n",
      "  merge time: 381.464ms\n"
     ]
    },
    {
     "name": "stdout",
     "output_type": "stream",
     "text": [
      "TEST_NA19078_TEST_NA19078 export complete!\n"
     ]
    },
    {
     "name": "stderr",
     "output_type": "stream",
     "text": [
      "2023-10-19 11:17:02.841 Hail: INFO: merging 23 files totalling 303.4M...1) / 22]\n",
      "2023-10-19 11:17:03.270 Hail: INFO: while writing:\n",
      "    filtered_chrAll_genome-data/TEST_NA19079_TEST_NA19079.txt\n",
      "  merge time: 428.765ms\n"
     ]
    },
    {
     "name": "stdout",
     "output_type": "stream",
     "text": [
      "TEST_NA19079_TEST_NA19079 export complete!\n"
     ]
    },
    {
     "name": "stderr",
     "output_type": "stream",
     "text": [
      "2023-10-19 11:17:13.172 Hail: INFO: merging 23 files totalling 303.2M...3) / 22]\n",
      "2023-10-19 11:17:13.559 Hail: INFO: while writing:\n",
      "    filtered_chrAll_genome-data/TEST_NA19080_TEST_NA19080.txt\n",
      "  merge time: 387.711ms\n"
     ]
    },
    {
     "name": "stdout",
     "output_type": "stream",
     "text": [
      "TEST_NA19080_TEST_NA19080 export complete!\n"
     ]
    },
    {
     "name": "stderr",
     "output_type": "stream",
     "text": [
      "2023-10-19 11:17:23.658 Hail: INFO: merging 23 files totalling 304.0M...1) / 22]\n",
      "2023-10-19 11:17:24.076 Hail: INFO: while writing:\n",
      "    filtered_chrAll_genome-data/TEST_NA19081_TEST_NA19081.txt\n",
      "  merge time: 417.891ms\n"
     ]
    },
    {
     "name": "stdout",
     "output_type": "stream",
     "text": [
      "TEST_NA19081_TEST_NA19081 export complete!\n"
     ]
    },
    {
     "name": "stderr",
     "output_type": "stream",
     "text": [
      "2023-10-19 11:17:34.301 Hail: INFO: merging 23 files totalling 304.6M...1) / 22]\n",
      "2023-10-19 11:17:34.707 Hail: INFO: while writing:\n",
      "    filtered_chrAll_genome-data/TEST_NA19082_TEST_NA19082.txt\n",
      "  merge time: 405.493ms\n"
     ]
    },
    {
     "name": "stdout",
     "output_type": "stream",
     "text": [
      "TEST_NA19082_TEST_NA19082 export complete!\n"
     ]
    },
    {
     "name": "stderr",
     "output_type": "stream",
     "text": [
      "2023-10-19 11:17:44.866 Hail: INFO: merging 23 files totalling 304.9M...1) / 22]\n",
      "2023-10-19 11:17:45.228 Hail: INFO: while writing:\n",
      "    filtered_chrAll_genome-data/TEST_NA19083_TEST_NA19083.txt\n",
      "  merge time: 362.223ms\n"
     ]
    },
    {
     "name": "stdout",
     "output_type": "stream",
     "text": [
      "TEST_NA19083_TEST_NA19083 export complete!\n"
     ]
    },
    {
     "name": "stderr",
     "output_type": "stream",
     "text": [
      "2023-10-19 11:17:55.241 Hail: INFO: merging 23 files totalling 305.3M...2) / 22]\n",
      "2023-10-19 11:17:55.576 Hail: INFO: while writing:\n",
      "    filtered_chrAll_genome-data/TEST_NA19084_TEST_NA19084.txt\n",
      "  merge time: 334.298ms\n"
     ]
    },
    {
     "name": "stdout",
     "output_type": "stream",
     "text": [
      "TEST_NA19084_TEST_NA19084 export complete!\n"
     ]
    },
    {
     "name": "stderr",
     "output_type": "stream",
     "text": [
      "2023-10-19 11:18:05.456 Hail: INFO: merging 23 files totalling 306.5M...2) / 22]\n",
      "2023-10-19 11:18:05.832 Hail: INFO: while writing:\n",
      "    filtered_chrAll_genome-data/TEST_NA19085_TEST_NA19085.txt\n",
      "  merge time: 375.600ms\n"
     ]
    },
    {
     "name": "stdout",
     "output_type": "stream",
     "text": [
      "TEST_NA19085_TEST_NA19085 export complete!\n"
     ]
    },
    {
     "name": "stderr",
     "output_type": "stream",
     "text": [
      "2023-10-19 11:18:15.598 Hail: INFO: merging 23 files totalling 303.9M...3) / 22]\n",
      "2023-10-19 11:18:15.951 Hail: INFO: while writing:\n",
      "    filtered_chrAll_genome-data/TEST_NA19086_TEST_NA19086.txt\n",
      "  merge time: 352.316ms\n"
     ]
    },
    {
     "name": "stdout",
     "output_type": "stream",
     "text": [
      "TEST_NA19086_TEST_NA19086 export complete!\n"
     ]
    },
    {
     "name": "stderr",
     "output_type": "stream",
     "text": [
      "2023-10-19 11:18:26.011 Hail: INFO: merging 23 files totalling 304.2M...2) / 22]\n",
      "2023-10-19 11:18:26.388 Hail: INFO: while writing:\n",
      "    filtered_chrAll_genome-data/TEST_NA19087_TEST_NA19087.txt\n",
      "  merge time: 376.534ms\n"
     ]
    },
    {
     "name": "stdout",
     "output_type": "stream",
     "text": [
      "TEST_NA19087_TEST_NA19087 export complete!\n"
     ]
    },
    {
     "name": "stderr",
     "output_type": "stream",
     "text": [
      "2023-10-19 11:18:36.404 Hail: INFO: merging 23 files totalling 304.1M...2) / 22]\n",
      "2023-10-19 11:18:36.790 Hail: INFO: while writing:\n",
      "    filtered_chrAll_genome-data/TEST_NA19088_TEST_NA19088.txt\n",
      "  merge time: 385.467ms\n"
     ]
    },
    {
     "name": "stdout",
     "output_type": "stream",
     "text": [
      "TEST_NA19088_TEST_NA19088 export complete!\n"
     ]
    },
    {
     "name": "stderr",
     "output_type": "stream",
     "text": [
      "2023-10-19 11:18:46.741 Hail: INFO: merging 23 files totalling 303.7M...1) / 22]\n",
      "2023-10-19 11:18:47.121 Hail: INFO: while writing:\n",
      "    filtered_chrAll_genome-data/TEST_NA19089_TEST_NA19089.txt\n",
      "  merge time: 379.770ms\n"
     ]
    },
    {
     "name": "stdout",
     "output_type": "stream",
     "text": [
      "TEST_NA19089_TEST_NA19089 export complete!\n"
     ]
    },
    {
     "name": "stderr",
     "output_type": "stream",
     "text": [
      "2023-10-19 11:18:57.004 Hail: INFO: merging 23 files totalling 304.4M...2) / 22]\n",
      "2023-10-19 11:18:57.395 Hail: INFO: while writing:\n",
      "    filtered_chrAll_genome-data/TEST_NA19090_TEST_NA19090.txt\n",
      "  merge time: 390.916ms\n"
     ]
    },
    {
     "name": "stdout",
     "output_type": "stream",
     "text": [
      "TEST_NA19090_TEST_NA19090 export complete!\n"
     ]
    },
    {
     "name": "stderr",
     "output_type": "stream",
     "text": [
      "2023-10-19 11:19:07.328 Hail: INFO: merging 23 files totalling 302.9M...1) / 22]\n"
     ]
    },
    {
     "name": "stdout",
     "output_type": "stream",
     "text": [
      "TEST_NA19091_TEST_NA19091 export complete!\n"
     ]
    },
    {
     "name": "stderr",
     "output_type": "stream",
     "text": [
      "2023-10-19 11:19:07.665 Hail: INFO: while writing:\n",
      "    filtered_chrAll_genome-data/TEST_NA19091_TEST_NA19091.txt\n",
      "  merge time: 336.728ms\n"
     ]
    }
   ],
   "source": [
    "for name_id in name_ids:\n",
    "    filtered_mt[name_id].entries().export(f\"filtered-chrAll-genome-data/{name_id}.txt\")\n",
    "    print(name_id, 'export complete!')"
   ]
  }
 ],
 "metadata": {
  "kernelspec": {
   "display_name": "Python 3 (ipykernel)",
   "language": "python",
   "name": "python3"
  },
  "language_info": {
   "codemirror_mode": {
    "name": "ipython",
    "version": 3
   },
   "file_extension": ".py",
   "mimetype": "text/x-python",
   "name": "python",
   "nbconvert_exporter": "python",
   "pygments_lexer": "ipython3",
   "version": "3.7.12"
  }
 },
 "nbformat": 4,
 "nbformat_minor": 5
}
