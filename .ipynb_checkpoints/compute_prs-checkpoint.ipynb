{
 "cells": [
  {
   "cell_type": "code",
   "execution_count": 1,
   "id": "14fae517",
   "metadata": {},
   "outputs": [
    {
     "name": "stdout",
     "output_type": "stream",
     "text": [
      "2023-12-07 13:02:31.529 WARN  Utils:69 - Your hostname, hidenaoki-MacBook.local resolves to a loopback address: 127.0.0.1; using 172.19.189.38 instead (on interface en0)\n",
      "2023-12-07 13:02:31.533 WARN  Utils:69 - Set SPARK_LOCAL_IP if you need to bind to another address\n",
      "2023-12-07 13:02:31.935 WARN  NativeCodeLoader:60 - Unable to load native-hadoop library for your platform... using builtin-java classes where applicable\n"
     ]
    },
    {
     "name": "stderr",
     "output_type": "stream",
     "text": [
      "Setting default log level to \"WARN\".\n",
      "To adjust logging level use sc.setLogLevel(newLevel). For SparkR, use setLogLevel(newLevel).\n",
      "Running on Apache Spark version 3.1.3\n",
      "SparkUI available at http://172.19.189.38:4040\n",
      "Welcome to\n",
      "     __  __     <>__\n",
      "    / /_/ /__  __/ /\n",
      "   / __  / _ `/ / /\n",
      "  /_/ /_/\\_,_/_/_/   version 0.2.107-2387bb00ceee\n",
      "LOGGING: writing to /Users/naoki/dev/my-zemi/prs-on-hail/hail-20231207-1302-0.2.107-2387bb00ceee.log\n"
     ]
    },
    {
     "data": {
      "text/html": [
       "\n",
       "    <div class=\"bk-root\">\n",
       "        <a href=\"https://bokeh.org\" target=\"_blank\" class=\"bk-logo bk-logo-small bk-logo-notebook\"></a>\n",
       "        <span id=\"1001\">Loading BokehJS ...</span>\n",
       "    </div>"
      ]
     },
     "metadata": {},
     "output_type": "display_data"
    },
    {
     "data": {
      "application/javascript": [
       "\n",
       "(function(root) {\n",
       "  function now() {\n",
       "    return new Date();\n",
       "  }\n",
       "\n",
       "  var force = true;\n",
       "\n",
       "  if (typeof root._bokeh_onload_callbacks === \"undefined\" || force === true) {\n",
       "    root._bokeh_onload_callbacks = [];\n",
       "    root._bokeh_is_loading = undefined;\n",
       "  }\n",
       "\n",
       "  var JS_MIME_TYPE = 'application/javascript';\n",
       "  var HTML_MIME_TYPE = 'text/html';\n",
       "  var EXEC_MIME_TYPE = 'application/vnd.bokehjs_exec.v0+json';\n",
       "  var CLASS_NAME = 'output_bokeh rendered_html';\n",
       "\n",
       "  /**\n",
       "   * Render data to the DOM node\n",
       "   */\n",
       "  function render(props, node) {\n",
       "    var script = document.createElement(\"script\");\n",
       "    node.appendChild(script);\n",
       "  }\n",
       "\n",
       "  /**\n",
       "   * Handle when an output is cleared or removed\n",
       "   */\n",
       "  function handleClearOutput(event, handle) {\n",
       "    var cell = handle.cell;\n",
       "\n",
       "    var id = cell.output_area._bokeh_element_id;\n",
       "    var server_id = cell.output_area._bokeh_server_id;\n",
       "    // Clean up Bokeh references\n",
       "    if (id != null && id in Bokeh.index) {\n",
       "      Bokeh.index[id].model.document.clear();\n",
       "      delete Bokeh.index[id];\n",
       "    }\n",
       "\n",
       "    if (server_id !== undefined) {\n",
       "      // Clean up Bokeh references\n",
       "      var cmd = \"from bokeh.io.state import curstate; print(curstate().uuid_to_server['\" + server_id + \"'].get_sessions()[0].document.roots[0]._id)\";\n",
       "      cell.notebook.kernel.execute(cmd, {\n",
       "        iopub: {\n",
       "          output: function(msg) {\n",
       "            var id = msg.content.text.trim();\n",
       "            if (id in Bokeh.index) {\n",
       "              Bokeh.index[id].model.document.clear();\n",
       "              delete Bokeh.index[id];\n",
       "            }\n",
       "          }\n",
       "        }\n",
       "      });\n",
       "      // Destroy server and session\n",
       "      var cmd = \"import bokeh.io.notebook as ion; ion.destroy_server('\" + server_id + \"')\";\n",
       "      cell.notebook.kernel.execute(cmd);\n",
       "    }\n",
       "  }\n",
       "\n",
       "  /**\n",
       "   * Handle when a new output is added\n",
       "   */\n",
       "  function handleAddOutput(event, handle) {\n",
       "    var output_area = handle.output_area;\n",
       "    var output = handle.output;\n",
       "\n",
       "    // limit handleAddOutput to display_data with EXEC_MIME_TYPE content only\n",
       "    if ((output.output_type != \"display_data\") || (!output.data.hasOwnProperty(EXEC_MIME_TYPE))) {\n",
       "      return\n",
       "    }\n",
       "\n",
       "    var toinsert = output_area.element.find(\".\" + CLASS_NAME.split(' ')[0]);\n",
       "\n",
       "    if (output.metadata[EXEC_MIME_TYPE][\"id\"] !== undefined) {\n",
       "      toinsert[toinsert.length - 1].firstChild.textContent = output.data[JS_MIME_TYPE];\n",
       "      // store reference to embed id on output_area\n",
       "      output_area._bokeh_element_id = output.metadata[EXEC_MIME_TYPE][\"id\"];\n",
       "    }\n",
       "    if (output.metadata[EXEC_MIME_TYPE][\"server_id\"] !== undefined) {\n",
       "      var bk_div = document.createElement(\"div\");\n",
       "      bk_div.innerHTML = output.data[HTML_MIME_TYPE];\n",
       "      var script_attrs = bk_div.children[0].attributes;\n",
       "      for (var i = 0; i < script_attrs.length; i++) {\n",
       "        toinsert[toinsert.length - 1].firstChild.setAttribute(script_attrs[i].name, script_attrs[i].value);\n",
       "      }\n",
       "      // store reference to server id on output_area\n",
       "      output_area._bokeh_server_id = output.metadata[EXEC_MIME_TYPE][\"server_id\"];\n",
       "    }\n",
       "  }\n",
       "\n",
       "  function register_renderer(events, OutputArea) {\n",
       "\n",
       "    function append_mime(data, metadata, element) {\n",
       "      // create a DOM node to render to\n",
       "      var toinsert = this.create_output_subarea(\n",
       "        metadata,\n",
       "        CLASS_NAME,\n",
       "        EXEC_MIME_TYPE\n",
       "      );\n",
       "      this.keyboard_manager.register_events(toinsert);\n",
       "      // Render to node\n",
       "      var props = {data: data, metadata: metadata[EXEC_MIME_TYPE]};\n",
       "      render(props, toinsert[toinsert.length - 1]);\n",
       "      element.append(toinsert);\n",
       "      return toinsert\n",
       "    }\n",
       "\n",
       "    /* Handle when an output is cleared or removed */\n",
       "    events.on('clear_output.CodeCell', handleClearOutput);\n",
       "    events.on('delete.Cell', handleClearOutput);\n",
       "\n",
       "    /* Handle when a new output is added */\n",
       "    events.on('output_added.OutputArea', handleAddOutput);\n",
       "\n",
       "    /**\n",
       "     * Register the mime type and append_mime function with output_area\n",
       "     */\n",
       "    OutputArea.prototype.register_mime_type(EXEC_MIME_TYPE, append_mime, {\n",
       "      /* Is output safe? */\n",
       "      safe: true,\n",
       "      /* Index of renderer in `output_area.display_order` */\n",
       "      index: 0\n",
       "    });\n",
       "  }\n",
       "\n",
       "  // register the mime type if in Jupyter Notebook environment and previously unregistered\n",
       "  if (root.Jupyter !== undefined) {\n",
       "    var events = require('base/js/events');\n",
       "    var OutputArea = require('notebook/js/outputarea').OutputArea;\n",
       "\n",
       "    if (OutputArea.prototype.mime_types().indexOf(EXEC_MIME_TYPE) == -1) {\n",
       "      register_renderer(events, OutputArea);\n",
       "    }\n",
       "  }\n",
       "\n",
       "  \n",
       "  if (typeof (root._bokeh_timeout) === \"undefined\" || force === true) {\n",
       "    root._bokeh_timeout = Date.now() + 5000;\n",
       "    root._bokeh_failed_load = false;\n",
       "  }\n",
       "\n",
       "  var NB_LOAD_WARNING = {'data': {'text/html':\n",
       "     \"<div style='background-color: #fdd'>\\n\"+\n",
       "     \"<p>\\n\"+\n",
       "     \"BokehJS does not appear to have successfully loaded. If loading BokehJS from CDN, this \\n\"+\n",
       "     \"may be due to a slow or bad network connection. Possible fixes:\\n\"+\n",
       "     \"</p>\\n\"+\n",
       "     \"<ul>\\n\"+\n",
       "     \"<li>re-rerun `output_notebook()` to attempt to load from CDN again, or</li>\\n\"+\n",
       "     \"<li>use INLINE resources instead, as so:</li>\\n\"+\n",
       "     \"</ul>\\n\"+\n",
       "     \"<code>\\n\"+\n",
       "     \"from bokeh.resources import INLINE\\n\"+\n",
       "     \"output_notebook(resources=INLINE)\\n\"+\n",
       "     \"</code>\\n\"+\n",
       "     \"</div>\"}};\n",
       "\n",
       "  function display_loaded() {\n",
       "    var el = document.getElementById(\"1001\");\n",
       "    if (el != null) {\n",
       "      el.textContent = \"BokehJS is loading...\";\n",
       "    }\n",
       "    if (root.Bokeh !== undefined) {\n",
       "      if (el != null) {\n",
       "        el.textContent = \"BokehJS \" + root.Bokeh.version + \" successfully loaded.\";\n",
       "      }\n",
       "    } else if (Date.now() < root._bokeh_timeout) {\n",
       "      setTimeout(display_loaded, 100)\n",
       "    }\n",
       "  }\n",
       "\n",
       "\n",
       "  function run_callbacks() {\n",
       "    try {\n",
       "      root._bokeh_onload_callbacks.forEach(function(callback) {\n",
       "        if (callback != null)\n",
       "          callback();\n",
       "      });\n",
       "    } finally {\n",
       "      delete root._bokeh_onload_callbacks\n",
       "    }\n",
       "    console.debug(\"Bokeh: all callbacks have finished\");\n",
       "  }\n",
       "\n",
       "  function load_libs(css_urls, js_urls, callback) {\n",
       "    if (css_urls == null) css_urls = [];\n",
       "    if (js_urls == null) js_urls = [];\n",
       "\n",
       "    root._bokeh_onload_callbacks.push(callback);\n",
       "    if (root._bokeh_is_loading > 0) {\n",
       "      console.debug(\"Bokeh: BokehJS is being loaded, scheduling callback at\", now());\n",
       "      return null;\n",
       "    }\n",
       "    if (js_urls == null || js_urls.length === 0) {\n",
       "      run_callbacks();\n",
       "      return null;\n",
       "    }\n",
       "    console.debug(\"Bokeh: BokehJS not loaded, scheduling load and callback at\", now());\n",
       "    root._bokeh_is_loading = css_urls.length + js_urls.length;\n",
       "\n",
       "    function on_load() {\n",
       "      root._bokeh_is_loading--;\n",
       "      if (root._bokeh_is_loading === 0) {\n",
       "        console.debug(\"Bokeh: all BokehJS libraries/stylesheets loaded\");\n",
       "        run_callbacks()\n",
       "      }\n",
       "    }\n",
       "\n",
       "    function on_error() {\n",
       "      console.error(\"failed to load \" + url);\n",
       "    }\n",
       "\n",
       "    for (var i = 0; i < css_urls.length; i++) {\n",
       "      var url = css_urls[i];\n",
       "      const element = document.createElement(\"link\");\n",
       "      element.onload = on_load;\n",
       "      element.onerror = on_error;\n",
       "      element.rel = \"stylesheet\";\n",
       "      element.type = \"text/css\";\n",
       "      element.href = url;\n",
       "      console.debug(\"Bokeh: injecting link tag for BokehJS stylesheet: \", url);\n",
       "      document.body.appendChild(element);\n",
       "    }\n",
       "\n",
       "    for (var i = 0; i < js_urls.length; i++) {\n",
       "      var url = js_urls[i];\n",
       "      var element = document.createElement('script');\n",
       "      element.onload = on_load;\n",
       "      element.onerror = on_error;\n",
       "      element.async = false;\n",
       "      element.src = url;\n",
       "      console.debug(\"Bokeh: injecting script tag for BokehJS library: \", url);\n",
       "      document.head.appendChild(element);\n",
       "    }\n",
       "  };var element = document.getElementById(\"1001\");\n",
       "  if (element == null) {\n",
       "    console.error(\"Bokeh: ERROR: autoload.js configured with elementid '1001' but no matching script tag was found. \")\n",
       "    return false;\n",
       "  }\n",
       "\n",
       "  function inject_raw_css(css) {\n",
       "    const element = document.createElement(\"style\");\n",
       "    element.appendChild(document.createTextNode(css));\n",
       "    document.body.appendChild(element);\n",
       "  }\n",
       "\n",
       "  \n",
       "  var js_urls = [\"https://cdn.pydata.org/bokeh/release/bokeh-1.4.0.min.js\", \"https://cdn.pydata.org/bokeh/release/bokeh-widgets-1.4.0.min.js\", \"https://cdn.pydata.org/bokeh/release/bokeh-tables-1.4.0.min.js\", \"https://cdn.pydata.org/bokeh/release/bokeh-gl-1.4.0.min.js\"];\n",
       "  var css_urls = [];\n",
       "  \n",
       "\n",
       "  var inline_js = [\n",
       "    function(Bokeh) {\n",
       "      Bokeh.set_log_level(\"info\");\n",
       "    },\n",
       "    function(Bokeh) {\n",
       "    \n",
       "    \n",
       "    }\n",
       "  ];\n",
       "\n",
       "  function run_inline_js() {\n",
       "    \n",
       "    if (root.Bokeh !== undefined || force === true) {\n",
       "      \n",
       "    for (var i = 0; i < inline_js.length; i++) {\n",
       "      inline_js[i].call(root, root.Bokeh);\n",
       "    }\n",
       "    if (force === true) {\n",
       "        display_loaded();\n",
       "      }} else if (Date.now() < root._bokeh_timeout) {\n",
       "      setTimeout(run_inline_js, 100);\n",
       "    } else if (!root._bokeh_failed_load) {\n",
       "      console.log(\"Bokeh: BokehJS failed to load within specified timeout.\");\n",
       "      root._bokeh_failed_load = true;\n",
       "    } else if (force !== true) {\n",
       "      var cell = $(document.getElementById(\"1001\")).parents('.cell').data().cell;\n",
       "      cell.output_area.append_execute_result(NB_LOAD_WARNING)\n",
       "    }\n",
       "\n",
       "  }\n",
       "\n",
       "  if (root._bokeh_is_loading === 0) {\n",
       "    console.debug(\"Bokeh: BokehJS loaded, going straight to plotting\");\n",
       "    run_inline_js();\n",
       "  } else {\n",
       "    load_libs(css_urls, js_urls, function() {\n",
       "      console.debug(\"Bokeh: BokehJS plotting callback run at\", now());\n",
       "      run_inline_js();\n",
       "    });\n",
       "  }\n",
       "}(window));"
      ],
      "application/vnd.bokehjs_load.v0+json": "\n(function(root) {\n  function now() {\n    return new Date();\n  }\n\n  var force = true;\n\n  if (typeof root._bokeh_onload_callbacks === \"undefined\" || force === true) {\n    root._bokeh_onload_callbacks = [];\n    root._bokeh_is_loading = undefined;\n  }\n\n  \n\n  \n  if (typeof (root._bokeh_timeout) === \"undefined\" || force === true) {\n    root._bokeh_timeout = Date.now() + 5000;\n    root._bokeh_failed_load = false;\n  }\n\n  var NB_LOAD_WARNING = {'data': {'text/html':\n     \"<div style='background-color: #fdd'>\\n\"+\n     \"<p>\\n\"+\n     \"BokehJS does not appear to have successfully loaded. If loading BokehJS from CDN, this \\n\"+\n     \"may be due to a slow or bad network connection. Possible fixes:\\n\"+\n     \"</p>\\n\"+\n     \"<ul>\\n\"+\n     \"<li>re-rerun `output_notebook()` to attempt to load from CDN again, or</li>\\n\"+\n     \"<li>use INLINE resources instead, as so:</li>\\n\"+\n     \"</ul>\\n\"+\n     \"<code>\\n\"+\n     \"from bokeh.resources import INLINE\\n\"+\n     \"output_notebook(resources=INLINE)\\n\"+\n     \"</code>\\n\"+\n     \"</div>\"}};\n\n  function display_loaded() {\n    var el = document.getElementById(\"1001\");\n    if (el != null) {\n      el.textContent = \"BokehJS is loading...\";\n    }\n    if (root.Bokeh !== undefined) {\n      if (el != null) {\n        el.textContent = \"BokehJS \" + root.Bokeh.version + \" successfully loaded.\";\n      }\n    } else if (Date.now() < root._bokeh_timeout) {\n      setTimeout(display_loaded, 100)\n    }\n  }\n\n\n  function run_callbacks() {\n    try {\n      root._bokeh_onload_callbacks.forEach(function(callback) {\n        if (callback != null)\n          callback();\n      });\n    } finally {\n      delete root._bokeh_onload_callbacks\n    }\n    console.debug(\"Bokeh: all callbacks have finished\");\n  }\n\n  function load_libs(css_urls, js_urls, callback) {\n    if (css_urls == null) css_urls = [];\n    if (js_urls == null) js_urls = [];\n\n    root._bokeh_onload_callbacks.push(callback);\n    if (root._bokeh_is_loading > 0) {\n      console.debug(\"Bokeh: BokehJS is being loaded, scheduling callback at\", now());\n      return null;\n    }\n    if (js_urls == null || js_urls.length === 0) {\n      run_callbacks();\n      return null;\n    }\n    console.debug(\"Bokeh: BokehJS not loaded, scheduling load and callback at\", now());\n    root._bokeh_is_loading = css_urls.length + js_urls.length;\n\n    function on_load() {\n      root._bokeh_is_loading--;\n      if (root._bokeh_is_loading === 0) {\n        console.debug(\"Bokeh: all BokehJS libraries/stylesheets loaded\");\n        run_callbacks()\n      }\n    }\n\n    function on_error() {\n      console.error(\"failed to load \" + url);\n    }\n\n    for (var i = 0; i < css_urls.length; i++) {\n      var url = css_urls[i];\n      const element = document.createElement(\"link\");\n      element.onload = on_load;\n      element.onerror = on_error;\n      element.rel = \"stylesheet\";\n      element.type = \"text/css\";\n      element.href = url;\n      console.debug(\"Bokeh: injecting link tag for BokehJS stylesheet: \", url);\n      document.body.appendChild(element);\n    }\n\n    for (var i = 0; i < js_urls.length; i++) {\n      var url = js_urls[i];\n      var element = document.createElement('script');\n      element.onload = on_load;\n      element.onerror = on_error;\n      element.async = false;\n      element.src = url;\n      console.debug(\"Bokeh: injecting script tag for BokehJS library: \", url);\n      document.head.appendChild(element);\n    }\n  };var element = document.getElementById(\"1001\");\n  if (element == null) {\n    console.error(\"Bokeh: ERROR: autoload.js configured with elementid '1001' but no matching script tag was found. \")\n    return false;\n  }\n\n  function inject_raw_css(css) {\n    const element = document.createElement(\"style\");\n    element.appendChild(document.createTextNode(css));\n    document.body.appendChild(element);\n  }\n\n  \n  var js_urls = [\"https://cdn.pydata.org/bokeh/release/bokeh-1.4.0.min.js\", \"https://cdn.pydata.org/bokeh/release/bokeh-widgets-1.4.0.min.js\", \"https://cdn.pydata.org/bokeh/release/bokeh-tables-1.4.0.min.js\", \"https://cdn.pydata.org/bokeh/release/bokeh-gl-1.4.0.min.js\"];\n  var css_urls = [];\n  \n\n  var inline_js = [\n    function(Bokeh) {\n      Bokeh.set_log_level(\"info\");\n    },\n    function(Bokeh) {\n    \n    \n    }\n  ];\n\n  function run_inline_js() {\n    \n    if (root.Bokeh !== undefined || force === true) {\n      \n    for (var i = 0; i < inline_js.length; i++) {\n      inline_js[i].call(root, root.Bokeh);\n    }\n    if (force === true) {\n        display_loaded();\n      }} else if (Date.now() < root._bokeh_timeout) {\n      setTimeout(run_inline_js, 100);\n    } else if (!root._bokeh_failed_load) {\n      console.log(\"Bokeh: BokehJS failed to load within specified timeout.\");\n      root._bokeh_failed_load = true;\n    } else if (force !== true) {\n      var cell = $(document.getElementById(\"1001\")).parents('.cell').data().cell;\n      cell.output_area.append_execute_result(NB_LOAD_WARNING)\n    }\n\n  }\n\n  if (root._bokeh_is_loading === 0) {\n    console.debug(\"Bokeh: BokehJS loaded, going straight to plotting\");\n    run_inline_js();\n  } else {\n    load_libs(css_urls, js_urls, function() {\n      console.debug(\"Bokeh: BokehJS plotting callback run at\", now());\n      run_inline_js();\n    });\n  }\n}(window));"
     },
     "metadata": {},
     "output_type": "display_data"
    }
   ],
   "source": [
    "import hail as hl\n",
    "hl.init()\n",
    "from hail.plot import show\n",
    "from pprint import pprint\n",
    "hl.plot.output_notebook()"
   ]
  },
  {
   "cell_type": "code",
   "execution_count": 2,
   "id": "101e4452",
   "metadata": {},
   "outputs": [],
   "source": [
    "import os\n",
    "import numpy as np\n",
    "import matplotlib.pyplot as plt"
   ]
  },
  {
   "cell_type": "code",
   "execution_count": null,
   "id": "44061232",
   "metadata": {},
   "outputs": [],
   "source": []
  },
  {
   "cell_type": "code",
   "execution_count": null,
   "id": "4e239d01",
   "metadata": {},
   "outputs": [],
   "source": [
    "# 生成した子供のゲノムデータからPRSを計算する関数を定義します"
   ]
  },
  {
   "cell_type": "code",
   "execution_count": 3,
   "id": "aee7ae11",
   "metadata": {},
   "outputs": [],
   "source": [
    "def compute_prs(dir_path, file_name, prs_model_name):\n",
    "\n",
    "    tl = hl.import_table(f\"{dir_path}/{file_name}\", impute=True, force=True)\n",
    "    tl = tl.annotate(alleles=tl.alleles.replace('\"', '')[1:-1].split(','))\n",
    "    \n",
    "    prs_model = hl.import_table(f\"prs-models/{prs_model_name}\", impute=True, force=True)\n",
    "    prs_model = prs_model.annotate(\n",
    "        variantID = hl.str(prs_model.chr_name) + \":\" + hl.str(prs_model.chr_position) \n",
    "    )\n",
    "    prs_model = prs_model.key_by('variantID')\n",
    "    \n",
    "    \n",
    "    tl_match_model = tl.annotate(**prs_model[tl.variantID])\n",
    "    tl_match_model = tl_match_model.filter(hl.is_defined(tl_match_model.effect_weight))\n",
    "\n",
    "    flip = hl.case().when(\n",
    "        (tl_match_model.effect_allele == tl_match_model.alleles[0]) \n",
    "        & (tl_match_model.reference_allele == tl_match_model.alleles[1]), True ).when( \n",
    "        (tl_match_model.effect_allele == tl_match_model.alleles[1])\n",
    "        & (tl_match_model.reference_allele == tl_match_model.alleles[0]), False ).or_missing()\n",
    "    tl_match_model = tl_match_model.annotate( flip=flip )\n",
    "    prs = hl.agg.sum(\n",
    "        hl.float64( tl_match_model.effect_weight ) * \n",
    "                    hl.if_else(\n",
    "                        tl_match_model.flip, \n",
    "                        2 - tl_match_model.DS,\n",
    "                        tl_match_model.DS\n",
    "                    )\n",
    "    )\n",
    "\n",
    "    return tl_match_model.aggregate(prs)"
   ]
  },
  {
   "cell_type": "code",
   "execution_count": null,
   "id": "de1a8c4e",
   "metadata": {},
   "outputs": [],
   "source": []
  },
  {
   "cell_type": "code",
   "execution_count": 4,
   "id": "1ac2c7be",
   "metadata": {},
   "outputs": [],
   "source": [
    "#  生成した子供のゲノムデータからPRSを計算します"
   ]
  },
  {
   "cell_type": "code",
   "execution_count": 4,
   "id": "78d82c14",
   "metadata": {},
   "outputs": [
    {
     "name": "stderr",
     "output_type": "stream",
     "text": [
      "2023-12-06 02:03:41.064 Hail: INFO: wrote table with 1713633 rows in 1 partition to /tmp/persist_tablelFTyhJocdn\n",
      "2023-12-06 02:03:42.141 Hail: INFO: Reading table to impute column types\n",
      "2023-12-06 02:03:48.096 Hail: INFO: Finished type imputation        (1 + 2) / 3]\n",
      "  Loading field 'locus' as type str (imputed)\n",
      "  Loading field 'alleles' as type str (imputed)\n",
      "  Loading field 'rsid' as type str (imputed)\n",
      "  Loading field 'variantID' as type str (imputed)\n",
      "  Loading field 's' as type str (imputed)\n",
      "  Loading field 'GT' as type str (imputed)\n",
      "  Loading field 'DS' as type float64 (imputed)\n",
      "2023-12-06 02:03:48.581 Hail: INFO: wrote table with 314 rows in 1 partition to /tmp/persist_tablek0cafnmmjg\n",
      "2023-12-06 02:03:48.989 Hail: INFO: Reading table to impute column types\n",
      "2023-12-06 02:03:49.424 Hail: INFO: Finished type imputation\n",
      "  Loading field 'chr_name' as type int32 (imputed)\n",
      "  Loading field 'chr_position' as type int32 (imputed)\n",
      "  Loading field 'effect_allele' as type str (imputed)\n",
      "  Loading field 'reference_allele' as type str (imputed)\n",
      "  Loading field 'effect_weight' as type float64 (imputed)\n",
      "  Loading field 'allelefrequency_effect' as type float64 (imputed)\n",
      "2023-12-06 02:03:55.852 Hail: INFO: Ordering unsorted dataset with network shuffle\n",
      "2023-12-06 02:03:56.095 Hail: INFO: Ordering unsorted dataset with network shuffle\n",
      "[Stage 10:======================================>                   (2 + 1) / 3]\r"
     ]
    },
    {
     "name": "stdout",
     "output_type": "stream",
     "text": [
      "TEST_NA18986_TEST_NA18986_x_TEST_NA18972_TEST_NA18972.txt complete, number of completed is 1\n"
     ]
    },
    {
     "name": "stderr",
     "output_type": "stream",
     "text": [
      "2023-12-06 02:04:07.391 Hail: INFO: wrote table with 1715502 rows in 1 partition to /tmp/persist_tablekNm2oH7pa4\n",
      "2023-12-06 02:04:07.720 Hail: INFO: Reading table to impute column types\n",
      "2023-12-06 02:04:12.732 Hail: INFO: Finished type imputation        (1 + 2) / 3]\n",
      "  Loading field 'locus' as type str (imputed)\n",
      "  Loading field 'alleles' as type str (imputed)\n",
      "  Loading field 'rsid' as type str (imputed)\n",
      "  Loading field 'variantID' as type str (imputed)\n",
      "  Loading field 's' as type str (imputed)\n",
      "  Loading field 'GT' as type str (imputed)\n",
      "  Loading field 'DS' as type float64 (imputed)\n",
      "2023-12-06 02:04:13.069 Hail: INFO: wrote table with 314 rows in 1 partition to /tmp/persist_tableXCzKTsQ6f6\n",
      "2023-12-06 02:04:13.329 Hail: INFO: Reading table to impute column types\n",
      "2023-12-06 02:04:13.621 Hail: INFO: Finished type imputation\n",
      "  Loading field 'chr_name' as type int32 (imputed)\n",
      "  Loading field 'chr_position' as type int32 (imputed)\n",
      "  Loading field 'effect_allele' as type str (imputed)\n",
      "  Loading field 'reference_allele' as type str (imputed)\n",
      "  Loading field 'effect_weight' as type float64 (imputed)\n",
      "  Loading field 'allelefrequency_effect' as type float64 (imputed)\n",
      "2023-12-06 02:04:19.927 Hail: INFO: Ordering unsorted dataset with network shuffle\n",
      "2023-12-06 02:04:20.072 Hail: INFO: Ordering unsorted dataset with network shuffle\n",
      "[Stage 21:===================>                                      (1 + 2) / 3]\r"
     ]
    },
    {
     "name": "stdout",
     "output_type": "stream",
     "text": [
      "TEST_NA18986_TEST_NA18986_x_TEST_NA19081_TEST_NA19081.txt complete, number of completed is 2\n"
     ]
    },
    {
     "name": "stderr",
     "output_type": "stream",
     "text": [
      "2023-12-06 02:04:31.836 Hail: INFO: wrote table with 1714756 rows in 1 partition to /tmp/persist_tableDr9eOIIv2D\n",
      "2023-12-06 02:04:32.094 Hail: INFO: Reading table to impute column types\n",
      "2023-12-06 02:04:37.073 Hail: INFO: Finished type imputation        (2 + 1) / 3]\n",
      "  Loading field 'locus' as type str (imputed)\n",
      "  Loading field 'alleles' as type str (imputed)\n",
      "  Loading field 'rsid' as type str (imputed)\n",
      "  Loading field 'variantID' as type str (imputed)\n",
      "  Loading field 's' as type str (imputed)\n",
      "  Loading field 'GT' as type str (imputed)\n",
      "  Loading field 'DS' as type float64 (imputed)\n",
      "2023-12-06 02:04:37.391 Hail: INFO: wrote table with 314 rows in 1 partition to /tmp/persist_tablejjfdfGvKcf\n",
      "2023-12-06 02:04:37.614 Hail: INFO: Reading table to impute column types\n",
      "2023-12-06 02:04:37.871 Hail: INFO: Finished type imputation\n",
      "  Loading field 'chr_name' as type int32 (imputed)\n",
      "  Loading field 'chr_position' as type int32 (imputed)\n",
      "  Loading field 'effect_allele' as type str (imputed)\n",
      "  Loading field 'reference_allele' as type str (imputed)\n",
      "  Loading field 'effect_weight' as type float64 (imputed)\n",
      "  Loading field 'allelefrequency_effect' as type float64 (imputed)\n",
      "2023-12-06 02:04:43.447 Hail: INFO: Ordering unsorted dataset with network shuffle\n",
      "2023-12-06 02:04:43.565 Hail: INFO: Ordering unsorted dataset with network shuffle\n",
      "[Stage 32:======================================>                   (2 + 1) / 3]\r"
     ]
    },
    {
     "name": "stdout",
     "output_type": "stream",
     "text": [
      "TEST_NA18986_TEST_NA18986_x_TEST_NA19010_TEST_NA19010.txt complete, number of completed is 3\n"
     ]
    },
    {
     "name": "stderr",
     "output_type": "stream",
     "text": [
      "2023-12-06 02:04:56.010 Hail: INFO: wrote table with 1715435 rows in 1 partition to /tmp/persist_table4gSknUlSVs\n",
      "2023-12-06 02:04:56.254 Hail: INFO: Reading table to impute column types\n",
      "2023-12-06 02:05:01.201 Hail: INFO: Finished type imputation        (1 + 2) / 3]\n",
      "  Loading field 'locus' as type str (imputed)\n",
      "  Loading field 'alleles' as type str (imputed)\n",
      "  Loading field 'rsid' as type str (imputed)\n",
      "  Loading field 'variantID' as type str (imputed)\n",
      "  Loading field 's' as type str (imputed)\n",
      "  Loading field 'GT' as type str (imputed)\n",
      "  Loading field 'DS' as type float64 (imputed)\n",
      "2023-12-06 02:05:01.492 Hail: INFO: wrote table with 314 rows in 1 partition to /tmp/persist_tableIrNaeg9HZV\n",
      "2023-12-06 02:05:01.711 Hail: INFO: Reading table to impute column types\n",
      "2023-12-06 02:05:01.939 Hail: INFO: Finished type imputation\n",
      "  Loading field 'chr_name' as type int32 (imputed)\n",
      "  Loading field 'chr_position' as type int32 (imputed)\n",
      "  Loading field 'effect_allele' as type str (imputed)\n",
      "  Loading field 'reference_allele' as type str (imputed)\n",
      "  Loading field 'effect_weight' as type float64 (imputed)\n",
      "  Loading field 'allelefrequency_effect' as type float64 (imputed)\n",
      "2023-12-06 02:05:08.337 Hail: INFO: Ordering unsorted dataset with network shuffle\n",
      "2023-12-06 02:05:08.452 Hail: INFO: Ordering unsorted dataset with network shuffle\n",
      "[Stage 43:>                                                         (0 + 3) / 3]\r"
     ]
    },
    {
     "name": "stdout",
     "output_type": "stream",
     "text": [
      "TEST_NA18986_TEST_NA18986_x_TEST_NA19085_TEST_NA19085.txt complete, number of completed is 4\n"
     ]
    },
    {
     "name": "stderr",
     "output_type": "stream",
     "text": [
      "2023-12-06 02:05:18.929 Hail: INFO: wrote table with 1712283 rows in 1 partition to /tmp/persist_tableMwWYmJ0QWP\n",
      "2023-12-06 02:05:19.174 Hail: INFO: Reading table to impute column types\n",
      "2023-12-06 02:05:23.847 Hail: INFO: Finished type imputation        (1 + 2) / 3]\n",
      "  Loading field 'locus' as type str (imputed)\n",
      "  Loading field 'alleles' as type str (imputed)\n",
      "  Loading field 'rsid' as type str (imputed)\n",
      "  Loading field 'variantID' as type str (imputed)\n",
      "  Loading field 's' as type str (imputed)\n",
      "  Loading field 'GT' as type str (imputed)\n",
      "  Loading field 'DS' as type float64 (imputed)\n",
      "2023-12-06 02:05:24.125 Hail: INFO: wrote table with 314 rows in 1 partition to /tmp/persist_tablec57Y02VAyU\n",
      "2023-12-06 02:05:24.334 Hail: INFO: Reading table to impute column types\n",
      "2023-12-06 02:05:24.562 Hail: INFO: Finished type imputation\n",
      "  Loading field 'chr_name' as type int32 (imputed)\n",
      "  Loading field 'chr_position' as type int32 (imputed)\n",
      "  Loading field 'effect_allele' as type str (imputed)\n",
      "  Loading field 'reference_allele' as type str (imputed)\n",
      "  Loading field 'effect_weight' as type float64 (imputed)\n",
      "  Loading field 'allelefrequency_effect' as type float64 (imputed)\n",
      "2023-12-06 02:05:30.172 Hail: INFO: Ordering unsorted dataset with network shuffle\n",
      "2023-12-06 02:05:30.286 Hail: INFO: Ordering unsorted dataset with network shuffle\n",
      "[Stage 54:>                                                         (0 + 3) / 3]\r"
     ]
    },
    {
     "name": "stdout",
     "output_type": "stream",
     "text": [
      "TEST_NA18986_TEST_NA18986_x_TEST_NA18954_TEST_NA18954.txt complete, number of completed is 5\n"
     ]
    },
    {
     "name": "stderr",
     "output_type": "stream",
     "text": [
      "2023-12-06 02:05:41.735 Hail: INFO: wrote table with 1710304 rows in 1 partition to /tmp/persist_tablexmKtWe9YKG\n",
      "2023-12-06 02:05:41.962 Hail: INFO: Reading table to impute column types\n",
      "2023-12-06 02:05:47.439 Hail: INFO: Finished type imputation        (1 + 2) / 3]\n",
      "  Loading field 'locus' as type str (imputed)\n",
      "  Loading field 'alleles' as type str (imputed)\n",
      "  Loading field 'rsid' as type str (imputed)\n",
      "  Loading field 'variantID' as type str (imputed)\n",
      "  Loading field 's' as type str (imputed)\n",
      "  Loading field 'GT' as type str (imputed)\n",
      "  Loading field 'DS' as type float64 (imputed)\n",
      "2023-12-06 02:05:47.750 Hail: INFO: wrote table with 314 rows in 1 partition to /tmp/persist_tablevV3IJi17wq\n",
      "2023-12-06 02:05:47.973 Hail: INFO: Reading table to impute column types\n",
      "2023-12-06 02:05:48.216 Hail: INFO: Finished type imputation\n",
      "  Loading field 'chr_name' as type int32 (imputed)\n",
      "  Loading field 'chr_position' as type int32 (imputed)\n",
      "  Loading field 'effect_allele' as type str (imputed)\n",
      "  Loading field 'reference_allele' as type str (imputed)\n",
      "  Loading field 'effect_weight' as type float64 (imputed)\n",
      "  Loading field 'allelefrequency_effect' as type float64 (imputed)\n",
      "2023-12-06 02:05:54.965 Hail: INFO: Ordering unsorted dataset with network shuffle\n",
      "2023-12-06 02:05:55.073 Hail: INFO: Ordering unsorted dataset with network shuffle\n",
      "[Stage 65:>                                                         (0 + 3) / 3]\r"
     ]
    },
    {
     "name": "stdout",
     "output_type": "stream",
     "text": [
      "TEST_NA18986_TEST_NA18986_x_TEST_NA19089_TEST_NA19089.txt complete, number of completed is 6\n"
     ]
    },
    {
     "name": "stderr",
     "output_type": "stream",
     "text": [
      "2023-12-06 02:06:06.581 Hail: INFO: wrote table with 1717768 rows in 1 partition to /tmp/persist_tableWRoB1TWPLS\n",
      "2023-12-06 02:06:06.830 Hail: INFO: Reading table to impute column types\n",
      "2023-12-06 02:06:11.772 Hail: INFO: Finished type imputation        (1 + 2) / 3]\n",
      "  Loading field 'locus' as type str (imputed)\n",
      "  Loading field 'alleles' as type str (imputed)\n",
      "  Loading field 'rsid' as type str (imputed)\n",
      "  Loading field 'variantID' as type str (imputed)\n",
      "  Loading field 's' as type str (imputed)\n",
      "  Loading field 'GT' as type str (imputed)\n",
      "  Loading field 'DS' as type float64 (imputed)\n",
      "2023-12-06 02:06:12.044 Hail: INFO: wrote table with 314 rows in 1 partition to /tmp/persist_tableRSyFzMJo4O\n",
      "2023-12-06 02:06:12.256 Hail: INFO: Reading table to impute column types\n",
      "2023-12-06 02:06:12.468 Hail: INFO: Finished type imputation\n",
      "  Loading field 'chr_name' as type int32 (imputed)\n",
      "  Loading field 'chr_position' as type int32 (imputed)\n",
      "  Loading field 'effect_allele' as type str (imputed)\n",
      "  Loading field 'reference_allele' as type str (imputed)\n",
      "  Loading field 'effect_weight' as type float64 (imputed)\n",
      "  Loading field 'allelefrequency_effect' as type float64 (imputed)\n",
      "2023-12-06 02:06:17.919 Hail: INFO: Ordering unsorted dataset with network shuffle\n",
      "2023-12-06 02:06:18.025 Hail: INFO: Ordering unsorted dataset with network shuffle\n",
      "[Stage 76:======================================>                   (2 + 1) / 3]\r"
     ]
    },
    {
     "name": "stdout",
     "output_type": "stream",
     "text": [
      "TEST_NA18986_TEST_NA18986_x_TEST_NA18950_TEST_NA18950.txt complete, number of completed is 7\n"
     ]
    },
    {
     "name": "stderr",
     "output_type": "stream",
     "text": [
      "2023-12-06 02:06:27.744 Hail: INFO: wrote table with 1713390 rows in 1 partition to /tmp/persist_tablewg8OzvBu1f\n",
      "2023-12-06 02:06:27.960 Hail: INFO: Reading table to impute column types\n",
      "2023-12-06 02:06:32.583 Hail: INFO: Finished type imputation        (1 + 2) / 3]\n",
      "  Loading field 'locus' as type str (imputed)\n",
      "  Loading field 'alleles' as type str (imputed)\n",
      "  Loading field 'rsid' as type str (imputed)\n",
      "  Loading field 'variantID' as type str (imputed)\n",
      "  Loading field 's' as type str (imputed)\n",
      "  Loading field 'GT' as type str (imputed)\n",
      "  Loading field 'DS' as type float64 (imputed)\n",
      "2023-12-06 02:06:32.852 Hail: INFO: wrote table with 314 rows in 1 partition to /tmp/persist_tableR6GaWcL1DK\n",
      "2023-12-06 02:06:33.055 Hail: INFO: Reading table to impute column types\n",
      "2023-12-06 02:06:33.268 Hail: INFO: Finished type imputation\n",
      "  Loading field 'chr_name' as type int32 (imputed)\n",
      "  Loading field 'chr_position' as type int32 (imputed)\n",
      "  Loading field 'effect_allele' as type str (imputed)\n",
      "  Loading field 'reference_allele' as type str (imputed)\n",
      "  Loading field 'effect_weight' as type float64 (imputed)\n",
      "  Loading field 'allelefrequency_effect' as type float64 (imputed)\n",
      "2023-12-06 02:06:38.876 Hail: INFO: Ordering unsorted dataset with network shuffle\n",
      "2023-12-06 02:06:38.993 Hail: INFO: Ordering unsorted dataset with network shuffle\n",
      "[Stage 87:===================>                                      (1 + 2) / 3]\r"
     ]
    },
    {
     "name": "stdout",
     "output_type": "stream",
     "text": [
      "TEST_NA18986_TEST_NA18986_x_TEST_NA18940_TEST_NA18940.txt complete, number of completed is 8\n"
     ]
    },
    {
     "name": "stderr",
     "output_type": "stream",
     "text": [
      "2023-12-06 02:06:48.406 Hail: INFO: wrote table with 1711548 rows in 1 partition to /tmp/persist_tableoMuwJcT9o6\n",
      "2023-12-06 02:06:48.633 Hail: INFO: Reading table to impute column types\n",
      "2023-12-06 02:06:53.033 Hail: INFO: Finished type imputation        (1 + 2) / 3]\n",
      "  Loading field 'locus' as type str (imputed)\n",
      "  Loading field 'alleles' as type str (imputed)\n",
      "  Loading field 'rsid' as type str (imputed)\n",
      "  Loading field 'variantID' as type str (imputed)\n",
      "  Loading field 's' as type str (imputed)\n",
      "  Loading field 'GT' as type str (imputed)\n",
      "  Loading field 'DS' as type float64 (imputed)\n",
      "2023-12-06 02:06:53.307 Hail: INFO: wrote table with 314 rows in 1 partition to /tmp/persist_tablevMpVOyt3F2\n",
      "2023-12-06 02:06:53.504 Hail: INFO: Reading table to impute column types\n",
      "2023-12-06 02:06:53.720 Hail: INFO: Finished type imputation\n",
      "  Loading field 'chr_name' as type int32 (imputed)\n",
      "  Loading field 'chr_position' as type int32 (imputed)\n",
      "  Loading field 'effect_allele' as type str (imputed)\n",
      "  Loading field 'reference_allele' as type str (imputed)\n",
      "  Loading field 'effect_weight' as type float64 (imputed)\n",
      "  Loading field 'allelefrequency_effect' as type float64 (imputed)\n",
      "2023-12-06 02:06:59.388 Hail: INFO: Ordering unsorted dataset with network shuffle\n",
      "2023-12-06 02:06:59.489 Hail: INFO: Ordering unsorted dataset with network shuffle\n",
      "[Stage 98:===================>                                      (1 + 2) / 3]\r"
     ]
    },
    {
     "name": "stdout",
     "output_type": "stream",
     "text": [
      "TEST_NA18986_TEST_NA18986_x_TEST_NA18944_TEST_NA18944.txt complete, number of completed is 9\n"
     ]
    },
    {
     "name": "stderr",
     "output_type": "stream",
     "text": [
      "2023-12-06 02:07:08.923 Hail: INFO: wrote table with 1710624 rows in 1 partition to /tmp/persist_tableXv5PoxYUvu\n",
      "2023-12-06 02:07:09.166 Hail: INFO: Reading table to impute column types\n",
      "2023-12-06 02:07:13.786 Hail: INFO: Finished type imputation        (1 + 2) / 3]\n",
      "  Loading field 'locus' as type str (imputed)\n",
      "  Loading field 'alleles' as type str (imputed)\n",
      "  Loading field 'rsid' as type str (imputed)\n",
      "  Loading field 'variantID' as type str (imputed)\n",
      "  Loading field 's' as type str (imputed)\n",
      "  Loading field 'GT' as type str (imputed)\n",
      "  Loading field 'DS' as type float64 (imputed)\n",
      "2023-12-06 02:07:14.058 Hail: INFO: wrote table with 314 rows in 1 partition to /tmp/persist_tableI8nlGKMqzM\n",
      "2023-12-06 02:07:14.295 Hail: INFO: Reading table to impute column types\n",
      "2023-12-06 02:07:14.507 Hail: INFO: Finished type imputation\n",
      "  Loading field 'chr_name' as type int32 (imputed)\n",
      "  Loading field 'chr_position' as type int32 (imputed)\n",
      "  Loading field 'effect_allele' as type str (imputed)\n",
      "  Loading field 'reference_allele' as type str (imputed)\n",
      "  Loading field 'effect_weight' as type float64 (imputed)\n",
      "  Loading field 'allelefrequency_effect' as type float64 (imputed)\n",
      "2023-12-06 02:07:20.832 Hail: INFO: Ordering unsorted dataset with network shuffle\n",
      "2023-12-06 02:07:20.935 Hail: INFO: Ordering unsorted dataset with network shuffle\n",
      "[Stage 109:>                                                        (0 + 3) / 3]\r"
     ]
    },
    {
     "name": "stdout",
     "output_type": "stream",
     "text": [
      "TEST_NA18986_TEST_NA18986_x_TEST_NA18948_TEST_NA18948.txt complete, number of completed is 10\n"
     ]
    },
    {
     "name": "stderr",
     "output_type": "stream",
     "text": [
      "2023-12-06 02:07:31.270 Hail: INFO: wrote table with 1715368 rows in 1 partition to /tmp/persist_tablecoLFu8zWK8\n",
      "2023-12-06 02:07:31.487 Hail: INFO: Reading table to impute column types\n",
      "2023-12-06 02:07:36.080 Hail: INFO: Finished type imputation        (1 + 2) / 3]\n",
      "  Loading field 'locus' as type str (imputed)\n",
      "  Loading field 'alleles' as type str (imputed)\n",
      "  Loading field 'rsid' as type str (imputed)\n",
      "  Loading field 'variantID' as type str (imputed)\n",
      "  Loading field 's' as type str (imputed)\n",
      "  Loading field 'GT' as type str (imputed)\n",
      "  Loading field 'DS' as type float64 (imputed)\n",
      "2023-12-06 02:07:36.350 Hail: INFO: wrote table with 314 rows in 1 partition to /tmp/persist_tableKQiX3E0RXa\n",
      "2023-12-06 02:07:36.545 Hail: INFO: Reading table to impute column types\n",
      "2023-12-06 02:07:36.754 Hail: INFO: Finished type imputation\n",
      "  Loading field 'chr_name' as type int32 (imputed)\n",
      "  Loading field 'chr_position' as type int32 (imputed)\n",
      "  Loading field 'effect_allele' as type str (imputed)\n",
      "  Loading field 'reference_allele' as type str (imputed)\n",
      "  Loading field 'effect_weight' as type float64 (imputed)\n",
      "  Loading field 'allelefrequency_effect' as type float64 (imputed)\n",
      "2023-12-06 02:07:42.298 Hail: INFO: Ordering unsorted dataset with network shuffle\n",
      "2023-12-06 02:07:42.394 Hail: INFO: Ordering unsorted dataset with network shuffle\n",
      "[Stage 120:>                                                        (0 + 3) / 3]\r"
     ]
    },
    {
     "name": "stdout",
     "output_type": "stream",
     "text": [
      "TEST_NA18986_TEST_NA18986_x_TEST_NA18966_TEST_NA18966.txt complete, number of completed is 11\n"
     ]
    },
    {
     "name": "stderr",
     "output_type": "stream",
     "text": [
      "2023-12-06 02:07:51.966 Hail: INFO: wrote table with 1717746 rows in 1 partition to /tmp/persist_tabledZ3AUedRuM\n",
      "2023-12-06 02:07:52.195 Hail: INFO: Reading table to impute column types\n",
      "2023-12-06 02:07:57.123 Hail: INFO: Finished type imputation        (1 + 2) / 3]\n",
      "  Loading field 'locus' as type str (imputed)\n",
      "  Loading field 'alleles' as type str (imputed)\n",
      "  Loading field 'rsid' as type str (imputed)\n",
      "  Loading field 'variantID' as type str (imputed)\n",
      "  Loading field 's' as type str (imputed)\n",
      "  Loading field 'GT' as type str (imputed)\n",
      "  Loading field 'DS' as type float64 (imputed)\n",
      "2023-12-06 02:07:57.416 Hail: INFO: wrote table with 314 rows in 1 partition to /tmp/persist_tableakgsyBCJkF\n",
      "2023-12-06 02:07:57.618 Hail: INFO: Reading table to impute column types\n",
      "2023-12-06 02:07:57.825 Hail: INFO: Finished type imputation\n",
      "  Loading field 'chr_name' as type int32 (imputed)\n",
      "  Loading field 'chr_position' as type int32 (imputed)\n",
      "  Loading field 'effect_allele' as type str (imputed)\n",
      "  Loading field 'reference_allele' as type str (imputed)\n",
      "  Loading field 'effect_weight' as type float64 (imputed)\n",
      "  Loading field 'allelefrequency_effect' as type float64 (imputed)\n",
      "2023-12-06 02:08:04.107 Hail: INFO: Ordering unsorted dataset with network shuffle\n",
      "2023-12-06 02:08:04.205 Hail: INFO: Ordering unsorted dataset with network shuffle\n",
      "[Stage 131:======================================>                  (2 + 1) / 3]\r"
     ]
    },
    {
     "name": "stdout",
     "output_type": "stream",
     "text": [
      "TEST_NA18986_TEST_NA18986_x_TEST_NA19000_TEST_NA19000.txt complete, number of completed is 12\n"
     ]
    },
    {
     "name": "stderr",
     "output_type": "stream",
     "text": [
      "2023-12-06 02:08:14.405 Hail: INFO: wrote table with 1713587 rows in 1 partition to /tmp/persist_tableqCcMoiLG2x\n",
      "2023-12-06 02:08:14.621 Hail: INFO: Reading table to impute column types\n",
      "2023-12-06 02:08:19.238 Hail: INFO: Finished type imputation        (1 + 2) / 3]\n",
      "  Loading field 'locus' as type str (imputed)\n",
      "  Loading field 'alleles' as type str (imputed)\n",
      "  Loading field 'rsid' as type str (imputed)\n",
      "  Loading field 'variantID' as type str (imputed)\n",
      "  Loading field 's' as type str (imputed)\n",
      "  Loading field 'GT' as type str (imputed)\n",
      "  Loading field 'DS' as type float64 (imputed)\n",
      "2023-12-06 02:08:19.596 Hail: INFO: wrote table with 314 rows in 1 partition to /tmp/persist_table1GTwYb17Yb\n",
      "2023-12-06 02:08:19.813 Hail: INFO: Reading table to impute column types\n",
      "2023-12-06 02:08:20.033 Hail: INFO: Finished type imputation\n",
      "  Loading field 'chr_name' as type int32 (imputed)\n",
      "  Loading field 'chr_position' as type int32 (imputed)\n",
      "  Loading field 'effect_allele' as type str (imputed)\n",
      "  Loading field 'reference_allele' as type str (imputed)\n",
      "  Loading field 'effect_weight' as type float64 (imputed)\n",
      "  Loading field 'allelefrequency_effect' as type float64 (imputed)\n",
      "2023-12-06 02:08:26.085 Hail: INFO: Ordering unsorted dataset with network shuffle\n",
      "2023-12-06 02:08:26.187 Hail: INFO: Ordering unsorted dataset with network shuffle\n",
      "[Stage 142:>                                                        (0 + 3) / 3]\r"
     ]
    },
    {
     "name": "stdout",
     "output_type": "stream",
     "text": [
      "TEST_NA18986_TEST_NA18986_x_TEST_NA19091_TEST_NA19091.txt complete, number of completed is 13\n"
     ]
    },
    {
     "name": "stderr",
     "output_type": "stream",
     "text": [
      "2023-12-06 02:08:37.730 Hail: INFO: wrote table with 1714792 rows in 1 partition to /tmp/persist_tablemwq1KK6AfB\n",
      "2023-12-06 02:08:37.942 Hail: INFO: Reading table to impute column types\n",
      "2023-12-06 02:08:43.823 Hail: INFO: Finished type imputation        (2 + 1) / 3]\n",
      "  Loading field 'locus' as type str (imputed)\n",
      "  Loading field 'alleles' as type str (imputed)\n",
      "  Loading field 'rsid' as type str (imputed)\n",
      "  Loading field 'variantID' as type str (imputed)\n",
      "  Loading field 's' as type str (imputed)\n",
      "  Loading field 'GT' as type str (imputed)\n",
      "  Loading field 'DS' as type float64 (imputed)\n",
      "2023-12-06 02:08:44.098 Hail: INFO: wrote table with 314 rows in 1 partition to /tmp/persist_tableRolLMWTWus\n",
      "2023-12-06 02:08:44.292 Hail: INFO: Reading table to impute column types\n",
      "2023-12-06 02:08:44.505 Hail: INFO: Finished type imputation\n",
      "  Loading field 'chr_name' as type int32 (imputed)\n",
      "  Loading field 'chr_position' as type int32 (imputed)\n",
      "  Loading field 'effect_allele' as type str (imputed)\n",
      "  Loading field 'reference_allele' as type str (imputed)\n",
      "  Loading field 'effect_weight' as type float64 (imputed)\n",
      "  Loading field 'allelefrequency_effect' as type float64 (imputed)\n",
      "2023-12-06 02:08:52.229 Hail: INFO: Ordering unsorted dataset with network shuffle\n",
      "2023-12-06 02:08:52.334 Hail: INFO: Ordering unsorted dataset with network shuffle\n",
      "[Stage 153:>                                                        (0 + 3) / 3]\r"
     ]
    },
    {
     "name": "stdout",
     "output_type": "stream",
     "text": [
      "TEST_NA18986_TEST_NA18986_x_TEST_NA19004_TEST_NA19004.txt complete, number of completed is 14\n"
     ]
    },
    {
     "name": "stderr",
     "output_type": "stream",
     "text": [
      "2023-12-06 02:09:02.850 Hail: INFO: wrote table with 1711858 rows in 1 partition to /tmp/persist_tableiwcHPDcD3J\n",
      "2023-12-06 02:09:03.066 Hail: INFO: Reading table to impute column types\n",
      "2023-12-06 02:09:07.722 Hail: INFO: Finished type imputation        (1 + 2) / 3]\n",
      "  Loading field 'locus' as type str (imputed)\n",
      "  Loading field 'alleles' as type str (imputed)\n",
      "  Loading field 'rsid' as type str (imputed)\n",
      "  Loading field 'variantID' as type str (imputed)\n",
      "  Loading field 's' as type str (imputed)\n",
      "  Loading field 'GT' as type str (imputed)\n",
      "  Loading field 'DS' as type float64 (imputed)\n",
      "2023-12-06 02:09:07.997 Hail: INFO: wrote table with 314 rows in 1 partition to /tmp/persist_tablenBus4TS4ey\n",
      "2023-12-06 02:09:08.193 Hail: INFO: Reading table to impute column types\n",
      "2023-12-06 02:09:08.397 Hail: INFO: Finished type imputation\n",
      "  Loading field 'chr_name' as type int32 (imputed)\n",
      "  Loading field 'chr_position' as type int32 (imputed)\n",
      "  Loading field 'effect_allele' as type str (imputed)\n",
      "  Loading field 'reference_allele' as type str (imputed)\n",
      "  Loading field 'effect_weight' as type float64 (imputed)\n",
      "  Loading field 'allelefrequency_effect' as type float64 (imputed)\n",
      "2023-12-06 02:09:14.002 Hail: INFO: Ordering unsorted dataset with network shuffle\n",
      "2023-12-06 02:09:14.104 Hail: INFO: Ordering unsorted dataset with network shuffle\n",
      "[Stage 164:===================>                                     (1 + 2) / 3]\r"
     ]
    },
    {
     "name": "stdout",
     "output_type": "stream",
     "text": [
      "TEST_NA18986_TEST_NA18986_x_TEST_NA18962_TEST_NA18962.txt complete, number of completed is 15\n"
     ]
    },
    {
     "name": "stderr",
     "output_type": "stream",
     "text": [
      "2023-12-06 02:09:23.869 Hail: INFO: wrote table with 1713072 rows in 1 partition to /tmp/persist_table5msx0NKuTY\n",
      "2023-12-06 02:09:24.073 Hail: INFO: Reading table to impute column types\n",
      "2023-12-06 02:09:28.677 Hail: INFO: Finished type imputation        (1 + 2) / 3]\n",
      "  Loading field 'locus' as type str (imputed)\n",
      "  Loading field 'alleles' as type str (imputed)\n",
      "  Loading field 'rsid' as type str (imputed)\n",
      "  Loading field 'variantID' as type str (imputed)\n",
      "  Loading field 's' as type str (imputed)\n",
      "  Loading field 'GT' as type str (imputed)\n",
      "  Loading field 'DS' as type float64 (imputed)\n",
      "2023-12-06 02:09:29.091 Hail: INFO: wrote table with 314 rows in 1 partition to /tmp/persist_tablehOormKrouj\n",
      "2023-12-06 02:09:29.336 Hail: INFO: Reading table to impute column types\n",
      "2023-12-06 02:09:29.549 Hail: INFO: Finished type imputation\n",
      "  Loading field 'chr_name' as type int32 (imputed)\n",
      "  Loading field 'chr_position' as type int32 (imputed)\n",
      "  Loading field 'effect_allele' as type str (imputed)\n",
      "  Loading field 'reference_allele' as type str (imputed)\n",
      "  Loading field 'effect_weight' as type float64 (imputed)\n",
      "  Loading field 'allelefrequency_effect' as type float64 (imputed)\n",
      "2023-12-06 02:09:35.904 Hail: INFO: Ordering unsorted dataset with network shuffle\n",
      "2023-12-06 02:09:36.000 Hail: INFO: Ordering unsorted dataset with network shuffle\n",
      "[Stage 175:>                                                        (0 + 3) / 3]\r"
     ]
    },
    {
     "name": "stdout",
     "output_type": "stream",
     "text": [
      "TEST_NA18986_TEST_NA18986_x_TEST_NA18987_TEST_NA18987.txt complete, number of completed is 16\n"
     ]
    },
    {
     "name": "stderr",
     "output_type": "stream",
     "text": [
      "2023-12-06 02:09:46.469 Hail: INFO: wrote table with 1713225 rows in 1 partition to /tmp/persist_tablextPvvemNM2\n",
      "2023-12-06 02:09:46.669 Hail: INFO: Reading table to impute column types\n",
      "2023-12-06 02:09:51.209 Hail: INFO: Finished type imputation        (1 + 2) / 3]\n",
      "  Loading field 'locus' as type str (imputed)\n",
      "  Loading field 'alleles' as type str (imputed)\n",
      "  Loading field 'rsid' as type str (imputed)\n",
      "  Loading field 'variantID' as type str (imputed)\n",
      "  Loading field 's' as type str (imputed)\n",
      "  Loading field 'GT' as type str (imputed)\n",
      "  Loading field 'DS' as type float64 (imputed)\n",
      "2023-12-06 02:09:51.484 Hail: INFO: wrote table with 314 rows in 1 partition to /tmp/persist_tableZWDXT0kXu9\n",
      "2023-12-06 02:09:51.675 Hail: INFO: Reading table to impute column types\n",
      "2023-12-06 02:09:51.899 Hail: INFO: Finished type imputation\n",
      "  Loading field 'chr_name' as type int32 (imputed)\n",
      "  Loading field 'chr_position' as type int32 (imputed)\n",
      "  Loading field 'effect_allele' as type str (imputed)\n",
      "  Loading field 'reference_allele' as type str (imputed)\n",
      "  Loading field 'effect_weight' as type float64 (imputed)\n",
      "  Loading field 'allelefrequency_effect' as type float64 (imputed)\n",
      "2023-12-06 02:09:57.520 Hail: INFO: Ordering unsorted dataset with network shuffle\n",
      "2023-12-06 02:09:57.617 Hail: INFO: Ordering unsorted dataset with network shuffle\n",
      "[Stage 186:===================>                                     (1 + 2) / 3]\r"
     ]
    },
    {
     "name": "stdout",
     "output_type": "stream",
     "text": [
      "TEST_NA18986_TEST_NA18986_x_TEST_NA19074_TEST_NA19074.txt complete, number of completed is 17\n"
     ]
    },
    {
     "name": "stderr",
     "output_type": "stream",
     "text": [
      "2023-12-06 02:10:09.603 Hail: INFO: wrote table with 1718642 rows in 1 partition to /tmp/persist_tableqtxif2a19s\n",
      "2023-12-06 02:10:09.805 Hail: INFO: Reading table to impute column types\n",
      "2023-12-06 02:10:14.497 Hail: INFO: Finished type imputation        (2 + 1) / 3]\n",
      "  Loading field 'locus' as type str (imputed)\n",
      "  Loading field 'alleles' as type str (imputed)\n",
      "  Loading field 'rsid' as type str (imputed)\n",
      "  Loading field 'variantID' as type str (imputed)\n",
      "  Loading field 's' as type str (imputed)\n",
      "  Loading field 'GT' as type str (imputed)\n",
      "  Loading field 'DS' as type float64 (imputed)\n",
      "2023-12-06 02:10:14.754 Hail: INFO: wrote table with 314 rows in 1 partition to /tmp/persist_tablejsnP1g0W98\n",
      "2023-12-06 02:10:14.958 Hail: INFO: Reading table to impute column types\n",
      "2023-12-06 02:10:15.153 Hail: INFO: Finished type imputation\n",
      "  Loading field 'chr_name' as type int32 (imputed)\n",
      "  Loading field 'chr_position' as type int32 (imputed)\n",
      "  Loading field 'effect_allele' as type str (imputed)\n",
      "  Loading field 'reference_allele' as type str (imputed)\n",
      "  Loading field 'effect_weight' as type float64 (imputed)\n",
      "  Loading field 'allelefrequency_effect' as type float64 (imputed)\n",
      "2023-12-06 02:10:20.791 Hail: INFO: Ordering unsorted dataset with network shuffle\n",
      "2023-12-06 02:10:20.885 Hail: INFO: Ordering unsorted dataset with network shuffle\n",
      "[Stage 197:======================================>                  (2 + 1) / 3]\r"
     ]
    },
    {
     "name": "stdout",
     "output_type": "stream",
     "text": [
      "TEST_NA18986_TEST_NA18986_x_TEST_NA18983_TEST_NA18983.txt complete, number of completed is 18\n"
     ]
    },
    {
     "name": "stderr",
     "output_type": "stream",
     "text": [
      "2023-12-06 02:10:30.915 Hail: INFO: wrote table with 1711191 rows in 1 partition to /tmp/persist_tableoSxzpZZQGk\n",
      "2023-12-06 02:10:31.131 Hail: INFO: Reading table to impute column types\n",
      "2023-12-06 02:10:35.748 Hail: INFO: Finished type imputation        (1 + 2) / 3]\n",
      "  Loading field 'locus' as type str (imputed)\n",
      "  Loading field 'alleles' as type str (imputed)\n",
      "  Loading field 'rsid' as type str (imputed)\n",
      "  Loading field 'variantID' as type str (imputed)\n",
      "  Loading field 's' as type str (imputed)\n",
      "  Loading field 'GT' as type str (imputed)\n",
      "  Loading field 'DS' as type float64 (imputed)\n",
      "2023-12-06 02:10:36.013 Hail: INFO: wrote table with 314 rows in 1 partition to /tmp/persist_table4m5MVGGdNi\n",
      "2023-12-06 02:10:36.247 Hail: INFO: Reading table to impute column types\n",
      "2023-12-06 02:10:36.447 Hail: INFO: Finished type imputation\n",
      "  Loading field 'chr_name' as type int32 (imputed)\n",
      "  Loading field 'chr_position' as type int32 (imputed)\n",
      "  Loading field 'effect_allele' as type str (imputed)\n",
      "  Loading field 'reference_allele' as type str (imputed)\n",
      "  Loading field 'effect_weight' as type float64 (imputed)\n",
      "  Loading field 'allelefrequency_effect' as type float64 (imputed)\n",
      "2023-12-06 02:10:41.956 Hail: INFO: Ordering unsorted dataset with network shuffle\n",
      "2023-12-06 02:10:42.048 Hail: INFO: Ordering unsorted dataset with network shuffle\n",
      "[Stage 208:======================================>                  (2 + 1) / 3]\r"
     ]
    },
    {
     "name": "stdout",
     "output_type": "stream",
     "text": [
      "TEST_NA18986_TEST_NA18986_x_TEST_NA19070_TEST_NA19070.txt complete, number of completed is 19\n"
     ]
    },
    {
     "name": "stderr",
     "output_type": "stream",
     "text": [
      "2023-12-06 02:10:51.990 Hail: INFO: wrote table with 1715552 rows in 1 partition to /tmp/persist_tablewTAwHckHGI\n",
      "2023-12-06 02:10:52.197 Hail: INFO: Reading table to impute column types\n",
      "2023-12-06 02:10:56.800 Hail: INFO: Finished type imputation        (1 + 2) / 3]\n",
      "  Loading field 'locus' as type str (imputed)\n",
      "  Loading field 'alleles' as type str (imputed)\n",
      "  Loading field 'rsid' as type str (imputed)\n",
      "  Loading field 'variantID' as type str (imputed)\n",
      "  Loading field 's' as type str (imputed)\n",
      "  Loading field 'GT' as type str (imputed)\n",
      "  Loading field 'DS' as type float64 (imputed)\n",
      "2023-12-06 02:10:57.064 Hail: INFO: wrote table with 314 rows in 1 partition to /tmp/persist_tablepwSlx9Ujqa\n",
      "2023-12-06 02:10:57.252 Hail: INFO: Reading table to impute column types\n",
      "2023-12-06 02:10:57.444 Hail: INFO: Finished type imputation\n",
      "  Loading field 'chr_name' as type int32 (imputed)\n",
      "  Loading field 'chr_position' as type int32 (imputed)\n",
      "  Loading field 'effect_allele' as type str (imputed)\n",
      "  Loading field 'reference_allele' as type str (imputed)\n",
      "  Loading field 'effect_weight' as type float64 (imputed)\n",
      "  Loading field 'allelefrequency_effect' as type float64 (imputed)\n",
      "2023-12-06 02:11:03.006 Hail: INFO: Ordering unsorted dataset with network shuffle\n",
      "2023-12-06 02:11:03.097 Hail: INFO: Ordering unsorted dataset with network shuffle\n",
      "[Stage 219:>                                                        (0 + 3) / 3]\r"
     ]
    },
    {
     "name": "stdout",
     "output_type": "stream",
     "text": [
      "TEST_NA18986_TEST_NA18986_x_TEST_NA19078_TEST_NA19078.txt complete, number of completed is 20\n"
     ]
    },
    {
     "name": "stderr",
     "output_type": "stream",
     "text": [
      "2023-12-06 02:11:12.530 Hail: INFO: wrote table with 1709291 rows in 1 partition to /tmp/persist_tableztiuB4GDz0\n",
      "2023-12-06 02:11:12.723 Hail: INFO: Reading table to impute column types\n",
      "2023-12-06 02:11:17.323 Hail: INFO: Finished type imputation        (1 + 2) / 3]\n",
      "  Loading field 'locus' as type str (imputed)\n",
      "  Loading field 'alleles' as type str (imputed)\n",
      "  Loading field 'rsid' as type str (imputed)\n",
      "  Loading field 'variantID' as type str (imputed)\n",
      "  Loading field 's' as type str (imputed)\n",
      "  Loading field 'GT' as type str (imputed)\n",
      "  Loading field 'DS' as type float64 (imputed)\n",
      "2023-12-06 02:11:17.585 Hail: INFO: wrote table with 314 rows in 1 partition to /tmp/persist_tableLT6uocX1i7\n",
      "2023-12-06 02:11:17.766 Hail: INFO: Reading table to impute column types\n",
      "2023-12-06 02:11:17.958 Hail: INFO: Finished type imputation\n",
      "  Loading field 'chr_name' as type int32 (imputed)\n",
      "  Loading field 'chr_position' as type int32 (imputed)\n",
      "  Loading field 'effect_allele' as type str (imputed)\n",
      "  Loading field 'reference_allele' as type str (imputed)\n",
      "  Loading field 'effect_weight' as type float64 (imputed)\n",
      "  Loading field 'allelefrequency_effect' as type float64 (imputed)\n",
      "2023-12-06 02:11:23.607 Hail: INFO: Ordering unsorted dataset with network shuffle\n",
      "2023-12-06 02:11:23.694 Hail: INFO: Ordering unsorted dataset with network shuffle\n",
      "[Stage 230:>                                                        (0 + 3) / 3]\r"
     ]
    },
    {
     "name": "stdout",
     "output_type": "stream",
     "text": [
      "TEST_NA18986_TEST_NA18986_x_TEST_NA19056_TEST_NA19056.txt complete, number of completed is 21\n"
     ]
    },
    {
     "name": "stderr",
     "output_type": "stream",
     "text": [
      "2023-12-06 02:11:33.251 Hail: INFO: wrote table with 1719005 rows in 1 partition to /tmp/persist_tablepORz3Si3y0\n",
      "2023-12-06 02:11:33.460 Hail: INFO: Reading table to impute column types\n",
      "2023-12-06 02:11:38.011 Hail: INFO: Finished type imputation        (1 + 2) / 3]\n",
      "  Loading field 'locus' as type str (imputed)\n",
      "  Loading field 'alleles' as type str (imputed)\n",
      "  Loading field 'rsid' as type str (imputed)\n",
      "  Loading field 'variantID' as type str (imputed)\n",
      "  Loading field 's' as type str (imputed)\n",
      "  Loading field 'GT' as type str (imputed)\n",
      "  Loading field 'DS' as type float64 (imputed)\n",
      "2023-12-06 02:11:38.277 Hail: INFO: wrote table with 314 rows in 1 partition to /tmp/persist_table2MGMg4klso\n",
      "2023-12-06 02:11:38.459 Hail: INFO: Reading table to impute column types\n",
      "2023-12-06 02:11:38.669 Hail: INFO: Finished type imputation\n",
      "  Loading field 'chr_name' as type int32 (imputed)\n",
      "  Loading field 'chr_position' as type int32 (imputed)\n",
      "  Loading field 'effect_allele' as type str (imputed)\n",
      "  Loading field 'reference_allele' as type str (imputed)\n",
      "  Loading field 'effect_weight' as type float64 (imputed)\n",
      "  Loading field 'allelefrequency_effect' as type float64 (imputed)\n",
      "2023-12-06 02:11:44.269 Hail: INFO: Ordering unsorted dataset with network shuffle\n",
      "2023-12-06 02:11:44.390 Hail: INFO: Ordering unsorted dataset with network shuffle\n",
      "[Stage 241:>                                                        (0 + 3) / 3]\r"
     ]
    },
    {
     "name": "stdout",
     "output_type": "stream",
     "text": [
      "TEST_NA18986_TEST_NA18986_x_TEST_NA19068_TEST_NA19068.txt complete, number of completed is 22\n"
     ]
    },
    {
     "name": "stderr",
     "output_type": "stream",
     "text": [
      "2023-12-06 02:11:53.990 Hail: INFO: wrote table with 1714687 rows in 1 partition to /tmp/persist_table3ZmvFmifYL\n",
      "2023-12-06 02:11:54.200 Hail: INFO: Reading table to impute column types\n",
      "2023-12-06 02:11:58.809 Hail: INFO: Finished type imputation        (1 + 2) / 3]\n",
      "  Loading field 'locus' as type str (imputed)\n",
      "  Loading field 'alleles' as type str (imputed)\n",
      "  Loading field 'rsid' as type str (imputed)\n",
      "  Loading field 'variantID' as type str (imputed)\n",
      "  Loading field 's' as type str (imputed)\n",
      "  Loading field 'GT' as type str (imputed)\n",
      "  Loading field 'DS' as type float64 (imputed)\n",
      "2023-12-06 02:11:59.073 Hail: INFO: wrote table with 314 rows in 1 partition to /tmp/persist_tableDKINuETSfe\n",
      "2023-12-06 02:11:59.262 Hail: INFO: Reading table to impute column types\n",
      "2023-12-06 02:11:59.474 Hail: INFO: Finished type imputation\n",
      "  Loading field 'chr_name' as type int32 (imputed)\n",
      "  Loading field 'chr_position' as type int32 (imputed)\n",
      "  Loading field 'effect_allele' as type str (imputed)\n",
      "  Loading field 'reference_allele' as type str (imputed)\n",
      "  Loading field 'effect_weight' as type float64 (imputed)\n",
      "  Loading field 'allelefrequency_effect' as type float64 (imputed)\n",
      "2023-12-06 02:12:05.073 Hail: INFO: Ordering unsorted dataset with network shuffle\n",
      "2023-12-06 02:12:05.164 Hail: INFO: Ordering unsorted dataset with network shuffle\n",
      "[Stage 252:>                                                        (0 + 3) / 3]\r"
     ]
    },
    {
     "name": "stdout",
     "output_type": "stream",
     "text": [
      "TEST_NA18986_TEST_NA18986_x_TEST_NA19060_TEST_NA19060.txt complete, number of completed is 23\n"
     ]
    },
    {
     "name": "stderr",
     "output_type": "stream",
     "text": [
      "2023-12-06 02:12:14.577 Hail: INFO: wrote table with 1714485 rows in 1 partition to /tmp/persist_table6jkEzbwIwk\n",
      "2023-12-06 02:12:14.829 Hail: INFO: Reading table to impute column types\n",
      "2023-12-06 02:12:19.393 Hail: INFO: Finished type imputation        (1 + 2) / 3]\n",
      "  Loading field 'locus' as type str (imputed)\n",
      "  Loading field 'alleles' as type str (imputed)\n",
      "  Loading field 'rsid' as type str (imputed)\n",
      "  Loading field 'variantID' as type str (imputed)\n",
      "  Loading field 's' as type str (imputed)\n",
      "  Loading field 'GT' as type str (imputed)\n",
      "  Loading field 'DS' as type float64 (imputed)\n",
      "2023-12-06 02:12:19.650 Hail: INFO: wrote table with 314 rows in 1 partition to /tmp/persist_tableodn8I65lcQ\n",
      "2023-12-06 02:12:19.836 Hail: INFO: Reading table to impute column types\n",
      "2023-12-06 02:12:20.033 Hail: INFO: Finished type imputation\n",
      "  Loading field 'chr_name' as type int32 (imputed)\n",
      "  Loading field 'chr_position' as type int32 (imputed)\n",
      "  Loading field 'effect_allele' as type str (imputed)\n",
      "  Loading field 'reference_allele' as type str (imputed)\n",
      "  Loading field 'effect_weight' as type float64 (imputed)\n",
      "  Loading field 'allelefrequency_effect' as type float64 (imputed)\n",
      "2023-12-06 02:12:25.678 Hail: INFO: Ordering unsorted dataset with network shuffle\n",
      "2023-12-06 02:12:25.767 Hail: INFO: Ordering unsorted dataset with network shuffle\n",
      "[Stage 263:===================>                                     (1 + 2) / 3]\r"
     ]
    },
    {
     "name": "stdout",
     "output_type": "stream",
     "text": [
      "TEST_NA18986_TEST_NA18986_x_TEST_NA18993_TEST_NA18993.txt complete, number of completed is 24\n"
     ]
    },
    {
     "name": "stderr",
     "output_type": "stream",
     "text": [
      "2023-12-06 02:12:37.331 Hail: INFO: wrote table with 1710975 rows in 1 partition to /tmp/persist_tableh7lnA2gN2y\n",
      "2023-12-06 02:12:37.547 Hail: INFO: Reading table to impute column types\n",
      "2023-12-06 02:12:42.162 Hail: INFO: Finished type imputation        (1 + 2) / 3]\n",
      "  Loading field 'locus' as type str (imputed)\n",
      "  Loading field 'alleles' as type str (imputed)\n",
      "  Loading field 'rsid' as type str (imputed)\n",
      "  Loading field 'variantID' as type str (imputed)\n",
      "  Loading field 's' as type str (imputed)\n",
      "  Loading field 'GT' as type str (imputed)\n",
      "  Loading field 'DS' as type float64 (imputed)\n",
      "2023-12-06 02:12:42.413 Hail: INFO: wrote table with 314 rows in 1 partition to /tmp/persist_tableU8tVcOXOj1\n",
      "2023-12-06 02:12:42.594 Hail: INFO: Reading table to impute column types\n",
      "2023-12-06 02:12:42.784 Hail: INFO: Finished type imputation\n",
      "  Loading field 'chr_name' as type int32 (imputed)\n",
      "  Loading field 'chr_position' as type int32 (imputed)\n",
      "  Loading field 'effect_allele' as type str (imputed)\n",
      "  Loading field 'reference_allele' as type str (imputed)\n",
      "  Loading field 'effect_weight' as type float64 (imputed)\n",
      "  Loading field 'allelefrequency_effect' as type float64 (imputed)\n",
      "2023-12-06 02:12:48.329 Hail: INFO: Ordering unsorted dataset with network shuffle\n",
      "2023-12-06 02:12:48.415 Hail: INFO: Ordering unsorted dataset with network shuffle\n",
      "[Stage 274:>                                                        (0 + 3) / 3]\r"
     ]
    },
    {
     "name": "stdout",
     "output_type": "stream",
     "text": [
      "TEST_NA18986_TEST_NA18986_x_TEST_NA19064_TEST_NA19064.txt complete, number of completed is 25\n"
     ]
    },
    {
     "name": "stderr",
     "output_type": "stream",
     "text": [
      "2023-12-06 02:12:58.129 Hail: INFO: wrote table with 1714841 rows in 1 partition to /tmp/persist_tableBc1KLfrGgo\n",
      "2023-12-06 02:12:58.328 Hail: INFO: Reading table to impute column types\n",
      "2023-12-06 02:13:02.832 Hail: INFO: Finished type imputation        (1 + 2) / 3]\n",
      "  Loading field 'locus' as type str (imputed)\n",
      "  Loading field 'alleles' as type str (imputed)\n",
      "  Loading field 'rsid' as type str (imputed)\n",
      "  Loading field 'variantID' as type str (imputed)\n",
      "  Loading field 's' as type str (imputed)\n",
      "  Loading field 'GT' as type str (imputed)\n",
      "  Loading field 'DS' as type float64 (imputed)\n",
      "2023-12-06 02:13:03.090 Hail: INFO: wrote table with 314 rows in 1 partition to /tmp/persist_tablegv8TcXK8Z7\n",
      "2023-12-06 02:13:03.323 Hail: INFO: Reading table to impute column types\n",
      "2023-12-06 02:13:03.518 Hail: INFO: Finished type imputation\n",
      "  Loading field 'chr_name' as type int32 (imputed)\n",
      "  Loading field 'chr_position' as type int32 (imputed)\n",
      "  Loading field 'effect_allele' as type str (imputed)\n",
      "  Loading field 'reference_allele' as type str (imputed)\n",
      "  Loading field 'effect_weight' as type float64 (imputed)\n",
      "  Loading field 'allelefrequency_effect' as type float64 (imputed)\n",
      "2023-12-06 02:13:09.051 Hail: INFO: Ordering unsorted dataset with network shuffle\n",
      "2023-12-06 02:13:09.141 Hail: INFO: Ordering unsorted dataset with network shuffle\n",
      "[Stage 285:===================>                                     (1 + 2) / 3]\r"
     ]
    },
    {
     "name": "stdout",
     "output_type": "stream",
     "text": [
      "TEST_NA18986_TEST_NA18986_x_TEST_NA18997_TEST_NA18997.txt complete, number of completed is 26\n"
     ]
    },
    {
     "name": "stderr",
     "output_type": "stream",
     "text": [
      "2023-12-06 02:13:20.402 Hail: INFO: wrote table with 1717369 rows in 1 partition to /tmp/persist_tableUwTcpx1o5A\n",
      "2023-12-06 02:13:20.600 Hail: INFO: Reading table to impute column types\n",
      "2023-12-06 02:13:25.455 Hail: INFO: Finished type imputation        (1 + 2) / 3]\n",
      "  Loading field 'locus' as type str (imputed)\n",
      "  Loading field 'alleles' as type str (imputed)\n",
      "  Loading field 'rsid' as type str (imputed)\n",
      "  Loading field 'variantID' as type str (imputed)\n",
      "  Loading field 's' as type str (imputed)\n",
      "  Loading field 'GT' as type str (imputed)\n",
      "  Loading field 'DS' as type float64 (imputed)\n",
      "2023-12-06 02:13:25.722 Hail: INFO: wrote table with 314 rows in 1 partition to /tmp/persist_tablePz2tXE5pJr\n",
      "2023-12-06 02:13:25.967 Hail: INFO: Reading table to impute column types\n",
      "2023-12-06 02:13:26.162 Hail: INFO: Finished type imputation\n",
      "  Loading field 'chr_name' as type int32 (imputed)\n",
      "  Loading field 'chr_position' as type int32 (imputed)\n",
      "  Loading field 'effect_allele' as type str (imputed)\n",
      "  Loading field 'reference_allele' as type str (imputed)\n",
      "  Loading field 'effect_weight' as type float64 (imputed)\n",
      "  Loading field 'allelefrequency_effect' as type float64 (imputed)\n",
      "2023-12-06 02:13:32.180 Hail: INFO: Ordering unsorted dataset with network shuffle\n",
      "2023-12-06 02:13:32.270 Hail: INFO: Ordering unsorted dataset with network shuffle\n",
      "[Stage 296:>                                                        (0 + 3) / 3]\r"
     ]
    },
    {
     "name": "stdout",
     "output_type": "stream",
     "text": [
      "TEST_NA18986_TEST_NA18986_x_TEST_NA19080_TEST_NA19080.txt complete, number of completed is 27\n"
     ]
    },
    {
     "name": "stderr",
     "output_type": "stream",
     "text": [
      "2023-12-06 02:13:41.673 Hail: INFO: wrote table with 1713984 rows in 1 partition to /tmp/persist_tableMP1NENqwnG\n",
      "2023-12-06 02:13:41.871 Hail: INFO: Reading table to impute column types\n",
      "2023-12-06 02:13:46.475 Hail: INFO: Finished type imputation        (1 + 2) / 3]\n",
      "  Loading field 'locus' as type str (imputed)\n",
      "  Loading field 'alleles' as type str (imputed)\n",
      "  Loading field 'rsid' as type str (imputed)\n",
      "  Loading field 'variantID' as type str (imputed)\n",
      "  Loading field 's' as type str (imputed)\n",
      "  Loading field 'GT' as type str (imputed)\n",
      "  Loading field 'DS' as type float64 (imputed)\n",
      "2023-12-06 02:13:46.735 Hail: INFO: wrote table with 314 rows in 1 partition to /tmp/persist_tableacHjZgUmwK\n",
      "2023-12-06 02:13:46.920 Hail: INFO: Reading table to impute column types\n",
      "2023-12-06 02:13:47.127 Hail: INFO: Finished type imputation\n",
      "  Loading field 'chr_name' as type int32 (imputed)\n",
      "  Loading field 'chr_position' as type int32 (imputed)\n",
      "  Loading field 'effect_allele' as type str (imputed)\n",
      "  Loading field 'reference_allele' as type str (imputed)\n",
      "  Loading field 'effect_weight' as type float64 (imputed)\n",
      "  Loading field 'allelefrequency_effect' as type float64 (imputed)\n",
      "2023-12-06 02:13:53.230 Hail: INFO: Ordering unsorted dataset with network shuffle\n",
      "2023-12-06 02:13:53.315 Hail: INFO: Ordering unsorted dataset with network shuffle\n",
      "[Stage 307:>                                                        (0 + 3) / 3]\r"
     ]
    },
    {
     "name": "stdout",
     "output_type": "stream",
     "text": [
      "TEST_NA18986_TEST_NA18986_x_TEST_NA18973_TEST_NA18973.txt complete, number of completed is 28\n"
     ]
    },
    {
     "name": "stderr",
     "output_type": "stream",
     "text": [
      "2023-12-06 02:14:05.850 Hail: INFO: wrote table with 1715069 rows in 1 partition to /tmp/persist_tablefc9vXrVjFu\n",
      "2023-12-06 02:14:06.060 Hail: INFO: Reading table to impute column types\n",
      "2023-12-06 02:14:10.672 Hail: INFO: Finished type imputation        (2 + 1) / 3]\n",
      "  Loading field 'locus' as type str (imputed)\n",
      "  Loading field 'alleles' as type str (imputed)\n",
      "  Loading field 'rsid' as type str (imputed)\n",
      "  Loading field 'variantID' as type str (imputed)\n",
      "  Loading field 's' as type str (imputed)\n",
      "  Loading field 'GT' as type str (imputed)\n",
      "  Loading field 'DS' as type float64 (imputed)\n",
      "2023-12-06 02:14:10.929 Hail: INFO: wrote table with 314 rows in 1 partition to /tmp/persist_tableUWJ27WSeu3\n",
      "2023-12-06 02:14:11.123 Hail: INFO: Reading table to impute column types\n",
      "2023-12-06 02:14:11.318 Hail: INFO: Finished type imputation\n",
      "  Loading field 'chr_name' as type int32 (imputed)\n",
      "  Loading field 'chr_position' as type int32 (imputed)\n",
      "  Loading field 'effect_allele' as type str (imputed)\n",
      "  Loading field 'reference_allele' as type str (imputed)\n",
      "  Loading field 'effect_weight' as type float64 (imputed)\n",
      "  Loading field 'allelefrequency_effect' as type float64 (imputed)\n",
      "2023-12-06 02:14:16.868 Hail: INFO: Ordering unsorted dataset with network shuffle\n",
      "2023-12-06 02:14:16.965 Hail: INFO: Ordering unsorted dataset with network shuffle\n",
      "[Stage 318:===================>                                     (1 + 2) / 3]\r"
     ]
    },
    {
     "name": "stdout",
     "output_type": "stream",
     "text": [
      "TEST_NA18986_TEST_NA18986_x_TEST_NA19084_TEST_NA19084.txt complete, number of completed is 29\n"
     ]
    },
    {
     "name": "stderr",
     "output_type": "stream",
     "text": [
      "2023-12-06 02:14:26.637 Hail: INFO: wrote table with 1716201 rows in 1 partition to /tmp/persist_tableha6XXga2RI\n",
      "2023-12-06 02:14:26.847 Hail: INFO: Reading table to impute column types\n",
      "2023-12-06 02:14:31.447 Hail: INFO: Finished type imputation        (1 + 2) / 3]\n",
      "  Loading field 'locus' as type str (imputed)\n",
      "  Loading field 'alleles' as type str (imputed)\n",
      "  Loading field 'rsid' as type str (imputed)\n",
      "  Loading field 'variantID' as type str (imputed)\n",
      "  Loading field 's' as type str (imputed)\n",
      "  Loading field 'GT' as type str (imputed)\n",
      "  Loading field 'DS' as type float64 (imputed)\n",
      "2023-12-06 02:14:31.708 Hail: INFO: wrote table with 314 rows in 1 partition to /tmp/persist_tableEHTsD2GBsu\n",
      "2023-12-06 02:14:31.891 Hail: INFO: Reading table to impute column types\n",
      "2023-12-06 02:14:32.080 Hail: INFO: Finished type imputation\n",
      "  Loading field 'chr_name' as type int32 (imputed)\n",
      "  Loading field 'chr_position' as type int32 (imputed)\n",
      "  Loading field 'effect_allele' as type str (imputed)\n",
      "  Loading field 'reference_allele' as type str (imputed)\n",
      "  Loading field 'effect_weight' as type float64 (imputed)\n",
      "  Loading field 'allelefrequency_effect' as type float64 (imputed)\n",
      "2023-12-06 02:14:37.490 Hail: INFO: Ordering unsorted dataset with network shuffle\n",
      "2023-12-06 02:14:37.575 Hail: INFO: Ordering unsorted dataset with network shuffle\n",
      "[Stage 329:>                                                        (0 + 3) / 3]\r"
     ]
    },
    {
     "name": "stdout",
     "output_type": "stream",
     "text": [
      "TEST_NA18986_TEST_NA18986_x_TEST_NA19011_TEST_NA19011.txt complete, number of completed is 30\n"
     ]
    },
    {
     "name": "stderr",
     "output_type": "stream",
     "text": [
      "2023-12-06 02:14:47.078 Hail: INFO: wrote table with 1713209 rows in 1 partition to /tmp/persist_tableVddWeXQZ1k\n",
      "2023-12-06 02:14:47.307 Hail: INFO: Reading table to impute column types\n",
      "2023-12-06 02:14:51.944 Hail: INFO: Finished type imputation        (1 + 2) / 3]\n",
      "  Loading field 'locus' as type str (imputed)\n",
      "  Loading field 'alleles' as type str (imputed)\n",
      "  Loading field 'rsid' as type str (imputed)\n",
      "  Loading field 'variantID' as type str (imputed)\n",
      "  Loading field 's' as type str (imputed)\n",
      "  Loading field 'GT' as type str (imputed)\n",
      "  Loading field 'DS' as type float64 (imputed)\n",
      "2023-12-06 02:14:52.208 Hail: INFO: wrote table with 314 rows in 1 partition to /tmp/persist_tableMCTikEjZSI\n",
      "2023-12-06 02:14:52.388 Hail: INFO: Reading table to impute column types\n",
      "2023-12-06 02:14:52.596 Hail: INFO: Finished type imputation\n",
      "  Loading field 'chr_name' as type int32 (imputed)\n",
      "  Loading field 'chr_position' as type int32 (imputed)\n",
      "  Loading field 'effect_allele' as type str (imputed)\n",
      "  Loading field 'reference_allele' as type str (imputed)\n",
      "  Loading field 'effect_weight' as type float64 (imputed)\n",
      "  Loading field 'allelefrequency_effect' as type float64 (imputed)\n",
      "2023-12-06 02:14:58.889 Hail: INFO: Ordering unsorted dataset with network shuffle\n",
      "2023-12-06 02:14:58.975 Hail: INFO: Ordering unsorted dataset with network shuffle\n",
      "[Stage 340:======================================>                  (2 + 1) / 3]\r"
     ]
    },
    {
     "name": "stdout",
     "output_type": "stream",
     "text": [
      "TEST_NA18986_TEST_NA18986_x_TEST_NA18977_TEST_NA18977.txt complete, number of completed is 31\n"
     ]
    },
    {
     "name": "stderr",
     "output_type": "stream",
     "text": [
      "2023-12-06 02:15:11.606 Hail: INFO: wrote table with 1714165 rows in 1 partition to /tmp/persist_tableHs1RCez1lP\n",
      "2023-12-06 02:15:11.809 Hail: INFO: Reading table to impute column types\n",
      "2023-12-06 02:15:16.432 Hail: INFO: Finished type imputation        (1 + 2) / 3]\n",
      "  Loading field 'locus' as type str (imputed)\n",
      "  Loading field 'alleles' as type str (imputed)\n",
      "  Loading field 'rsid' as type str (imputed)\n",
      "  Loading field 'variantID' as type str (imputed)\n",
      "  Loading field 's' as type str (imputed)\n",
      "  Loading field 'GT' as type str (imputed)\n",
      "  Loading field 'DS' as type float64 (imputed)\n",
      "2023-12-06 02:15:16.708 Hail: INFO: wrote table with 314 rows in 1 partition to /tmp/persist_tablezmparLaDWf\n",
      "2023-12-06 02:15:16.894 Hail: INFO: Reading table to impute column types\n",
      "2023-12-06 02:15:17.089 Hail: INFO: Finished type imputation\n",
      "  Loading field 'chr_name' as type int32 (imputed)\n",
      "  Loading field 'chr_position' as type int32 (imputed)\n",
      "  Loading field 'effect_allele' as type str (imputed)\n",
      "  Loading field 'reference_allele' as type str (imputed)\n",
      "  Loading field 'effect_weight' as type float64 (imputed)\n",
      "  Loading field 'allelefrequency_effect' as type float64 (imputed)\n",
      "2023-12-06 02:15:22.766 Hail: INFO: Ordering unsorted dataset with network shuffle\n",
      "2023-12-06 02:15:22.854 Hail: INFO: Ordering unsorted dataset with network shuffle\n",
      "[Stage 351:===================>                                     (1 + 2) / 3]\r"
     ]
    },
    {
     "name": "stdout",
     "output_type": "stream",
     "text": [
      "TEST_NA18986_TEST_NA18986_x_TEST_NA18959_TEST_NA18959.txt complete, number of completed is 32\n"
     ]
    },
    {
     "name": "stderr",
     "output_type": "stream",
     "text": [
      "2023-12-06 02:15:32.789 Hail: INFO: wrote table with 1712285 rows in 1 partition to /tmp/persist_tableyp7Sbl87Rk\n",
      "2023-12-06 02:15:32.988 Hail: INFO: Reading table to impute column types\n",
      "2023-12-06 02:15:38.389 Hail: INFO: Finished type imputation        (1 + 2) / 3]\n",
      "  Loading field 'locus' as type str (imputed)\n",
      "  Loading field 'alleles' as type str (imputed)\n",
      "  Loading field 'rsid' as type str (imputed)\n",
      "  Loading field 'variantID' as type str (imputed)\n",
      "  Loading field 's' as type str (imputed)\n",
      "  Loading field 'GT' as type str (imputed)\n",
      "  Loading field 'DS' as type float64 (imputed)\n",
      "2023-12-06 02:15:38.648 Hail: INFO: wrote table with 314 rows in 1 partition to /tmp/persist_table6fh9AuBxkm\n",
      "2023-12-06 02:15:38.835 Hail: INFO: Reading table to impute column types\n",
      "2023-12-06 02:15:39.025 Hail: INFO: Finished type imputation\n",
      "  Loading field 'chr_name' as type int32 (imputed)\n",
      "  Loading field 'chr_position' as type int32 (imputed)\n",
      "  Loading field 'effect_allele' as type str (imputed)\n",
      "  Loading field 'reference_allele' as type str (imputed)\n",
      "  Loading field 'effect_weight' as type float64 (imputed)\n",
      "  Loading field 'allelefrequency_effect' as type float64 (imputed)\n",
      "2023-12-06 02:15:46.242 Hail: INFO: Ordering unsorted dataset with network shuffle\n",
      "2023-12-06 02:15:46.333 Hail: INFO: Ordering unsorted dataset with network shuffle\n",
      "[Stage 362:>                                                        (0 + 3) / 3]\r"
     ]
    },
    {
     "name": "stdout",
     "output_type": "stream",
     "text": [
      "TEST_NA18986_TEST_NA18986_x_TEST_NA19088_TEST_NA19088.txt complete, number of completed is 33\n"
     ]
    },
    {
     "name": "stderr",
     "output_type": "stream",
     "text": [
      "2023-12-06 02:15:56.803 Hail: INFO: wrote table with 1714552 rows in 1 partition to /tmp/persist_tabledue9zwFR5c\n",
      "2023-12-06 02:15:56.995 Hail: INFO: Reading table to impute column types\n",
      "2023-12-06 02:16:01.465 Hail: INFO: Finished type imputation        (1 + 2) / 3]\n",
      "  Loading field 'locus' as type str (imputed)\n",
      "  Loading field 'alleles' as type str (imputed)\n",
      "  Loading field 'rsid' as type str (imputed)\n",
      "  Loading field 'variantID' as type str (imputed)\n",
      "  Loading field 's' as type str (imputed)\n",
      "  Loading field 'GT' as type str (imputed)\n",
      "  Loading field 'DS' as type float64 (imputed)\n",
      "2023-12-06 02:16:01.761 Hail: INFO: wrote table with 314 rows in 1 partition to /tmp/persist_tablekdVb3PeyR1\n",
      "2023-12-06 02:16:01.967 Hail: INFO: Reading table to impute column types\n",
      "2023-12-06 02:16:02.156 Hail: INFO: Finished type imputation\n",
      "  Loading field 'chr_name' as type int32 (imputed)\n",
      "  Loading field 'chr_position' as type int32 (imputed)\n",
      "  Loading field 'effect_allele' as type str (imputed)\n",
      "  Loading field 'reference_allele' as type str (imputed)\n",
      "  Loading field 'effect_weight' as type float64 (imputed)\n",
      "  Loading field 'allelefrequency_effect' as type float64 (imputed)\n",
      "2023-12-06 02:16:07.617 Hail: INFO: Ordering unsorted dataset with network shuffle\n",
      "2023-12-06 02:16:07.707 Hail: INFO: Ordering unsorted dataset with network shuffle\n",
      "[Stage 373:>                                                        (0 + 3) / 3]\r"
     ]
    },
    {
     "name": "stdout",
     "output_type": "stream",
     "text": [
      "TEST_NA18986_TEST_NA18986_x_TEST_NA18955_TEST_NA18955.txt complete, number of completed is 34\n"
     ]
    },
    {
     "name": "stderr",
     "output_type": "stream",
     "text": [
      "2023-12-06 02:16:17.045 Hail: INFO: wrote table with 1717264 rows in 1 partition to /tmp/persist_tablevxrqbPVx0T\n",
      "2023-12-06 02:16:17.236 Hail: INFO: Reading table to impute column types\n",
      "2023-12-06 02:16:21.857 Hail: INFO: Finished type imputation        (1 + 2) / 3]\n",
      "  Loading field 'locus' as type str (imputed)\n",
      "  Loading field 'alleles' as type str (imputed)\n",
      "  Loading field 'rsid' as type str (imputed)\n",
      "  Loading field 'variantID' as type str (imputed)\n",
      "  Loading field 's' as type str (imputed)\n",
      "  Loading field 'GT' as type str (imputed)\n",
      "  Loading field 'DS' as type float64 (imputed)\n",
      "2023-12-06 02:16:22.125 Hail: INFO: wrote table with 314 rows in 1 partition to /tmp/persist_tables8YMpWGN7K\n",
      "2023-12-06 02:16:22.307 Hail: INFO: Reading table to impute column types\n",
      "2023-12-06 02:16:22.507 Hail: INFO: Finished type imputation\n",
      "  Loading field 'chr_name' as type int32 (imputed)\n",
      "  Loading field 'chr_position' as type int32 (imputed)\n",
      "  Loading field 'effect_allele' as type str (imputed)\n",
      "  Loading field 'reference_allele' as type str (imputed)\n",
      "  Loading field 'effect_weight' as type float64 (imputed)\n",
      "  Loading field 'allelefrequency_effect' as type float64 (imputed)\n",
      "2023-12-06 02:16:28.048 Hail: INFO: Ordering unsorted dataset with network shuffle\n",
      "2023-12-06 02:16:28.137 Hail: INFO: Ordering unsorted dataset with network shuffle\n",
      "[Stage 384:===================>                                     (1 + 2) / 3]\r"
     ]
    },
    {
     "name": "stdout",
     "output_type": "stream",
     "text": [
      "TEST_NA18986_TEST_NA18986_x_TEST_NA18951_TEST_NA18951.txt complete, number of completed is 35\n"
     ]
    },
    {
     "name": "stderr",
     "output_type": "stream",
     "text": [
      "2023-12-06 02:16:37.692 Hail: INFO: wrote table with 1715082 rows in 1 partition to /tmp/persist_tableV5rSSwGVze\n",
      "2023-12-06 02:16:37.935 Hail: INFO: Reading table to impute column types\n",
      "2023-12-06 02:16:42.544 Hail: INFO: Finished type imputation        (1 + 2) / 3]\n",
      "  Loading field 'locus' as type str (imputed)\n",
      "  Loading field 'alleles' as type str (imputed)\n",
      "  Loading field 'rsid' as type str (imputed)\n",
      "  Loading field 'variantID' as type str (imputed)\n",
      "  Loading field 's' as type str (imputed)\n",
      "  Loading field 'GT' as type str (imputed)\n",
      "  Loading field 'DS' as type float64 (imputed)\n",
      "2023-12-06 02:16:42.799 Hail: INFO: wrote table with 314 rows in 1 partition to /tmp/persist_tablexM2WSuR03t\n",
      "2023-12-06 02:16:42.985 Hail: INFO: Reading table to impute column types\n",
      "2023-12-06 02:16:43.171 Hail: INFO: Finished type imputation\n",
      "  Loading field 'chr_name' as type int32 (imputed)\n",
      "  Loading field 'chr_position' as type int32 (imputed)\n",
      "  Loading field 'effect_allele' as type str (imputed)\n",
      "  Loading field 'reference_allele' as type str (imputed)\n",
      "  Loading field 'effect_weight' as type float64 (imputed)\n",
      "  Loading field 'allelefrequency_effect' as type float64 (imputed)\n",
      "2023-12-06 02:16:49.359 Hail: INFO: Ordering unsorted dataset with network shuffle\n",
      "2023-12-06 02:16:49.444 Hail: INFO: Ordering unsorted dataset with network shuffle\n",
      "[Stage 395:===================>                                     (1 + 2) / 3]\r"
     ]
    },
    {
     "name": "stdout",
     "output_type": "stream",
     "text": [
      "TEST_NA18986_TEST_NA18986_x_TEST_NA19009_TEST_NA19009.txt complete, number of completed is 36\n"
     ]
    },
    {
     "name": "stderr",
     "output_type": "stream",
     "text": [
      "2023-12-06 02:17:01.464 Hail: INFO: wrote table with 1710953 rows in 1 partition to /tmp/persist_tablew6cYk4UytO\n",
      "2023-12-06 02:17:01.664 Hail: INFO: Reading table to impute column types\n",
      "2023-12-06 02:17:06.871 Hail: INFO: Finished type imputation        (1 + 2) / 3]\n",
      "  Loading field 'locus' as type str (imputed)\n",
      "  Loading field 'alleles' as type str (imputed)\n",
      "  Loading field 'rsid' as type str (imputed)\n",
      "  Loading field 'variantID' as type str (imputed)\n",
      "  Loading field 's' as type str (imputed)\n",
      "  Loading field 'GT' as type str (imputed)\n",
      "  Loading field 'DS' as type float64 (imputed)\n",
      "2023-12-06 02:17:07.144 Hail: INFO: wrote table with 314 rows in 1 partition to /tmp/persist_tablenmnpKlIRb0\n",
      "2023-12-06 02:17:07.330 Hail: INFO: Reading table to impute column types\n",
      "2023-12-06 02:17:07.519 Hail: INFO: Finished type imputation\n",
      "  Loading field 'chr_name' as type int32 (imputed)\n",
      "  Loading field 'chr_position' as type int32 (imputed)\n",
      "  Loading field 'effect_allele' as type str (imputed)\n",
      "  Loading field 'reference_allele' as type str (imputed)\n",
      "  Loading field 'effect_weight' as type float64 (imputed)\n",
      "  Loading field 'allelefrequency_effect' as type float64 (imputed)\n",
      "2023-12-06 02:17:13.180 Hail: INFO: Ordering unsorted dataset with network shuffle\n",
      "2023-12-06 02:17:13.270 Hail: INFO: Ordering unsorted dataset with network shuffle\n",
      "[Stage 406:======================================>                  (2 + 1) / 3]\r"
     ]
    },
    {
     "name": "stdout",
     "output_type": "stream",
     "text": [
      "TEST_NA18986_TEST_NA18986_x_TEST_NA18941_TEST_NA18941.txt complete, number of completed is 37\n"
     ]
    },
    {
     "name": "stderr",
     "output_type": "stream",
     "text": [
      "2023-12-06 02:17:22.940 Hail: INFO: wrote table with 1711466 rows in 1 partition to /tmp/persist_tableotqgfX9mW7\n",
      "2023-12-06 02:17:23.140 Hail: INFO: Reading table to impute column types\n",
      "2023-12-06 02:17:27.642 Hail: INFO: Finished type imputation        (2 + 1) / 3]\n",
      "  Loading field 'locus' as type str (imputed)\n",
      "  Loading field 'alleles' as type str (imputed)\n",
      "  Loading field 'rsid' as type str (imputed)\n",
      "  Loading field 'variantID' as type str (imputed)\n",
      "  Loading field 's' as type str (imputed)\n",
      "  Loading field 'GT' as type str (imputed)\n",
      "  Loading field 'DS' as type float64 (imputed)\n",
      "2023-12-06 02:17:27.914 Hail: INFO: wrote table with 314 rows in 1 partition to /tmp/persist_tablek2luxx4GF9\n",
      "2023-12-06 02:17:28.130 Hail: INFO: Reading table to impute column types\n",
      "2023-12-06 02:17:28.316 Hail: INFO: Finished type imputation\n",
      "  Loading field 'chr_name' as type int32 (imputed)\n",
      "  Loading field 'chr_position' as type int32 (imputed)\n",
      "  Loading field 'effect_allele' as type str (imputed)\n",
      "  Loading field 'reference_allele' as type str (imputed)\n",
      "  Loading field 'effect_weight' as type float64 (imputed)\n",
      "  Loading field 'allelefrequency_effect' as type float64 (imputed)\n",
      "2023-12-06 02:17:33.915 Hail: INFO: Ordering unsorted dataset with network shuffle\n",
      "2023-12-06 02:17:34.012 Hail: INFO: Ordering unsorted dataset with network shuffle\n",
      "[Stage 417:======================================>                  (2 + 1) / 3]\r"
     ]
    },
    {
     "name": "stdout",
     "output_type": "stream",
     "text": [
      "TEST_NA18986_TEST_NA18986_x_TEST_NA18945_TEST_NA18945.txt complete, number of completed is 38\n"
     ]
    },
    {
     "name": "stderr",
     "output_type": "stream",
     "text": [
      "2023-12-06 02:17:43.638 Hail: INFO: wrote table with 1712757 rows in 1 partition to /tmp/persist_tablecKAhpzSA6u\n",
      "2023-12-06 02:17:43.834 Hail: INFO: Reading table to impute column types\n",
      "2023-12-06 02:17:48.440 Hail: INFO: Finished type imputation        (1 + 2) / 3]\n",
      "  Loading field 'locus' as type str (imputed)\n",
      "  Loading field 'alleles' as type str (imputed)\n",
      "  Loading field 'rsid' as type str (imputed)\n",
      "  Loading field 'variantID' as type str (imputed)\n",
      "  Loading field 's' as type str (imputed)\n",
      "  Loading field 'GT' as type str (imputed)\n",
      "  Loading field 'DS' as type float64 (imputed)\n",
      "2023-12-06 02:17:48.695 Hail: INFO: wrote table with 314 rows in 1 partition to /tmp/persist_tablehp27vt7o4y\n",
      "2023-12-06 02:17:48.879 Hail: INFO: Reading table to impute column types\n",
      "2023-12-06 02:17:49.065 Hail: INFO: Finished type imputation\n",
      "  Loading field 'chr_name' as type int32 (imputed)\n",
      "  Loading field 'chr_position' as type int32 (imputed)\n",
      "  Loading field 'effect_allele' as type str (imputed)\n",
      "  Loading field 'reference_allele' as type str (imputed)\n",
      "  Loading field 'effect_weight' as type float64 (imputed)\n",
      "  Loading field 'allelefrequency_effect' as type float64 (imputed)\n",
      "2023-12-06 02:17:54.740 Hail: INFO: Ordering unsorted dataset with network shuffle\n",
      "2023-12-06 02:17:54.837 Hail: INFO: Ordering unsorted dataset with network shuffle\n",
      "[Stage 428:>                                                        (0 + 3) / 3]\r"
     ]
    },
    {
     "name": "stdout",
     "output_type": "stream",
     "text": [
      "TEST_NA18986_TEST_NA18986_x_TEST_NA18949_TEST_NA18949.txt complete, number of completed is 39\n"
     ]
    },
    {
     "name": "stderr",
     "output_type": "stream",
     "text": [
      "2023-12-06 02:18:04.246 Hail: INFO: wrote table with 1713715 rows in 1 partition to /tmp/persist_table7HBETcbxT8\n",
      "2023-12-06 02:18:04.441 Hail: INFO: Reading table to impute column types\n",
      "2023-12-06 02:18:09.032 Hail: INFO: Finished type imputation        (1 + 2) / 3]\n",
      "  Loading field 'locus' as type str (imputed)\n",
      "  Loading field 'alleles' as type str (imputed)\n",
      "  Loading field 'rsid' as type str (imputed)\n",
      "  Loading field 'variantID' as type str (imputed)\n",
      "  Loading field 's' as type str (imputed)\n",
      "  Loading field 'GT' as type str (imputed)\n",
      "  Loading field 'DS' as type float64 (imputed)\n",
      "2023-12-06 02:18:09.310 Hail: INFO: wrote table with 314 rows in 1 partition to /tmp/persist_tableJJsbQKZkR8\n",
      "2023-12-06 02:18:09.490 Hail: INFO: Reading table to impute column types\n",
      "2023-12-06 02:18:09.681 Hail: INFO: Finished type imputation\n",
      "  Loading field 'chr_name' as type int32 (imputed)\n",
      "  Loading field 'chr_position' as type int32 (imputed)\n",
      "  Loading field 'effect_allele' as type str (imputed)\n",
      "  Loading field 'reference_allele' as type str (imputed)\n",
      "  Loading field 'effect_weight' as type float64 (imputed)\n",
      "  Loading field 'allelefrequency_effect' as type float64 (imputed)\n",
      "2023-12-06 02:18:15.250 Hail: INFO: Ordering unsorted dataset with network shuffle\n",
      "2023-12-06 02:18:15.338 Hail: INFO: Ordering unsorted dataset with network shuffle\n",
      "[Stage 439:===================>                                     (1 + 2) / 3]\r"
     ]
    },
    {
     "name": "stdout",
     "output_type": "stream",
     "text": [
      "TEST_NA18986_TEST_NA18986_x_TEST_NA18967_TEST_NA18967.txt complete, number of completed is 40\n"
     ]
    },
    {
     "name": "stderr",
     "output_type": "stream",
     "text": [
      "2023-12-06 02:18:24.838 Hail: INFO: wrote table with 1717104 rows in 1 partition to /tmp/persist_tableGNccCkOoHt\n",
      "2023-12-06 02:18:25.036 Hail: INFO: Reading table to impute column types\n",
      "2023-12-06 02:18:29.666 Hail: INFO: Finished type imputation        (1 + 2) / 3]\n",
      "  Loading field 'locus' as type str (imputed)\n",
      "  Loading field 'alleles' as type str (imputed)\n",
      "  Loading field 'rsid' as type str (imputed)\n",
      "  Loading field 'variantID' as type str (imputed)\n",
      "  Loading field 's' as type str (imputed)\n",
      "  Loading field 'GT' as type str (imputed)\n",
      "  Loading field 'DS' as type float64 (imputed)\n",
      "2023-12-06 02:18:29.930 Hail: INFO: wrote table with 314 rows in 1 partition to /tmp/persist_tablecvmyYyLXL3\n",
      "2023-12-06 02:18:30.130 Hail: INFO: Reading table to impute column types\n",
      "2023-12-06 02:18:30.320 Hail: INFO: Finished type imputation\n",
      "  Loading field 'chr_name' as type int32 (imputed)\n",
      "  Loading field 'chr_position' as type int32 (imputed)\n",
      "  Loading field 'effect_allele' as type str (imputed)\n",
      "  Loading field 'reference_allele' as type str (imputed)\n",
      "  Loading field 'effect_weight' as type float64 (imputed)\n",
      "  Loading field 'allelefrequency_effect' as type float64 (imputed)\n",
      "2023-12-06 02:18:36.720 Hail: INFO: Ordering unsorted dataset with network shuffle\n",
      "2023-12-06 02:18:36.809 Hail: INFO: Ordering unsorted dataset with network shuffle\n",
      "[Stage 450:>                                                        (0 + 3) / 3]\r"
     ]
    },
    {
     "name": "stdout",
     "output_type": "stream",
     "text": [
      "TEST_NA18986_TEST_NA18986_x_TEST_NA19001_TEST_NA19001.txt complete, number of completed is 41\n"
     ]
    },
    {
     "name": "stderr",
     "output_type": "stream",
     "text": [
      "2023-12-06 02:18:47.122 Hail: INFO: wrote table with 1713842 rows in 1 partition to /tmp/persist_table2r9ung0yma\n",
      "2023-12-06 02:18:47.349 Hail: INFO: Reading table to impute column types\n",
      "2023-12-06 02:18:52.359 Hail: INFO: Finished type imputation        (1 + 2) / 3]\n",
      "  Loading field 'locus' as type str (imputed)\n",
      "  Loading field 'alleles' as type str (imputed)\n",
      "  Loading field 'rsid' as type str (imputed)\n",
      "  Loading field 'variantID' as type str (imputed)\n",
      "  Loading field 's' as type str (imputed)\n",
      "  Loading field 'GT' as type str (imputed)\n",
      "  Loading field 'DS' as type float64 (imputed)\n",
      "2023-12-06 02:18:52.619 Hail: INFO: wrote table with 314 rows in 1 partition to /tmp/persist_tableVx4Qwq2cER\n",
      "2023-12-06 02:18:52.799 Hail: INFO: Reading table to impute column types\n",
      "2023-12-06 02:18:53.003 Hail: INFO: Finished type imputation\n",
      "  Loading field 'chr_name' as type int32 (imputed)\n",
      "  Loading field 'chr_position' as type int32 (imputed)\n",
      "  Loading field 'effect_allele' as type str (imputed)\n",
      "  Loading field 'reference_allele' as type str (imputed)\n",
      "  Loading field 'effect_weight' as type float64 (imputed)\n",
      "  Loading field 'allelefrequency_effect' as type float64 (imputed)\n",
      "2023-12-06 02:18:58.562 Hail: INFO: Ordering unsorted dataset with network shuffle\n",
      "2023-12-06 02:18:58.652 Hail: INFO: Ordering unsorted dataset with network shuffle\n",
      "[Stage 461:======================================>                  (2 + 1) / 3]\r"
     ]
    },
    {
     "name": "stdout",
     "output_type": "stream",
     "text": [
      "TEST_NA18986_TEST_NA18986_x_TEST_NA19005_TEST_NA19005.txt complete, number of completed is 42\n"
     ]
    },
    {
     "name": "stderr",
     "output_type": "stream",
     "text": [
      "2023-12-06 02:19:08.019 Hail: INFO: wrote table with 1718000 rows in 1 partition to /tmp/persist_tableofG4fDzRq0\n",
      "2023-12-06 02:19:08.218 Hail: INFO: Reading table to impute column types\n",
      "2023-12-06 02:19:12.765 Hail: INFO: Finished type imputation        (1 + 2) / 3]\n",
      "  Loading field 'locus' as type str (imputed)\n",
      "  Loading field 'alleles' as type str (imputed)\n",
      "  Loading field 'rsid' as type str (imputed)\n",
      "  Loading field 'variantID' as type str (imputed)\n",
      "  Loading field 's' as type str (imputed)\n",
      "  Loading field 'GT' as type str (imputed)\n",
      "  Loading field 'DS' as type float64 (imputed)\n",
      "2023-12-06 02:19:13.040 Hail: INFO: wrote table with 314 rows in 1 partition to /tmp/persist_tableqy3slBuMDh\n",
      "2023-12-06 02:19:13.368 Hail: INFO: Reading table to impute column types\n",
      "2023-12-06 02:19:13.577 Hail: INFO: Finished type imputation\n",
      "  Loading field 'chr_name' as type int32 (imputed)\n",
      "  Loading field 'chr_position' as type int32 (imputed)\n",
      "  Loading field 'effect_allele' as type str (imputed)\n",
      "  Loading field 'reference_allele' as type str (imputed)\n",
      "  Loading field 'effect_weight' as type float64 (imputed)\n",
      "  Loading field 'allelefrequency_effect' as type float64 (imputed)\n",
      "2023-12-06 02:19:19.874 Hail: INFO: Ordering unsorted dataset with network shuffle\n",
      "2023-12-06 02:19:19.969 Hail: INFO: Ordering unsorted dataset with network shuffle\n",
      "[Stage 472:===================>                                     (1 + 2) / 3]\r"
     ]
    },
    {
     "name": "stdout",
     "output_type": "stream",
     "text": [
      "TEST_NA18986_TEST_NA18986_x_TEST_NA18963_TEST_NA18963.txt complete, number of completed is 43\n"
     ]
    },
    {
     "name": "stderr",
     "output_type": "stream",
     "text": [
      "2023-12-06 02:19:30.718 Hail: INFO: wrote table with 1716765 rows in 1 partition to /tmp/persist_tableQWPJ1ri92M\n",
      "2023-12-06 02:19:30.914 Hail: INFO: Reading table to impute column types\n",
      "2023-12-06 02:19:35.343 Hail: INFO: Finished type imputation        (1 + 2) / 3]\n",
      "  Loading field 'locus' as type str (imputed)\n",
      "  Loading field 'alleles' as type str (imputed)\n",
      "  Loading field 'rsid' as type str (imputed)\n",
      "  Loading field 'variantID' as type str (imputed)\n",
      "  Loading field 's' as type str (imputed)\n",
      "  Loading field 'GT' as type str (imputed)\n",
      "  Loading field 'DS' as type float64 (imputed)\n",
      "2023-12-06 02:19:35.602 Hail: INFO: wrote table with 314 rows in 1 partition to /tmp/persist_tablelYv44h3Rh0\n",
      "2023-12-06 02:19:35.785 Hail: INFO: Reading table to impute column types\n",
      "2023-12-06 02:19:35.985 Hail: INFO: Finished type imputation\n",
      "  Loading field 'chr_name' as type int32 (imputed)\n",
      "  Loading field 'chr_position' as type int32 (imputed)\n",
      "  Loading field 'effect_allele' as type str (imputed)\n",
      "  Loading field 'reference_allele' as type str (imputed)\n",
      "  Loading field 'effect_weight' as type float64 (imputed)\n",
      "  Loading field 'allelefrequency_effect' as type float64 (imputed)\n",
      "2023-12-06 02:19:42.243 Hail: INFO: Ordering unsorted dataset with network shuffle\n",
      "2023-12-06 02:19:42.333 Hail: INFO: Ordering unsorted dataset with network shuffle\n",
      "[Stage 483:===================>                                     (1 + 2) / 3]\r"
     ]
    },
    {
     "name": "stdout",
     "output_type": "stream",
     "text": [
      "TEST_NA18986_TEST_NA18986_x_TEST_NA19090_TEST_NA19090.txt complete, number of completed is 44\n"
     ]
    },
    {
     "name": "stderr",
     "output_type": "stream",
     "text": [
      "2023-12-06 02:19:55.512 Hail: INFO: wrote table with 1708406 rows in 1 partition to /tmp/persist_tablehFwuU5vcwD\n",
      "2023-12-06 02:19:55.710 Hail: INFO: Reading table to impute column types\n",
      "2023-12-06 02:20:00.105 Hail: INFO: Finished type imputation        (1 + 2) / 3]\n",
      "  Loading field 'locus' as type str (imputed)\n",
      "  Loading field 'alleles' as type str (imputed)\n",
      "  Loading field 'rsid' as type str (imputed)\n",
      "  Loading field 'variantID' as type str (imputed)\n",
      "  Loading field 's' as type str (imputed)\n",
      "  Loading field 'GT' as type str (imputed)\n",
      "  Loading field 'DS' as type float64 (imputed)\n",
      "2023-12-06 02:20:00.368 Hail: INFO: wrote table with 314 rows in 1 partition to /tmp/persist_tableFLwJjwBolD\n",
      "2023-12-06 02:20:00.549 Hail: INFO: Reading table to impute column types\n",
      "2023-12-06 02:20:00.741 Hail: INFO: Finished type imputation\n",
      "  Loading field 'chr_name' as type int32 (imputed)\n",
      "  Loading field 'chr_position' as type int32 (imputed)\n",
      "  Loading field 'effect_allele' as type str (imputed)\n",
      "  Loading field 'reference_allele' as type str (imputed)\n",
      "  Loading field 'effect_weight' as type float64 (imputed)\n",
      "  Loading field 'allelefrequency_effect' as type float64 (imputed)\n",
      "2023-12-06 02:20:06.322 Hail: INFO: Ordering unsorted dataset with network shuffle\n",
      "2023-12-06 02:20:06.411 Hail: INFO: Ordering unsorted dataset with network shuffle\n",
      "[Stage 494:===================>                                     (1 + 2) / 3]\r"
     ]
    },
    {
     "name": "stdout",
     "output_type": "stream",
     "text": [
      "TEST_NA18986_TEST_NA18986_x_TEST_NA19075_TEST_NA19075.txt complete, number of completed is 45\n"
     ]
    },
    {
     "name": "stderr",
     "output_type": "stream",
     "text": [
      "2023-12-06 02:20:16.378 Hail: INFO: wrote table with 1715290 rows in 1 partition to /tmp/persist_tablemnwmHl0CzJ\n",
      "2023-12-06 02:20:16.601 Hail: INFO: Reading table to impute column types\n",
      "2023-12-06 02:20:20.976 Hail: INFO: Finished type imputation        (2 + 1) / 3]\n",
      "  Loading field 'locus' as type str (imputed)\n",
      "  Loading field 'alleles' as type str (imputed)\n",
      "  Loading field 'rsid' as type str (imputed)\n",
      "  Loading field 'variantID' as type str (imputed)\n",
      "  Loading field 's' as type str (imputed)\n",
      "  Loading field 'GT' as type str (imputed)\n",
      "  Loading field 'DS' as type float64 (imputed)\n",
      "2023-12-06 02:20:21.246 Hail: INFO: wrote table with 314 rows in 1 partition to /tmp/persist_table4GtypqhAEF\n",
      "2023-12-06 02:20:21.432 Hail: INFO: Reading table to impute column types\n",
      "2023-12-06 02:20:21.621 Hail: INFO: Finished type imputation\n",
      "  Loading field 'chr_name' as type int32 (imputed)\n",
      "  Loading field 'chr_position' as type int32 (imputed)\n",
      "  Loading field 'effect_allele' as type str (imputed)\n",
      "  Loading field 'reference_allele' as type str (imputed)\n",
      "  Loading field 'effect_weight' as type float64 (imputed)\n",
      "  Loading field 'allelefrequency_effect' as type float64 (imputed)\n",
      "2023-12-06 02:20:27.891 Hail: INFO: Ordering unsorted dataset with network shuffle\n",
      "2023-12-06 02:20:27.980 Hail: INFO: Ordering unsorted dataset with network shuffle\n",
      "[Stage 505:======================================>                  (2 + 1) / 3]\r"
     ]
    },
    {
     "name": "stdout",
     "output_type": "stream",
     "text": [
      "TEST_NA18986_TEST_NA18986_x_TEST_NA18986_TEST_NA18986.txt complete, number of completed is 46\n"
     ]
    },
    {
     "name": "stderr",
     "output_type": "stream",
     "text": [
      "2023-12-06 02:20:38.367 Hail: INFO: wrote table with 1712090 rows in 1 partition to /tmp/persist_tableMpT4DxTzZu\n",
      "2023-12-06 02:20:38.573 Hail: INFO: Reading table to impute column types\n",
      "2023-12-06 02:20:42.983 Hail: INFO: Finished type imputation        (1 + 2) / 3]\n",
      "  Loading field 'locus' as type str (imputed)\n",
      "  Loading field 'alleles' as type str (imputed)\n",
      "  Loading field 'rsid' as type str (imputed)\n",
      "  Loading field 'variantID' as type str (imputed)\n",
      "  Loading field 's' as type str (imputed)\n",
      "  Loading field 'GT' as type str (imputed)\n",
      "  Loading field 'DS' as type float64 (imputed)\n",
      "2023-12-06 02:20:43.246 Hail: INFO: wrote table with 314 rows in 1 partition to /tmp/persist_tableqsSZXmhwBZ\n",
      "2023-12-06 02:20:43.435 Hail: INFO: Reading table to impute column types\n",
      "2023-12-06 02:20:43.640 Hail: INFO: Finished type imputation\n",
      "  Loading field 'chr_name' as type int32 (imputed)\n",
      "  Loading field 'chr_position' as type int32 (imputed)\n",
      "  Loading field 'effect_allele' as type str (imputed)\n",
      "  Loading field 'reference_allele' as type str (imputed)\n",
      "  Loading field 'effect_weight' as type float64 (imputed)\n",
      "  Loading field 'allelefrequency_effect' as type float64 (imputed)\n",
      "2023-12-06 02:20:49.907 Hail: INFO: Ordering unsorted dataset with network shuffle\n",
      "2023-12-06 02:20:50.003 Hail: INFO: Ordering unsorted dataset with network shuffle\n",
      "[Stage 516:======================================>                  (2 + 1) / 3]\r"
     ]
    },
    {
     "name": "stdout",
     "output_type": "stream",
     "text": [
      "TEST_NA18986_TEST_NA18986_x_TEST_NA18939_TEST_NA18939.txt complete, number of completed is 47\n"
     ]
    },
    {
     "name": "stderr",
     "output_type": "stream",
     "text": [
      "2023-12-06 02:21:00.720 Hail: INFO: wrote table with 1710881 rows in 1 partition to /tmp/persist_tableym2WUSC1mV\n",
      "2023-12-06 02:21:00.914 Hail: INFO: Reading table to impute column types\n",
      "2023-12-06 02:21:05.313 Hail: INFO: Finished type imputation        (1 + 2) / 3]\n",
      "  Loading field 'locus' as type str (imputed)\n",
      "  Loading field 'alleles' as type str (imputed)\n",
      "  Loading field 'rsid' as type str (imputed)\n",
      "  Loading field 'variantID' as type str (imputed)\n",
      "  Loading field 's' as type str (imputed)\n",
      "  Loading field 'GT' as type str (imputed)\n",
      "  Loading field 'DS' as type float64 (imputed)\n",
      "2023-12-06 02:21:05.581 Hail: INFO: wrote table with 314 rows in 1 partition to /tmp/persist_tablenUWWaoYzoG\n",
      "2023-12-06 02:21:05.770 Hail: INFO: Reading table to impute column types\n",
      "2023-12-06 02:21:05.972 Hail: INFO: Finished type imputation\n",
      "  Loading field 'chr_name' as type int32 (imputed)\n",
      "  Loading field 'chr_position' as type int32 (imputed)\n",
      "  Loading field 'effect_allele' as type str (imputed)\n",
      "  Loading field 'reference_allele' as type str (imputed)\n",
      "  Loading field 'effect_weight' as type float64 (imputed)\n",
      "  Loading field 'allelefrequency_effect' as type float64 (imputed)\n",
      "2023-12-06 02:21:12.124 Hail: INFO: Ordering unsorted dataset with network shuffle\n",
      "2023-12-06 02:21:12.218 Hail: INFO: Ordering unsorted dataset with network shuffle\n",
      "[Stage 527:===================>                                     (1 + 2) / 3]\r"
     ]
    },
    {
     "name": "stdout",
     "output_type": "stream",
     "text": [
      "TEST_NA18986_TEST_NA18986_x_TEST_NA18982_TEST_NA18982.txt complete, number of completed is 48\n"
     ]
    },
    {
     "name": "stderr",
     "output_type": "stream",
     "text": [
      "2023-12-06 02:21:22.837 Hail: INFO: wrote table with 1710856 rows in 1 partition to /tmp/persist_table3lolIgRh18\n",
      "2023-12-06 02:21:23.045 Hail: INFO: Reading table to impute column types\n",
      "2023-12-06 02:21:27.465 Hail: INFO: Finished type imputation        (1 + 2) / 3]\n",
      "  Loading field 'locus' as type str (imputed)\n",
      "  Loading field 'alleles' as type str (imputed)\n",
      "  Loading field 'rsid' as type str (imputed)\n",
      "  Loading field 'variantID' as type str (imputed)\n",
      "  Loading field 's' as type str (imputed)\n",
      "  Loading field 'GT' as type str (imputed)\n",
      "  Loading field 'DS' as type float64 (imputed)\n",
      "2023-12-06 02:21:27.746 Hail: INFO: wrote table with 314 rows in 1 partition to /tmp/persist_tableWTCkYuINjf\n",
      "2023-12-06 02:21:27.942 Hail: INFO: Reading table to impute column types\n",
      "2023-12-06 02:21:28.144 Hail: INFO: Finished type imputation\n",
      "  Loading field 'chr_name' as type int32 (imputed)\n",
      "  Loading field 'chr_position' as type int32 (imputed)\n",
      "  Loading field 'effect_allele' as type str (imputed)\n",
      "  Loading field 'reference_allele' as type str (imputed)\n",
      "  Loading field 'effect_weight' as type float64 (imputed)\n",
      "  Loading field 'allelefrequency_effect' as type float64 (imputed)\n",
      "2023-12-06 02:21:34.368 Hail: INFO: Ordering unsorted dataset with network shuffle\n",
      "2023-12-06 02:21:34.462 Hail: INFO: Ordering unsorted dataset with network shuffle\n",
      "[Stage 538:>                                                        (0 + 3) / 3]\r"
     ]
    },
    {
     "name": "stdout",
     "output_type": "stream",
     "text": [
      "TEST_NA18986_TEST_NA18986_x_TEST_NA19079_TEST_NA19079.txt complete, number of completed is 49\n"
     ]
    },
    {
     "name": "stderr",
     "output_type": "stream",
     "text": [
      "2023-12-06 02:21:44.980 Hail: INFO: wrote table with 1712168 rows in 1 partition to /tmp/persist_table6lVLp6zcUX\n",
      "2023-12-06 02:21:45.170 Hail: INFO: Reading table to impute column types\n",
      "2023-12-06 02:21:49.570 Hail: INFO: Finished type imputation        (1 + 2) / 3]\n",
      "  Loading field 'locus' as type str (imputed)\n",
      "  Loading field 'alleles' as type str (imputed)\n",
      "  Loading field 'rsid' as type str (imputed)\n",
      "  Loading field 'variantID' as type str (imputed)\n",
      "  Loading field 's' as type str (imputed)\n",
      "  Loading field 'GT' as type str (imputed)\n",
      "  Loading field 'DS' as type float64 (imputed)\n",
      "2023-12-06 02:21:49.830 Hail: INFO: wrote table with 314 rows in 1 partition to /tmp/persist_tablehwWWMxAUPg\n",
      "2023-12-06 02:21:50.019 Hail: INFO: Reading table to impute column types\n",
      "2023-12-06 02:21:50.217 Hail: INFO: Finished type imputation\n",
      "  Loading field 'chr_name' as type int32 (imputed)\n",
      "  Loading field 'chr_position' as type int32 (imputed)\n",
      "  Loading field 'effect_allele' as type str (imputed)\n",
      "  Loading field 'reference_allele' as type str (imputed)\n",
      "  Loading field 'effect_weight' as type float64 (imputed)\n",
      "  Loading field 'allelefrequency_effect' as type float64 (imputed)\n",
      "2023-12-06 02:21:56.491 Hail: INFO: Ordering unsorted dataset with network shuffle\n",
      "2023-12-06 02:21:56.587 Hail: INFO: Ordering unsorted dataset with network shuffle\n",
      "[Stage 549:>                                                        (0 + 3) / 3]\r"
     ]
    },
    {
     "name": "stdout",
     "output_type": "stream",
     "text": [
      "TEST_NA18986_TEST_NA18986_x_TEST_NA19057_TEST_NA19057.txt complete, number of completed is 50\n"
     ]
    },
    {
     "name": "stderr",
     "output_type": "stream",
     "text": [
      "2023-12-06 02:22:08.764 Hail: INFO: wrote table with 1710715 rows in 1 partition to /tmp/persist_tableABMzzIYSe4\n",
      "2023-12-06 02:22:08.958 Hail: INFO: Reading table to impute column types\n",
      "2023-12-06 02:22:13.815 Hail: INFO: Finished type imputation        (1 + 2) / 3]\n",
      "  Loading field 'locus' as type str (imputed)\n",
      "  Loading field 'alleles' as type str (imputed)\n",
      "  Loading field 'rsid' as type str (imputed)\n",
      "  Loading field 'variantID' as type str (imputed)\n",
      "  Loading field 's' as type str (imputed)\n",
      "  Loading field 'GT' as type str (imputed)\n",
      "  Loading field 'DS' as type float64 (imputed)\n",
      "2023-12-06 02:22:14.076 Hail: INFO: wrote table with 314 rows in 1 partition to /tmp/persist_tableQEnyLxm2vO\n",
      "2023-12-06 02:22:14.263 Hail: INFO: Reading table to impute column types\n",
      "2023-12-06 02:22:14.477 Hail: INFO: Finished type imputation\n",
      "  Loading field 'chr_name' as type int32 (imputed)\n",
      "  Loading field 'chr_position' as type int32 (imputed)\n",
      "  Loading field 'effect_allele' as type str (imputed)\n",
      "  Loading field 'reference_allele' as type str (imputed)\n",
      "  Loading field 'effect_weight' as type float64 (imputed)\n",
      "  Loading field 'allelefrequency_effect' as type float64 (imputed)\n",
      "2023-12-06 02:22:20.119 Hail: INFO: Ordering unsorted dataset with network shuffle\n",
      "2023-12-06 02:22:20.208 Hail: INFO: Ordering unsorted dataset with network shuffle\n",
      "[Stage 560:======================================>                  (2 + 1) / 3]\r"
     ]
    },
    {
     "name": "stdout",
     "output_type": "stream",
     "text": [
      "TEST_NA18986_TEST_NA18986_x_TEST_NA18992_TEST_NA18992.txt complete, number of completed is 51\n"
     ]
    },
    {
     "name": "stderr",
     "output_type": "stream",
     "text": [
      "2023-12-06 02:22:30.109 Hail: INFO: wrote table with 1711278 rows in 1 partition to /tmp/persist_tableo3txKcZrrY\n",
      "2023-12-06 02:22:30.305 Hail: INFO: Reading table to impute column types\n",
      "2023-12-06 02:22:34.920 Hail: INFO: Finished type imputation        (1 + 2) / 3]\n",
      "  Loading field 'locus' as type str (imputed)\n",
      "  Loading field 'alleles' as type str (imputed)\n",
      "  Loading field 'rsid' as type str (imputed)\n",
      "  Loading field 'variantID' as type str (imputed)\n",
      "  Loading field 's' as type str (imputed)\n",
      "  Loading field 'GT' as type str (imputed)\n",
      "  Loading field 'DS' as type float64 (imputed)\n",
      "2023-12-06 02:22:35.179 Hail: INFO: wrote table with 314 rows in 1 partition to /tmp/persist_tablejwK8msy4ZN\n",
      "2023-12-06 02:22:35.360 Hail: INFO: Reading table to impute column types\n",
      "2023-12-06 02:22:35.561 Hail: INFO: Finished type imputation\n",
      "  Loading field 'chr_name' as type int32 (imputed)\n",
      "  Loading field 'chr_position' as type int32 (imputed)\n",
      "  Loading field 'effect_allele' as type str (imputed)\n",
      "  Loading field 'reference_allele' as type str (imputed)\n",
      "  Loading field 'effect_weight' as type float64 (imputed)\n",
      "  Loading field 'allelefrequency_effect' as type float64 (imputed)\n",
      "2023-12-06 02:22:41.697 Hail: INFO: Ordering unsorted dataset with network shuffle\n",
      "2023-12-06 02:22:41.789 Hail: INFO: Ordering unsorted dataset with network shuffle\n",
      "[Stage 571:>                                                        (0 + 3) / 3]\r"
     ]
    },
    {
     "name": "stdout",
     "output_type": "stream",
     "text": [
      "TEST_NA18986_TEST_NA18986_x_TEST_NA19065_TEST_NA19065.txt complete, number of completed is 52\n"
     ]
    },
    {
     "name": "stderr",
     "output_type": "stream",
     "text": [
      "2023-12-06 02:22:52.074 Hail: INFO: wrote table with 1714849 rows in 1 partition to /tmp/persist_table1A2kzck7UA\n",
      "2023-12-06 02:22:52.275 Hail: INFO: Reading table to impute column types\n",
      "2023-12-06 02:22:56.707 Hail: INFO: Finished type imputation        (1 + 2) / 3]\n",
      "  Loading field 'locus' as type str (imputed)\n",
      "  Loading field 'alleles' as type str (imputed)\n",
      "  Loading field 'rsid' as type str (imputed)\n",
      "  Loading field 'variantID' as type str (imputed)\n",
      "  Loading field 's' as type str (imputed)\n",
      "  Loading field 'GT' as type str (imputed)\n",
      "  Loading field 'DS' as type float64 (imputed)\n",
      "2023-12-06 02:22:56.974 Hail: INFO: wrote table with 314 rows in 1 partition to /tmp/persist_tableBGqzKUpY6G\n",
      "2023-12-06 02:22:57.163 Hail: INFO: Reading table to impute column types\n",
      "2023-12-06 02:22:57.364 Hail: INFO: Finished type imputation\n",
      "  Loading field 'chr_name' as type int32 (imputed)\n",
      "  Loading field 'chr_position' as type int32 (imputed)\n",
      "  Loading field 'effect_allele' as type str (imputed)\n",
      "  Loading field 'reference_allele' as type str (imputed)\n",
      "  Loading field 'effect_weight' as type float64 (imputed)\n",
      "  Loading field 'allelefrequency_effect' as type float64 (imputed)\n",
      "2023-12-06 02:23:03.601 Hail: INFO: Ordering unsorted dataset with network shuffle\n",
      "2023-12-06 02:23:03.693 Hail: INFO: Ordering unsorted dataset with network shuffle\n",
      "[Stage 582:>                                                        (0 + 3) / 3]\r"
     ]
    },
    {
     "name": "stdout",
     "output_type": "stream",
     "text": [
      "TEST_NA18986_TEST_NA18986_x_TEST_NA18970_TEST_NA18970.txt complete, number of completed is 53\n"
     ]
    },
    {
     "name": "stderr",
     "output_type": "stream",
     "text": [
      "2023-12-06 02:23:13.862 Hail: INFO: wrote table with 1712022 rows in 1 partition to /tmp/persist_tablelicsacEzvK\n",
      "2023-12-06 02:23:14.063 Hail: INFO: Reading table to impute column types\n",
      "2023-12-06 02:23:18.477 Hail: INFO: Finished type imputation        (1 + 2) / 3]\n",
      "  Loading field 'locus' as type str (imputed)\n",
      "  Loading field 'alleles' as type str (imputed)\n",
      "  Loading field 'rsid' as type str (imputed)\n",
      "  Loading field 'variantID' as type str (imputed)\n",
      "  Loading field 's' as type str (imputed)\n",
      "  Loading field 'GT' as type str (imputed)\n",
      "  Loading field 'DS' as type float64 (imputed)\n",
      "2023-12-06 02:23:18.733 Hail: INFO: wrote table with 314 rows in 1 partition to /tmp/persist_tablebAqEwsSDKg\n",
      "2023-12-06 02:23:18.917 Hail: INFO: Reading table to impute column types\n",
      "2023-12-06 02:23:19.118 Hail: INFO: Finished type imputation\n",
      "  Loading field 'chr_name' as type int32 (imputed)\n",
      "  Loading field 'chr_position' as type int32 (imputed)\n",
      "  Loading field 'effect_allele' as type str (imputed)\n",
      "  Loading field 'reference_allele' as type str (imputed)\n",
      "  Loading field 'effect_weight' as type float64 (imputed)\n",
      "  Loading field 'allelefrequency_effect' as type float64 (imputed)\n",
      "2023-12-06 02:23:25.325 Hail: INFO: Ordering unsorted dataset with network shuffle\n",
      "2023-12-06 02:23:25.416 Hail: INFO: Ordering unsorted dataset with network shuffle\n",
      "[Stage 593:===================>                                     (1 + 2) / 3]\r"
     ]
    },
    {
     "name": "stdout",
     "output_type": "stream",
     "text": [
      "TEST_NA18986_TEST_NA18986_x_TEST_NA19083_TEST_NA19083.txt complete, number of completed is 54\n"
     ]
    },
    {
     "name": "stderr",
     "output_type": "stream",
     "text": [
      "2023-12-06 02:23:35.683 Hail: INFO: wrote table with 1716121 rows in 1 partition to /tmp/persist_tableMXWDgTgnmg\n",
      "2023-12-06 02:23:35.878 Hail: INFO: Reading table to impute column types\n",
      "2023-12-06 02:23:40.283 Hail: INFO: Finished type imputation        (1 + 2) / 3]\n",
      "  Loading field 'locus' as type str (imputed)\n",
      "  Loading field 'alleles' as type str (imputed)\n",
      "  Loading field 'rsid' as type str (imputed)\n",
      "  Loading field 'variantID' as type str (imputed)\n",
      "  Loading field 's' as type str (imputed)\n",
      "  Loading field 'GT' as type str (imputed)\n",
      "  Loading field 'DS' as type float64 (imputed)\n",
      "2023-12-06 02:23:40.546 Hail: INFO: wrote table with 314 rows in 1 partition to /tmp/persist_tableohT0AcgjgA\n",
      "2023-12-06 02:23:40.737 Hail: INFO: Reading table to impute column types\n",
      "2023-12-06 02:23:40.946 Hail: INFO: Finished type imputation\n",
      "  Loading field 'chr_name' as type int32 (imputed)\n",
      "  Loading field 'chr_position' as type int32 (imputed)\n",
      "  Loading field 'effect_allele' as type str (imputed)\n",
      "  Loading field 'reference_allele' as type str (imputed)\n",
      "  Loading field 'effect_weight' as type float64 (imputed)\n",
      "  Loading field 'allelefrequency_effect' as type float64 (imputed)\n",
      "2023-12-06 02:23:46.725 Hail: INFO: Ordering unsorted dataset with network shuffle\n",
      "2023-12-06 02:23:46.819 Hail: INFO: Ordering unsorted dataset with network shuffle\n",
      "[Stage 604:===================>                                     (1 + 2) / 3]\r"
     ]
    },
    {
     "name": "stdout",
     "output_type": "stream",
     "text": [
      "TEST_NA18986_TEST_NA18986_x_TEST_NA19012_TEST_NA19012.txt complete, number of completed is 55\n"
     ]
    },
    {
     "name": "stderr",
     "output_type": "stream",
     "text": [
      "2023-12-06 02:23:57.164 Hail: INFO: wrote table with 1712607 rows in 1 partition to /tmp/persist_table2d30dNn2sg\n",
      "2023-12-06 02:23:57.357 Hail: INFO: Reading table to impute column types\n",
      "2023-12-06 02:24:02.280 Hail: INFO: Finished type imputation        (1 + 2) / 3]\n",
      "  Loading field 'locus' as type str (imputed)\n",
      "  Loading field 'alleles' as type str (imputed)\n",
      "  Loading field 'rsid' as type str (imputed)\n",
      "  Loading field 'variantID' as type str (imputed)\n",
      "  Loading field 's' as type str (imputed)\n",
      "  Loading field 'GT' as type str (imputed)\n",
      "  Loading field 'DS' as type float64 (imputed)\n",
      "2023-12-06 02:24:02.553 Hail: INFO: wrote table with 314 rows in 1 partition to /tmp/persist_tabley4SXrtFCS9\n",
      "2023-12-06 02:24:02.738 Hail: INFO: Reading table to impute column types\n",
      "2023-12-06 02:24:02.947 Hail: INFO: Finished type imputation\n",
      "  Loading field 'chr_name' as type int32 (imputed)\n",
      "  Loading field 'chr_position' as type int32 (imputed)\n",
      "  Loading field 'effect_allele' as type str (imputed)\n",
      "  Loading field 'reference_allele' as type str (imputed)\n",
      "  Loading field 'effect_weight' as type float64 (imputed)\n",
      "  Loading field 'allelefrequency_effect' as type float64 (imputed)\n",
      "2023-12-06 02:24:08.508 Hail: INFO: Ordering unsorted dataset with network shuffle\n",
      "2023-12-06 02:24:08.598 Hail: INFO: Ordering unsorted dataset with network shuffle\n",
      "[Stage 615:======================================>                  (2 + 1) / 3]\r"
     ]
    },
    {
     "name": "stdout",
     "output_type": "stream",
     "text": [
      "TEST_NA18986_TEST_NA18986_x_TEST_NA18974_TEST_NA18974.txt complete, number of completed is 56\n"
     ]
    },
    {
     "name": "stderr",
     "output_type": "stream",
     "text": [
      "2023-12-06 02:24:18.115 Hail: INFO: wrote table with 1713006 rows in 1 partition to /tmp/persist_tableaapbRaam3x\n",
      "2023-12-06 02:24:18.308 Hail: INFO: Reading table to impute column types\n",
      "2023-12-06 02:24:22.704 Hail: INFO: Finished type imputation        (1 + 2) / 3]\n",
      "  Loading field 'locus' as type str (imputed)\n",
      "  Loading field 'alleles' as type str (imputed)\n",
      "  Loading field 'rsid' as type str (imputed)\n",
      "  Loading field 'variantID' as type str (imputed)\n",
      "  Loading field 's' as type str (imputed)\n",
      "  Loading field 'GT' as type str (imputed)\n",
      "  Loading field 'DS' as type float64 (imputed)\n",
      "2023-12-06 02:24:22.961 Hail: INFO: wrote table with 314 rows in 1 partition to /tmp/persist_tablekNUzMwUHOL\n",
      "2023-12-06 02:24:23.150 Hail: INFO: Reading table to impute column types\n",
      "2023-12-06 02:24:23.349 Hail: INFO: Finished type imputation\n",
      "  Loading field 'chr_name' as type int32 (imputed)\n",
      "  Loading field 'chr_position' as type int32 (imputed)\n",
      "  Loading field 'effect_allele' as type str (imputed)\n",
      "  Loading field 'reference_allele' as type str (imputed)\n",
      "  Loading field 'effect_weight' as type float64 (imputed)\n",
      "  Loading field 'allelefrequency_effect' as type float64 (imputed)\n",
      "2023-12-06 02:24:29.760 Hail: INFO: Ordering unsorted dataset with network shuffle\n",
      "2023-12-06 02:24:29.855 Hail: INFO: Ordering unsorted dataset with network shuffle\n",
      "[Stage 626:======================================>                  (2 + 1) / 3]\r"
     ]
    },
    {
     "name": "stdout",
     "output_type": "stream",
     "text": [
      "TEST_NA18986_TEST_NA18986_x_TEST_NA19087_TEST_NA19087.txt complete, number of completed is 57\n"
     ]
    },
    {
     "name": "stderr",
     "output_type": "stream",
     "text": [
      "2023-12-06 02:24:40.105 Hail: INFO: wrote table with 1714079 rows in 1 partition to /tmp/persist_table58sStjZcOB\n",
      "2023-12-06 02:24:40.300 Hail: INFO: Reading table to impute column types\n",
      "2023-12-06 02:24:44.697 Hail: INFO: Finished type imputation        (1 + 2) / 3]\n",
      "  Loading field 'locus' as type str (imputed)\n",
      "  Loading field 'alleles' as type str (imputed)\n",
      "  Loading field 'rsid' as type str (imputed)\n",
      "  Loading field 'variantID' as type str (imputed)\n",
      "  Loading field 's' as type str (imputed)\n",
      "  Loading field 'GT' as type str (imputed)\n",
      "  Loading field 'DS' as type float64 (imputed)\n",
      "2023-12-06 02:24:44.962 Hail: INFO: wrote table with 314 rows in 1 partition to /tmp/persist_tableUTbGum0fG6\n",
      "2023-12-06 02:24:45.138 Hail: INFO: Reading table to impute column types\n",
      "2023-12-06 02:24:45.337 Hail: INFO: Finished type imputation\n",
      "  Loading field 'chr_name' as type int32 (imputed)\n",
      "  Loading field 'chr_position' as type int32 (imputed)\n",
      "  Loading field 'effect_allele' as type str (imputed)\n",
      "  Loading field 'reference_allele' as type str (imputed)\n",
      "  Loading field 'effect_weight' as type float64 (imputed)\n",
      "  Loading field 'allelefrequency_effect' as type float64 (imputed)\n",
      "2023-12-06 02:24:51.654 Hail: INFO: Ordering unsorted dataset with network shuffle\n",
      "2023-12-06 02:24:51.740 Hail: INFO: Ordering unsorted dataset with network shuffle\n",
      "[Stage 637:======================================>                  (2 + 1) / 3]\r"
     ]
    },
    {
     "name": "stdout",
     "output_type": "stream",
     "text": [
      "TEST_NA18986_TEST_NA18986_x_TEST_NA18956_TEST_NA18956.txt complete, number of completed is 58\n"
     ]
    },
    {
     "name": "stderr",
     "output_type": "stream",
     "text": [
      "2023-12-06 02:25:02.368 Hail: INFO: wrote table with 1717462 rows in 1 partition to /tmp/persist_tablewfcNSlKdb8\n",
      "2023-12-06 02:25:02.561 Hail: INFO: Reading table to impute column types\n",
      "2023-12-06 02:25:06.981 Hail: INFO: Finished type imputation        (1 + 2) / 3]\n",
      "  Loading field 'locus' as type str (imputed)\n",
      "  Loading field 'alleles' as type str (imputed)\n",
      "  Loading field 'rsid' as type str (imputed)\n",
      "  Loading field 'variantID' as type str (imputed)\n",
      "  Loading field 's' as type str (imputed)\n",
      "  Loading field 'GT' as type str (imputed)\n",
      "  Loading field 'DS' as type float64 (imputed)\n",
      "2023-12-06 02:25:07.241 Hail: INFO: wrote table with 314 rows in 1 partition to /tmp/persist_tableHqtXVuYe2d\n",
      "2023-12-06 02:25:07.426 Hail: INFO: Reading table to impute column types\n",
      "2023-12-06 02:25:07.626 Hail: INFO: Finished type imputation\n",
      "  Loading field 'chr_name' as type int32 (imputed)\n",
      "  Loading field 'chr_position' as type int32 (imputed)\n",
      "  Loading field 'effect_allele' as type str (imputed)\n",
      "  Loading field 'reference_allele' as type str (imputed)\n",
      "  Loading field 'effect_weight' as type float64 (imputed)\n",
      "  Loading field 'allelefrequency_effect' as type float64 (imputed)\n",
      "2023-12-06 02:25:13.705 Hail: INFO: Ordering unsorted dataset with network shuffle\n",
      "2023-12-06 02:25:13.801 Hail: INFO: Ordering unsorted dataset with network shuffle\n",
      "[Stage 648:>                                                        (0 + 3) / 3]\r"
     ]
    },
    {
     "name": "stdout",
     "output_type": "stream",
     "text": [
      "TEST_NA18986_TEST_NA18986_x_TEST_NA18978_TEST_NA18978.txt complete, number of completed is 59\n"
     ]
    },
    {
     "name": "stderr",
     "output_type": "stream",
     "text": [
      "2023-12-06 02:25:24.195 Hail: INFO: wrote table with 1712050 rows in 1 partition to /tmp/persist_tabledV89ZMFmFn\n",
      "2023-12-06 02:25:24.404 Hail: INFO: Reading table to impute column types\n",
      "2023-12-06 02:25:28.810 Hail: INFO: Finished type imputation        (1 + 2) / 3]\n",
      "  Loading field 'locus' as type str (imputed)\n",
      "  Loading field 'alleles' as type str (imputed)\n",
      "  Loading field 'rsid' as type str (imputed)\n",
      "  Loading field 'variantID' as type str (imputed)\n",
      "  Loading field 's' as type str (imputed)\n",
      "  Loading field 'GT' as type str (imputed)\n",
      "  Loading field 'DS' as type float64 (imputed)\n",
      "2023-12-06 02:25:29.086 Hail: INFO: wrote table with 314 rows in 1 partition to /tmp/persist_tableblFQn8zTWU\n",
      "2023-12-06 02:25:29.280 Hail: INFO: Reading table to impute column types\n",
      "2023-12-06 02:25:29.475 Hail: INFO: Finished type imputation\n",
      "  Loading field 'chr_name' as type int32 (imputed)\n",
      "  Loading field 'chr_position' as type int32 (imputed)\n",
      "  Loading field 'effect_allele' as type str (imputed)\n",
      "  Loading field 'reference_allele' as type str (imputed)\n",
      "  Loading field 'effect_weight' as type float64 (imputed)\n",
      "  Loading field 'allelefrequency_effect' as type float64 (imputed)\n",
      "2023-12-06 02:25:35.636 Hail: INFO: Ordering unsorted dataset with network shuffle\n",
      "2023-12-06 02:25:35.728 Hail: INFO: Ordering unsorted dataset with network shuffle\n",
      "[Stage 659:======================================>                  (2 + 1) / 3]\r"
     ]
    },
    {
     "name": "stdout",
     "output_type": "stream",
     "text": [
      "TEST_NA18986_TEST_NA18986_x_TEST_NA18952_TEST_NA18952.txt complete, number of completed is 60\n"
     ]
    },
    {
     "name": "stderr",
     "output_type": "stream",
     "text": [
      "2023-12-06 02:25:46.373 Hail: INFO: wrote table with 1713217 rows in 1 partition to /tmp/persist_tablehaqp71sBP6\n",
      "2023-12-06 02:25:46.585 Hail: INFO: Reading table to impute column types\n",
      "2023-12-06 02:25:50.997 Hail: INFO: Finished type imputation        (1 + 2) / 3]\n",
      "  Loading field 'locus' as type str (imputed)\n",
      "  Loading field 'alleles' as type str (imputed)\n",
      "  Loading field 'rsid' as type str (imputed)\n",
      "  Loading field 'variantID' as type str (imputed)\n",
      "  Loading field 's' as type str (imputed)\n",
      "  Loading field 'GT' as type str (imputed)\n",
      "  Loading field 'DS' as type float64 (imputed)\n",
      "2023-12-06 02:25:51.258 Hail: INFO: wrote table with 314 rows in 1 partition to /tmp/persist_tableb2yFsMzr4K\n",
      "2023-12-06 02:25:51.444 Hail: INFO: Reading table to impute column types\n",
      "2023-12-06 02:25:51.640 Hail: INFO: Finished type imputation\n",
      "  Loading field 'chr_name' as type int32 (imputed)\n",
      "  Loading field 'chr_position' as type int32 (imputed)\n",
      "  Loading field 'effect_allele' as type str (imputed)\n",
      "  Loading field 'reference_allele' as type str (imputed)\n",
      "  Loading field 'effect_weight' as type float64 (imputed)\n",
      "  Loading field 'allelefrequency_effect' as type float64 (imputed)\n",
      "2023-12-06 02:25:58.058 Hail: INFO: Ordering unsorted dataset with network shuffle\n",
      "2023-12-06 02:25:58.144 Hail: INFO: Ordering unsorted dataset with network shuffle\n",
      "[Stage 670:>                                                        (0 + 3) / 3]\r"
     ]
    },
    {
     "name": "stdout",
     "output_type": "stream",
     "text": [
      "TEST_NA18986_TEST_NA18986_x_TEST_NA18942_TEST_NA18942.txt complete, number of completed is 61\n"
     ]
    },
    {
     "name": "stderr",
     "output_type": "stream",
     "text": [
      "2023-12-06 02:26:08.526 Hail: INFO: wrote table with 1714338 rows in 1 partition to /tmp/persist_tableJJ14Fi0ruk\n",
      "2023-12-06 02:26:08.722 Hail: INFO: Reading table to impute column types\n",
      "2023-12-06 02:26:13.124 Hail: INFO: Finished type imputation        (1 + 2) / 3]\n",
      "  Loading field 'locus' as type str (imputed)\n",
      "  Loading field 'alleles' as type str (imputed)\n",
      "  Loading field 'rsid' as type str (imputed)\n",
      "  Loading field 'variantID' as type str (imputed)\n",
      "  Loading field 's' as type str (imputed)\n",
      "  Loading field 'GT' as type str (imputed)\n",
      "  Loading field 'DS' as type float64 (imputed)\n",
      "2023-12-06 02:26:13.383 Hail: INFO: wrote table with 314 rows in 1 partition to /tmp/persist_table7OKuM3A1bY\n",
      "2023-12-06 02:26:13.585 Hail: INFO: Reading table to impute column types\n",
      "2023-12-06 02:26:13.784 Hail: INFO: Finished type imputation\n",
      "  Loading field 'chr_name' as type int32 (imputed)\n",
      "  Loading field 'chr_position' as type int32 (imputed)\n",
      "  Loading field 'effect_allele' as type str (imputed)\n",
      "  Loading field 'reference_allele' as type str (imputed)\n",
      "  Loading field 'effect_weight' as type float64 (imputed)\n",
      "  Loading field 'allelefrequency_effect' as type float64 (imputed)\n",
      "2023-12-06 02:26:20.019 Hail: INFO: Ordering unsorted dataset with network shuffle\n",
      "2023-12-06 02:26:20.107 Hail: INFO: Ordering unsorted dataset with network shuffle\n",
      "[Stage 681:===================>                                     (1 + 2) / 3]\r"
     ]
    },
    {
     "name": "stdout",
     "output_type": "stream",
     "text": [
      "TEST_NA18986_TEST_NA18986_x_TEST_NA18968_TEST_NA18968.txt complete, number of completed is 62\n"
     ]
    },
    {
     "name": "stderr",
     "output_type": "stream",
     "text": [
      "2023-12-06 02:26:30.719 Hail: INFO: wrote table with 1713312 rows in 1 partition to /tmp/persist_tableRUcSDdoiMm\n",
      "2023-12-06 02:26:30.909 Hail: INFO: Reading table to impute column types\n",
      "2023-12-06 02:26:35.422 Hail: INFO: Finished type imputation        (1 + 2) / 3]\n",
      "  Loading field 'locus' as type str (imputed)\n",
      "  Loading field 'alleles' as type str (imputed)\n",
      "  Loading field 'rsid' as type str (imputed)\n",
      "  Loading field 'variantID' as type str (imputed)\n",
      "  Loading field 's' as type str (imputed)\n",
      "  Loading field 'GT' as type str (imputed)\n",
      "  Loading field 'DS' as type float64 (imputed)\n",
      "2023-12-06 02:26:35.681 Hail: INFO: wrote table with 314 rows in 1 partition to /tmp/persist_tablelh0Nil9PSb\n",
      "2023-12-06 02:26:35.861 Hail: INFO: Reading table to impute column types\n",
      "2023-12-06 02:26:36.055 Hail: INFO: Finished type imputation\n",
      "  Loading field 'chr_name' as type int32 (imputed)\n",
      "  Loading field 'chr_position' as type int32 (imputed)\n",
      "  Loading field 'effect_allele' as type str (imputed)\n",
      "  Loading field 'reference_allele' as type str (imputed)\n",
      "  Loading field 'effect_weight' as type float64 (imputed)\n",
      "  Loading field 'allelefrequency_effect' as type float64 (imputed)\n",
      "2023-12-06 02:26:42.183 Hail: INFO: Ordering unsorted dataset with network shuffle\n",
      "2023-12-06 02:26:42.271 Hail: INFO: Ordering unsorted dataset with network shuffle\n",
      "[Stage 692:===================>                                     (1 + 2) / 3]\r"
     ]
    },
    {
     "name": "stdout",
     "output_type": "stream",
     "text": [
      "TEST_NA18986_TEST_NA18986_x_TEST_NA18946_TEST_NA18946.txt complete, number of completed is 63\n"
     ]
    },
    {
     "name": "stderr",
     "output_type": "stream",
     "text": [
      "2023-12-06 02:26:52.809 Hail: INFO: wrote table with 1713348 rows in 1 partition to /tmp/persist_tableVumQU7uSbK\n",
      "2023-12-06 02:26:52.999 Hail: INFO: Reading table to impute column types\n",
      "2023-12-06 02:26:57.422 Hail: INFO: Finished type imputation        (1 + 2) / 3]\n",
      "  Loading field 'locus' as type str (imputed)\n",
      "  Loading field 'alleles' as type str (imputed)\n",
      "  Loading field 'rsid' as type str (imputed)\n",
      "  Loading field 'variantID' as type str (imputed)\n",
      "  Loading field 's' as type str (imputed)\n",
      "  Loading field 'GT' as type str (imputed)\n",
      "  Loading field 'DS' as type float64 (imputed)\n",
      "2023-12-06 02:26:57.703 Hail: INFO: wrote table with 314 rows in 1 partition to /tmp/persist_tableR61dxHffsJ\n",
      "2023-12-06 02:26:57.896 Hail: INFO: Reading table to impute column types\n",
      "2023-12-06 02:26:58.096 Hail: INFO: Finished type imputation\n",
      "  Loading field 'chr_name' as type int32 (imputed)\n",
      "  Loading field 'chr_position' as type int32 (imputed)\n",
      "  Loading field 'effect_allele' as type str (imputed)\n",
      "  Loading field 'reference_allele' as type str (imputed)\n",
      "  Loading field 'effect_weight' as type float64 (imputed)\n",
      "  Loading field 'allelefrequency_effect' as type float64 (imputed)\n",
      "2023-12-06 02:27:04.343 Hail: INFO: Ordering unsorted dataset with network shuffle\n",
      "2023-12-06 02:27:04.433 Hail: INFO: Ordering unsorted dataset with network shuffle\n",
      "[Stage 703:======================================>                  (2 + 1) / 3]\r"
     ]
    },
    {
     "name": "stdout",
     "output_type": "stream",
     "text": [
      "TEST_NA18986_TEST_NA18986_x_TEST_NA18964_TEST_NA18964.txt complete, number of completed is 64\n"
     ]
    },
    {
     "name": "stderr",
     "output_type": "stream",
     "text": [
      "2023-12-06 02:27:14.731 Hail: INFO: wrote table with 1712001 rows in 1 partition to /tmp/persist_table1BpED9Q54N\n",
      "2023-12-06 02:27:14.924 Hail: INFO: Reading table to impute column types\n",
      "2023-12-06 02:27:19.512 Hail: INFO: Finished type imputation        (2 + 1) / 3]\n",
      "  Loading field 'locus' as type str (imputed)\n",
      "  Loading field 'alleles' as type str (imputed)\n",
      "  Loading field 'rsid' as type str (imputed)\n",
      "  Loading field 'variantID' as type str (imputed)\n",
      "  Loading field 's' as type str (imputed)\n",
      "  Loading field 'GT' as type str (imputed)\n",
      "  Loading field 'DS' as type float64 (imputed)\n",
      "2023-12-06 02:27:19.777 Hail: INFO: wrote table with 314 rows in 1 partition to /tmp/persist_tableq1GWBhHxHA\n",
      "2023-12-06 02:27:19.964 Hail: INFO: Reading table to impute column types\n",
      "2023-12-06 02:27:20.161 Hail: INFO: Finished type imputation\n",
      "  Loading field 'chr_name' as type int32 (imputed)\n",
      "  Loading field 'chr_position' as type int32 (imputed)\n",
      "  Loading field 'effect_allele' as type str (imputed)\n",
      "  Loading field 'reference_allele' as type str (imputed)\n",
      "  Loading field 'effect_weight' as type float64 (imputed)\n",
      "  Loading field 'allelefrequency_effect' as type float64 (imputed)\n",
      "2023-12-06 02:27:26.471 Hail: INFO: Ordering unsorted dataset with network shuffle\n",
      "2023-12-06 02:27:26.572 Hail: INFO: Ordering unsorted dataset with network shuffle\n",
      "[Stage 714:===================>                                     (1 + 2) / 3]\r"
     ]
    },
    {
     "name": "stdout",
     "output_type": "stream",
     "text": [
      "TEST_NA18986_TEST_NA18986_x_TEST_NA19002_TEST_NA19002.txt complete, number of completed is 65\n"
     ]
    },
    {
     "name": "stderr",
     "output_type": "stream",
     "text": [
      "2023-12-06 02:27:38.877 Hail: INFO: wrote table with 1715550 rows in 1 partition to /tmp/persist_tableTfBbF5SKSF\n",
      "2023-12-06 02:27:39.073 Hail: INFO: Reading table to impute column types\n",
      "2023-12-06 02:27:43.950 Hail: INFO: Finished type imputation        (1 + 2) / 3]\n",
      "  Loading field 'locus' as type str (imputed)\n",
      "  Loading field 'alleles' as type str (imputed)\n",
      "  Loading field 'rsid' as type str (imputed)\n",
      "  Loading field 'variantID' as type str (imputed)\n",
      "  Loading field 's' as type str (imputed)\n",
      "  Loading field 'GT' as type str (imputed)\n",
      "  Loading field 'DS' as type float64 (imputed)\n",
      "2023-12-06 02:27:44.234 Hail: INFO: wrote table with 314 rows in 1 partition to /tmp/persist_tablehHVATDUU3A\n",
      "2023-12-06 02:27:44.413 Hail: INFO: Reading table to impute column types\n",
      "2023-12-06 02:27:44.639 Hail: INFO: Finished type imputation\n",
      "  Loading field 'chr_name' as type int32 (imputed)\n",
      "  Loading field 'chr_position' as type int32 (imputed)\n",
      "  Loading field 'effect_allele' as type str (imputed)\n",
      "  Loading field 'reference_allele' as type str (imputed)\n",
      "  Loading field 'effect_weight' as type float64 (imputed)\n",
      "  Loading field 'allelefrequency_effect' as type float64 (imputed)\n",
      "2023-12-06 02:27:50.900 Hail: INFO: Ordering unsorted dataset with network shuffle\n",
      "2023-12-06 02:27:50.986 Hail: INFO: Ordering unsorted dataset with network shuffle\n",
      "[Stage 725:>                                                        (0 + 3) / 3]\r"
     ]
    },
    {
     "name": "stdout",
     "output_type": "stream",
     "text": [
      "TEST_NA18986_TEST_NA18986_x_TEST_NA19006_TEST_NA19006.txt complete, number of completed is 66\n"
     ]
    },
    {
     "name": "stderr",
     "output_type": "stream",
     "text": [
      "2023-12-06 02:28:01.430 Hail: INFO: wrote table with 1719133 rows in 1 partition to /tmp/persist_tableV1zQ4vS4Oo\n",
      "2023-12-06 02:28:01.629 Hail: INFO: Reading table to impute column types\n",
      "2023-12-06 02:28:06.086 Hail: INFO: Finished type imputation        (1 + 2) / 3]\n",
      "  Loading field 'locus' as type str (imputed)\n",
      "  Loading field 'alleles' as type str (imputed)\n",
      "  Loading field 'rsid' as type str (imputed)\n",
      "  Loading field 'variantID' as type str (imputed)\n",
      "  Loading field 's' as type str (imputed)\n",
      "  Loading field 'GT' as type str (imputed)\n",
      "  Loading field 'DS' as type float64 (imputed)\n",
      "2023-12-06 02:28:06.357 Hail: INFO: wrote table with 314 rows in 1 partition to /tmp/persist_table9ZHKPH0VC5\n",
      "2023-12-06 02:28:06.556 Hail: INFO: Reading table to impute column types\n",
      "2023-12-06 02:28:06.754 Hail: INFO: Finished type imputation\n",
      "  Loading field 'chr_name' as type int32 (imputed)\n",
      "  Loading field 'chr_position' as type int32 (imputed)\n",
      "  Loading field 'effect_allele' as type str (imputed)\n",
      "  Loading field 'reference_allele' as type str (imputed)\n",
      "  Loading field 'effect_weight' as type float64 (imputed)\n",
      "  Loading field 'allelefrequency_effect' as type float64 (imputed)\n",
      "2023-12-06 02:28:12.947 Hail: INFO: Ordering unsorted dataset with network shuffle\n",
      "2023-12-06 02:28:13.035 Hail: INFO: Ordering unsorted dataset with network shuffle\n",
      "[Stage 736:===================>                                     (1 + 2) / 3]\r"
     ]
    },
    {
     "name": "stdout",
     "output_type": "stream",
     "text": [
      "TEST_NA18986_TEST_NA18986_x_TEST_NA18960_TEST_NA18960.txt complete, number of completed is 67\n"
     ]
    },
    {
     "name": "stderr",
     "output_type": "stream",
     "text": [
      "2023-12-06 02:28:23.303 Hail: INFO: wrote table with 1716919 rows in 1 partition to /tmp/persist_table2cKDZfWiqS\n",
      "2023-12-06 02:28:23.495 Hail: INFO: Reading table to impute column types\n",
      "2023-12-06 02:28:28.000 Hail: INFO: Finished type imputation        (2 + 1) / 3]\n",
      "  Loading field 'locus' as type str (imputed)\n",
      "  Loading field 'alleles' as type str (imputed)\n",
      "  Loading field 'rsid' as type str (imputed)\n",
      "  Loading field 'variantID' as type str (imputed)\n",
      "  Loading field 's' as type str (imputed)\n",
      "  Loading field 'GT' as type str (imputed)\n",
      "  Loading field 'DS' as type float64 (imputed)\n",
      "2023-12-06 02:28:28.301 Hail: INFO: wrote table with 314 rows in 1 partition to /tmp/persist_tableugtwcO2qMg\n",
      "2023-12-06 02:28:28.500 Hail: INFO: Reading table to impute column types\n",
      "2023-12-06 02:28:28.692 Hail: INFO: Finished type imputation\n",
      "  Loading field 'chr_name' as type int32 (imputed)\n",
      "  Loading field 'chr_position' as type int32 (imputed)\n",
      "  Loading field 'effect_allele' as type str (imputed)\n",
      "  Loading field 'reference_allele' as type str (imputed)\n",
      "  Loading field 'effect_weight' as type float64 (imputed)\n",
      "  Loading field 'allelefrequency_effect' as type float64 (imputed)\n",
      "2023-12-06 02:28:34.885 Hail: INFO: Ordering unsorted dataset with network shuffle\n",
      "2023-12-06 02:28:34.978 Hail: INFO: Ordering unsorted dataset with network shuffle\n",
      "[Stage 747:======================================>                  (2 + 1) / 3]\r"
     ]
    },
    {
     "name": "stdout",
     "output_type": "stream",
     "text": [
      "TEST_NA18986_TEST_NA18986_x_TEST_NA18985_TEST_NA18985.txt complete, number of completed is 68\n"
     ]
    },
    {
     "name": "stderr",
     "output_type": "stream",
     "text": [
      "2023-12-06 02:28:45.319 Hail: INFO: wrote table with 1709645 rows in 1 partition to /tmp/persist_tablew16rEKnuk8\n",
      "2023-12-06 02:28:45.510 Hail: INFO: Reading table to impute column types\n",
      "2023-12-06 02:28:49.914 Hail: INFO: Finished type imputation        (1 + 2) / 3]\n",
      "  Loading field 'locus' as type str (imputed)\n",
      "  Loading field 'alleles' as type str (imputed)\n",
      "  Loading field 'rsid' as type str (imputed)\n",
      "  Loading field 'variantID' as type str (imputed)\n",
      "  Loading field 's' as type str (imputed)\n",
      "  Loading field 'GT' as type str (imputed)\n",
      "  Loading field 'DS' as type float64 (imputed)\n",
      "2023-12-06 02:28:50.172 Hail: INFO: wrote table with 314 rows in 1 partition to /tmp/persist_tabler3H4UXuZmG\n",
      "2023-12-06 02:28:50.356 Hail: INFO: Reading table to impute column types\n",
      "2023-12-06 02:28:50.552 Hail: INFO: Finished type imputation\n",
      "  Loading field 'chr_name' as type int32 (imputed)\n",
      "  Loading field 'chr_position' as type int32 (imputed)\n",
      "  Loading field 'effect_allele' as type str (imputed)\n",
      "  Loading field 'reference_allele' as type str (imputed)\n",
      "  Loading field 'effect_weight' as type float64 (imputed)\n",
      "  Loading field 'allelefrequency_effect' as type float64 (imputed)\n",
      "2023-12-06 02:28:56.791 Hail: INFO: Ordering unsorted dataset with network shuffle\n",
      "2023-12-06 02:28:56.886 Hail: INFO: Ordering unsorted dataset with network shuffle\n",
      "[Stage 758:===================>                                     (1 + 2) / 3]\r"
     ]
    },
    {
     "name": "stdout",
     "output_type": "stream",
     "text": [
      "TEST_NA18986_TEST_NA18986_x_TEST_NA19058_TEST_NA19058.txt complete, number of completed is 69\n"
     ]
    },
    {
     "name": "stderr",
     "output_type": "stream",
     "text": [
      "2023-12-06 02:29:07.235 Hail: INFO: wrote table with 1711829 rows in 1 partition to /tmp/persist_tablel13KH2F8GI\n",
      "2023-12-06 02:29:07.432 Hail: INFO: Reading table to impute column types\n",
      "2023-12-06 02:29:11.844 Hail: INFO: Finished type imputation        (1 + 2) / 3]\n",
      "  Loading field 'locus' as type str (imputed)\n",
      "  Loading field 'alleles' as type str (imputed)\n",
      "  Loading field 'rsid' as type str (imputed)\n",
      "  Loading field 'variantID' as type str (imputed)\n",
      "  Loading field 's' as type str (imputed)\n",
      "  Loading field 'GT' as type str (imputed)\n",
      "  Loading field 'DS' as type float64 (imputed)\n",
      "2023-12-06 02:29:12.115 Hail: INFO: wrote table with 314 rows in 1 partition to /tmp/persist_tableQUtZXIscux\n",
      "2023-12-06 02:29:12.295 Hail: INFO: Reading table to impute column types\n",
      "2023-12-06 02:29:12.493 Hail: INFO: Finished type imputation\n",
      "  Loading field 'chr_name' as type int32 (imputed)\n",
      "  Loading field 'chr_position' as type int32 (imputed)\n",
      "  Loading field 'effect_allele' as type str (imputed)\n",
      "  Loading field 'reference_allele' as type str (imputed)\n",
      "  Loading field 'effect_weight' as type float64 (imputed)\n",
      "  Loading field 'allelefrequency_effect' as type float64 (imputed)\n",
      "2023-12-06 02:29:18.711 Hail: INFO: Ordering unsorted dataset with network shuffle\n",
      "2023-12-06 02:29:18.800 Hail: INFO: Ordering unsorted dataset with network shuffle\n",
      "[Stage 769:===================>                                     (1 + 2) / 3]\r"
     ]
    },
    {
     "name": "stdout",
     "output_type": "stream",
     "text": [
      "TEST_NA18986_TEST_NA18986_x_TEST_NA19076_TEST_NA19076.txt complete, number of completed is 70\n"
     ]
    },
    {
     "name": "stderr",
     "output_type": "stream",
     "text": [
      "2023-12-06 02:29:31.947 Hail: INFO: wrote table with 1715274 rows in 1 partition to /tmp/persist_table8av1vTBdYd\n",
      "2023-12-06 02:29:32.264 Hail: INFO: Reading table to impute column types\n",
      "2023-12-06 02:29:36.797 Hail: INFO: Finished type imputation        (1 + 2) / 3]\n",
      "  Loading field 'locus' as type str (imputed)\n",
      "  Loading field 'alleles' as type str (imputed)\n",
      "  Loading field 'rsid' as type str (imputed)\n",
      "  Loading field 'variantID' as type str (imputed)\n",
      "  Loading field 's' as type str (imputed)\n",
      "  Loading field 'GT' as type str (imputed)\n",
      "  Loading field 'DS' as type float64 (imputed)\n",
      "2023-12-06 02:29:37.068 Hail: INFO: wrote table with 314 rows in 1 partition to /tmp/persist_tablehzPJe1LFSi\n",
      "2023-12-06 02:29:37.280 Hail: INFO: Reading table to impute column types\n",
      "2023-12-06 02:29:37.501 Hail: INFO: Finished type imputation\n",
      "  Loading field 'chr_name' as type int32 (imputed)\n",
      "  Loading field 'chr_position' as type int32 (imputed)\n",
      "  Loading field 'effect_allele' as type str (imputed)\n",
      "  Loading field 'reference_allele' as type str (imputed)\n",
      "  Loading field 'effect_weight' as type float64 (imputed)\n",
      "  Loading field 'allelefrequency_effect' as type float64 (imputed)\n",
      "2023-12-06 02:29:43.133 Hail: INFO: Ordering unsorted dataset with network shuffle\n",
      "2023-12-06 02:29:43.219 Hail: INFO: Ordering unsorted dataset with network shuffle\n",
      "[Stage 780:>                                                        (0 + 3) / 3]\r"
     ]
    },
    {
     "name": "stdout",
     "output_type": "stream",
     "text": [
      "TEST_NA18986_TEST_NA18986_x_TEST_NA18981_TEST_NA18981.txt complete, number of completed is 71\n"
     ]
    },
    {
     "name": "stderr",
     "output_type": "stream",
     "text": [
      "2023-12-06 02:29:52.695 Hail: INFO: wrote table with 1714979 rows in 1 partition to /tmp/persist_table965KDJi0jG\n",
      "2023-12-06 02:29:52.884 Hail: INFO: Reading table to impute column types\n",
      "2023-12-06 02:29:57.380 Hail: INFO: Finished type imputation        (1 + 2) / 3]\n",
      "  Loading field 'locus' as type str (imputed)\n",
      "  Loading field 'alleles' as type str (imputed)\n",
      "  Loading field 'rsid' as type str (imputed)\n",
      "  Loading field 'variantID' as type str (imputed)\n",
      "  Loading field 's' as type str (imputed)\n",
      "  Loading field 'GT' as type str (imputed)\n",
      "  Loading field 'DS' as type float64 (imputed)\n",
      "2023-12-06 02:29:57.648 Hail: INFO: wrote table with 314 rows in 1 partition to /tmp/persist_tablev5zlc4PgXz\n",
      "2023-12-06 02:29:57.825 Hail: INFO: Reading table to impute column types\n",
      "2023-12-06 02:29:58.047 Hail: INFO: Finished type imputation\n",
      "  Loading field 'chr_name' as type int32 (imputed)\n",
      "  Loading field 'chr_position' as type int32 (imputed)\n",
      "  Loading field 'effect_allele' as type str (imputed)\n",
      "  Loading field 'reference_allele' as type str (imputed)\n",
      "  Loading field 'effect_weight' as type float64 (imputed)\n",
      "  Loading field 'allelefrequency_effect' as type float64 (imputed)\n",
      "2023-12-06 02:30:03.555 Hail: INFO: Ordering unsorted dataset with network shuffle\n",
      "2023-12-06 02:30:03.638 Hail: INFO: Ordering unsorted dataset with network shuffle\n",
      "[Stage 791:===================>                                     (1 + 2) / 3]\r"
     ]
    },
    {
     "name": "stdout",
     "output_type": "stream",
     "text": [
      "TEST_NA18986_TEST_NA18986_x_TEST_NA19072_TEST_NA19072.txt complete, number of completed is 72\n"
     ]
    },
    {
     "name": "stderr",
     "output_type": "stream",
     "text": [
      "2023-12-06 02:30:13.434 Hail: INFO: wrote table with 1717937 rows in 1 partition to /tmp/persist_tablevLjueNKUWh\n",
      "2023-12-06 02:30:13.646 Hail: INFO: Reading table to impute column types\n",
      "2023-12-06 02:30:18.045 Hail: INFO: Finished type imputation        (2 + 1) / 3]\n",
      "  Loading field 'locus' as type str (imputed)\n",
      "  Loading field 'alleles' as type str (imputed)\n",
      "  Loading field 'rsid' as type str (imputed)\n",
      "  Loading field 'variantID' as type str (imputed)\n",
      "  Loading field 's' as type str (imputed)\n",
      "  Loading field 'GT' as type str (imputed)\n",
      "  Loading field 'DS' as type float64 (imputed)\n",
      "2023-12-06 02:30:18.318 Hail: INFO: wrote table with 314 rows in 1 partition to /tmp/persist_tablesvtZ0MgCN8\n",
      "2023-12-06 02:30:18.513 Hail: INFO: Reading table to impute column types\n",
      "2023-12-06 02:30:18.706 Hail: INFO: Finished type imputation\n",
      "  Loading field 'chr_name' as type int32 (imputed)\n",
      "  Loading field 'chr_position' as type int32 (imputed)\n",
      "  Loading field 'effect_allele' as type str (imputed)\n",
      "  Loading field 'reference_allele' as type str (imputed)\n",
      "  Loading field 'effect_weight' as type float64 (imputed)\n",
      "  Loading field 'allelefrequency_effect' as type float64 (imputed)\n",
      "2023-12-06 02:30:24.930 Hail: INFO: Ordering unsorted dataset with network shuffle\n",
      "2023-12-06 02:30:25.031 Hail: INFO: Ordering unsorted dataset with network shuffle\n",
      "[Stage 802:>                                                        (0 + 3) / 3]\r"
     ]
    },
    {
     "name": "stdout",
     "output_type": "stream",
     "text": [
      "TEST_NA18986_TEST_NA18986_x_TEST_NA18989_TEST_NA18989.txt complete, number of completed is 73\n"
     ]
    },
    {
     "name": "stderr",
     "output_type": "stream",
     "text": [
      "2023-12-06 02:30:35.474 Hail: INFO: wrote table with 1712639 rows in 1 partition to /tmp/persist_tablexCBIya8NFv\n",
      "2023-12-06 02:30:35.705 Hail: INFO: Reading table to impute column types\n",
      "2023-12-06 02:30:40.280 Hail: INFO: Finished type imputation        (1 + 2) / 3]\n",
      "  Loading field 'locus' as type str (imputed)\n",
      "  Loading field 'alleles' as type str (imputed)\n",
      "  Loading field 'rsid' as type str (imputed)\n",
      "  Loading field 'variantID' as type str (imputed)\n",
      "  Loading field 's' as type str (imputed)\n",
      "  Loading field 'GT' as type str (imputed)\n",
      "  Loading field 'DS' as type float64 (imputed)\n",
      "2023-12-06 02:30:40.538 Hail: INFO: wrote table with 314 rows in 1 partition to /tmp/persist_tabledayth4tULB\n",
      "2023-12-06 02:30:40.718 Hail: INFO: Reading table to impute column types\n",
      "2023-12-06 02:30:40.897 Hail: INFO: Finished type imputation\n",
      "  Loading field 'chr_name' as type int32 (imputed)\n",
      "  Loading field 'chr_position' as type int32 (imputed)\n",
      "  Loading field 'effect_allele' as type str (imputed)\n",
      "  Loading field 'reference_allele' as type str (imputed)\n",
      "  Loading field 'effect_weight' as type float64 (imputed)\n",
      "  Loading field 'allelefrequency_effect' as type float64 (imputed)\n",
      "2023-12-06 02:30:46.394 Hail: INFO: Ordering unsorted dataset with network shuffle\n",
      "2023-12-06 02:30:46.478 Hail: INFO: Ordering unsorted dataset with network shuffle\n",
      "[Stage 813:>                                                        (0 + 3) / 3]\r"
     ]
    },
    {
     "name": "stdout",
     "output_type": "stream",
     "text": [
      "TEST_NA18986_TEST_NA18986_x_TEST_NA19054_TEST_NA19054.txt complete, number of completed is 74\n"
     ]
    },
    {
     "name": "stderr",
     "output_type": "stream",
     "text": [
      "2023-12-06 02:30:56.229 Hail: INFO: wrote table with 1712355 rows in 1 partition to /tmp/persist_tableBWZ4fHZe4B\n",
      "2023-12-06 02:30:56.425 Hail: INFO: Reading table to impute column types\n",
      "2023-12-06 02:31:01.018 Hail: INFO: Finished type imputation        (1 + 2) / 3]\n",
      "  Loading field 'locus' as type str (imputed)\n",
      "  Loading field 'alleles' as type str (imputed)\n",
      "  Loading field 'rsid' as type str (imputed)\n",
      "  Loading field 'variantID' as type str (imputed)\n",
      "  Loading field 's' as type str (imputed)\n",
      "  Loading field 'GT' as type str (imputed)\n",
      "  Loading field 'DS' as type float64 (imputed)\n",
      "2023-12-06 02:31:01.282 Hail: INFO: wrote table with 314 rows in 1 partition to /tmp/persist_tableCjVWRonuQt\n",
      "2023-12-06 02:31:01.464 Hail: INFO: Reading table to impute column types\n",
      "2023-12-06 02:31:01.645 Hail: INFO: Finished type imputation\n",
      "  Loading field 'chr_name' as type int32 (imputed)\n",
      "  Loading field 'chr_position' as type int32 (imputed)\n",
      "  Loading field 'effect_allele' as type str (imputed)\n",
      "  Loading field 'reference_allele' as type str (imputed)\n",
      "  Loading field 'effect_weight' as type float64 (imputed)\n",
      "  Loading field 'allelefrequency_effect' as type float64 (imputed)\n",
      "2023-12-06 02:31:07.201 Hail: INFO: Ordering unsorted dataset with network shuffle\n",
      "2023-12-06 02:31:07.286 Hail: INFO: Ordering unsorted dataset with network shuffle\n",
      "[Stage 824:>                                                        (0 + 3) / 3]\r"
     ]
    },
    {
     "name": "stdout",
     "output_type": "stream",
     "text": [
      "TEST_NA18986_TEST_NA18986_x_TEST_NA18999_TEST_NA18999.txt complete, number of completed is 75\n"
     ]
    },
    {
     "name": "stderr",
     "output_type": "stream",
     "text": [
      "2023-12-06 02:31:17.199 Hail: INFO: wrote table with 1713837 rows in 1 partition to /tmp/persist_tableCYqLAMIbcy\n",
      "2023-12-06 02:31:17.387 Hail: INFO: Reading table to impute column types\n",
      "2023-12-06 02:31:22.292 Hail: INFO: Finished type imputation        (1 + 2) / 3]\n",
      "  Loading field 'locus' as type str (imputed)\n",
      "  Loading field 'alleles' as type str (imputed)\n",
      "  Loading field 'rsid' as type str (imputed)\n",
      "  Loading field 'variantID' as type str (imputed)\n",
      "  Loading field 's' as type str (imputed)\n",
      "  Loading field 'GT' as type str (imputed)\n",
      "  Loading field 'DS' as type float64 (imputed)\n",
      "2023-12-06 02:31:22.567 Hail: INFO: wrote table with 314 rows in 1 partition to /tmp/persist_tableDH5lUDtxA5\n",
      "2023-12-06 02:31:22.745 Hail: INFO: Reading table to impute column types\n",
      "2023-12-06 02:31:22.961 Hail: INFO: Finished type imputation\n",
      "  Loading field 'chr_name' as type int32 (imputed)\n",
      "  Loading field 'chr_position' as type int32 (imputed)\n",
      "  Loading field 'effect_allele' as type str (imputed)\n",
      "  Loading field 'reference_allele' as type str (imputed)\n",
      "  Loading field 'effect_weight' as type float64 (imputed)\n",
      "  Loading field 'allelefrequency_effect' as type float64 (imputed)\n",
      "2023-12-06 02:31:28.629 Hail: INFO: Ordering unsorted dataset with network shuffle\n",
      "2023-12-06 02:31:28.713 Hail: INFO: Ordering unsorted dataset with network shuffle\n",
      "[Stage 835:>                                                        (0 + 3) / 3]\r"
     ]
    },
    {
     "name": "stdout",
     "output_type": "stream",
     "text": [
      "TEST_NA18986_TEST_NA18986_x_TEST_NA19062_TEST_NA19062.txt complete, number of completed is 76\n"
     ]
    },
    {
     "name": "stderr",
     "output_type": "stream",
     "text": [
      "2023-12-06 02:31:38.215 Hail: INFO: wrote table with 1712462 rows in 1 partition to /tmp/persist_tableifGz9LsTuS\n",
      "2023-12-06 02:31:38.400 Hail: INFO: Reading table to impute column types\n",
      "2023-12-06 02:31:42.981 Hail: INFO: Finished type imputation        (1 + 2) / 3]\n",
      "  Loading field 'locus' as type str (imputed)\n",
      "  Loading field 'alleles' as type str (imputed)\n",
      "  Loading field 'rsid' as type str (imputed)\n",
      "  Loading field 'variantID' as type str (imputed)\n",
      "  Loading field 's' as type str (imputed)\n",
      "  Loading field 'GT' as type str (imputed)\n",
      "  Loading field 'DS' as type float64 (imputed)\n",
      "2023-12-06 02:31:43.234 Hail: INFO: wrote table with 314 rows in 1 partition to /tmp/persist_tableqfSau9Pg9s\n",
      "2023-12-06 02:31:43.416 Hail: INFO: Reading table to impute column types\n",
      "2023-12-06 02:31:43.602 Hail: INFO: Finished type imputation\n",
      "  Loading field 'chr_name' as type int32 (imputed)\n",
      "  Loading field 'chr_position' as type int32 (imputed)\n",
      "  Loading field 'effect_allele' as type str (imputed)\n",
      "  Loading field 'reference_allele' as type str (imputed)\n",
      "  Loading field 'effect_weight' as type float64 (imputed)\n",
      "  Loading field 'allelefrequency_effect' as type float64 (imputed)\n",
      "2023-12-06 02:31:48.961 Hail: INFO: Ordering unsorted dataset with network shuffle\n",
      "2023-12-06 02:31:49.045 Hail: INFO: Ordering unsorted dataset with network shuffle\n",
      "[Stage 846:>                                                        (0 + 3) / 3]\r"
     ]
    },
    {
     "name": "stdout",
     "output_type": "stream",
     "text": [
      "TEST_NA18986_TEST_NA18986_x_TEST_NA18991_TEST_NA18991.txt complete, number of completed is 77\n"
     ]
    },
    {
     "name": "stderr",
     "output_type": "stream",
     "text": [
      "2023-12-06 02:31:58.572 Hail: INFO: wrote table with 1712974 rows in 1 partition to /tmp/persist_tableiU69KLaPhW\n",
      "2023-12-06 02:31:58.775 Hail: INFO: Reading table to impute column types\n",
      "2023-12-06 02:32:03.320 Hail: INFO: Finished type imputation        (1 + 2) / 3]\n",
      "  Loading field 'locus' as type str (imputed)\n",
      "  Loading field 'alleles' as type str (imputed)\n",
      "  Loading field 'rsid' as type str (imputed)\n",
      "  Loading field 'variantID' as type str (imputed)\n",
      "  Loading field 's' as type str (imputed)\n",
      "  Loading field 'GT' as type str (imputed)\n",
      "  Loading field 'DS' as type float64 (imputed)\n",
      "2023-12-06 02:32:03.594 Hail: INFO: wrote table with 314 rows in 1 partition to /tmp/persist_tableDEkIMi59wV\n",
      "2023-12-06 02:32:03.771 Hail: INFO: Reading table to impute column types\n",
      "2023-12-06 02:32:03.956 Hail: INFO: Finished type imputation\n",
      "  Loading field 'chr_name' as type int32 (imputed)\n",
      "  Loading field 'chr_position' as type int32 (imputed)\n",
      "  Loading field 'effect_allele' as type str (imputed)\n",
      "  Loading field 'reference_allele' as type str (imputed)\n",
      "  Loading field 'effect_weight' as type float64 (imputed)\n",
      "  Loading field 'allelefrequency_effect' as type float64 (imputed)\n",
      "2023-12-06 02:32:09.562 Hail: INFO: Ordering unsorted dataset with network shuffle\n",
      "2023-12-06 02:32:09.644 Hail: INFO: Ordering unsorted dataset with network shuffle\n",
      "[Stage 857:>                                                        (0 + 3) / 3]\r"
     ]
    },
    {
     "name": "stdout",
     "output_type": "stream",
     "text": [
      "TEST_NA18986_TEST_NA18986_x_TEST_NA19066_TEST_NA19066.txt complete, number of completed is 78\n"
     ]
    },
    {
     "name": "stderr",
     "output_type": "stream",
     "text": [
      "2023-12-06 02:32:19.193 Hail: INFO: wrote table with 1713586 rows in 1 partition to /tmp/persist_tableNDY0pTJqaa\n",
      "2023-12-06 02:32:19.383 Hail: INFO: Reading table to impute column types\n",
      "2023-12-06 02:32:23.980 Hail: INFO: Finished type imputation        (1 + 2) / 3]\n",
      "  Loading field 'locus' as type str (imputed)\n",
      "  Loading field 'alleles' as type str (imputed)\n",
      "  Loading field 'rsid' as type str (imputed)\n",
      "  Loading field 'variantID' as type str (imputed)\n",
      "  Loading field 's' as type str (imputed)\n",
      "  Loading field 'GT' as type str (imputed)\n",
      "  Loading field 'DS' as type float64 (imputed)\n",
      "2023-12-06 02:32:24.233 Hail: INFO: wrote table with 314 rows in 1 partition to /tmp/persist_tableDJ3PgldMXl\n",
      "2023-12-06 02:32:24.428 Hail: INFO: Reading table to impute column types\n",
      "2023-12-06 02:32:24.618 Hail: INFO: Finished type imputation\n",
      "  Loading field 'chr_name' as type int32 (imputed)\n",
      "  Loading field 'chr_position' as type int32 (imputed)\n",
      "  Loading field 'effect_allele' as type str (imputed)\n",
      "  Loading field 'reference_allele' as type str (imputed)\n",
      "  Loading field 'effect_weight' as type float64 (imputed)\n",
      "  Loading field 'allelefrequency_effect' as type float64 (imputed)\n",
      "2023-12-06 02:32:30.276 Hail: INFO: Ordering unsorted dataset with network shuffle\n",
      "2023-12-06 02:32:30.383 Hail: INFO: Ordering unsorted dataset with network shuffle\n",
      "[Stage 868:======================================>                  (2 + 1) / 3]\r"
     ]
    },
    {
     "name": "stdout",
     "output_type": "stream",
     "text": [
      "TEST_NA18986_TEST_NA18986_x_TEST_NA18995_TEST_NA18995.txt complete, number of completed is 79\n"
     ]
    },
    {
     "name": "stderr",
     "output_type": "stream",
     "text": [
      "2023-12-06 02:32:39.976 Hail: INFO: wrote table with 1715563 rows in 1 partition to /tmp/persist_tablevYIlMItua0\n",
      "2023-12-06 02:32:40.165 Hail: INFO: Reading table to impute column types\n",
      "2023-12-06 02:32:44.807 Hail: INFO: Finished type imputation        (1 + 2) / 3]\n",
      "  Loading field 'locus' as type str (imputed)\n",
      "  Loading field 'alleles' as type str (imputed)\n",
      "  Loading field 'rsid' as type str (imputed)\n",
      "  Loading field 'variantID' as type str (imputed)\n",
      "  Loading field 's' as type str (imputed)\n",
      "  Loading field 'GT' as type str (imputed)\n",
      "  Loading field 'DS' as type float64 (imputed)\n",
      "2023-12-06 02:32:45.058 Hail: INFO: wrote table with 314 rows in 1 partition to /tmp/persist_tablelr26AzdXhO\n",
      "2023-12-06 02:32:45.276 Hail: INFO: Reading table to impute column types\n",
      "2023-12-06 02:32:45.461 Hail: INFO: Finished type imputation\n",
      "  Loading field 'chr_name' as type int32 (imputed)\n",
      "  Loading field 'chr_position' as type int32 (imputed)\n",
      "  Loading field 'effect_allele' as type str (imputed)\n",
      "  Loading field 'reference_allele' as type str (imputed)\n",
      "  Loading field 'effect_weight' as type float64 (imputed)\n",
      "  Loading field 'allelefrequency_effect' as type float64 (imputed)\n",
      "2023-12-06 02:32:51.881 Hail: INFO: Ordering unsorted dataset with network shuffle\n",
      "2023-12-06 02:32:51.968 Hail: INFO: Ordering unsorted dataset with network shuffle\n",
      "[Stage 879:>                                                        (0 + 3) / 3]\r"
     ]
    },
    {
     "name": "stdout",
     "output_type": "stream",
     "text": [
      "TEST_NA18986_TEST_NA18986_x_TEST_NA19082_TEST_NA19082.txt complete, number of completed is 80\n"
     ]
    },
    {
     "name": "stderr",
     "output_type": "stream",
     "text": [
      "2023-12-06 02:33:05.165 Hail: INFO: wrote table with 1714173 rows in 1 partition to /tmp/persist_tableT2gRVZtDC3\n",
      "2023-12-06 02:33:05.365 Hail: INFO: Reading table to impute column types\n",
      "2023-12-06 02:33:09.963 Hail: INFO: Finished type imputation        (1 + 2) / 3]\n",
      "  Loading field 'locus' as type str (imputed)\n",
      "  Loading field 'alleles' as type str (imputed)\n",
      "  Loading field 'rsid' as type str (imputed)\n",
      "  Loading field 'variantID' as type str (imputed)\n",
      "  Loading field 's' as type str (imputed)\n",
      "  Loading field 'GT' as type str (imputed)\n",
      "  Loading field 'DS' as type float64 (imputed)\n",
      "2023-12-06 02:33:10.222 Hail: INFO: wrote table with 314 rows in 1 partition to /tmp/persist_tableKs5XGoUgvE\n",
      "2023-12-06 02:33:10.404 Hail: INFO: Reading table to impute column types\n",
      "2023-12-06 02:33:10.594 Hail: INFO: Finished type imputation\n",
      "  Loading field 'chr_name' as type int32 (imputed)\n",
      "  Loading field 'chr_position' as type int32 (imputed)\n",
      "  Loading field 'effect_allele' as type str (imputed)\n",
      "  Loading field 'reference_allele' as type str (imputed)\n",
      "  Loading field 'effect_weight' as type float64 (imputed)\n",
      "  Loading field 'allelefrequency_effect' as type float64 (imputed)\n",
      "2023-12-06 02:33:16.254 Hail: INFO: Ordering unsorted dataset with network shuffle\n",
      "2023-12-06 02:33:16.334 Hail: INFO: Ordering unsorted dataset with network shuffle\n",
      "[Stage 890:======================================>                  (2 + 1) / 3]\r"
     ]
    },
    {
     "name": "stdout",
     "output_type": "stream",
     "text": [
      "TEST_NA18986_TEST_NA18986_x_TEST_NA18971_TEST_NA18971.txt complete, number of completed is 81\n"
     ]
    },
    {
     "name": "stderr",
     "output_type": "stream",
     "text": [
      "2023-12-06 02:33:26.411 Hail: INFO: wrote table with 1714055 rows in 1 partition to /tmp/persist_tableYPdExVRgiA\n",
      "2023-12-06 02:33:26.616 Hail: INFO: Reading table to impute column types\n",
      "2023-12-06 02:33:31.306 Hail: INFO: Finished type imputation        (1 + 2) / 3]\n",
      "  Loading field 'locus' as type str (imputed)\n",
      "  Loading field 'alleles' as type str (imputed)\n",
      "  Loading field 'rsid' as type str (imputed)\n",
      "  Loading field 'variantID' as type str (imputed)\n",
      "  Loading field 's' as type str (imputed)\n",
      "  Loading field 'GT' as type str (imputed)\n",
      "  Loading field 'DS' as type float64 (imputed)\n",
      "2023-12-06 02:33:31.561 Hail: INFO: wrote table with 314 rows in 1 partition to /tmp/persist_table2wMEJtVhqH\n",
      "2023-12-06 02:33:31.759 Hail: INFO: Reading table to impute column types\n",
      "2023-12-06 02:33:31.946 Hail: INFO: Finished type imputation\n",
      "  Loading field 'chr_name' as type int32 (imputed)\n",
      "  Loading field 'chr_position' as type int32 (imputed)\n",
      "  Loading field 'effect_allele' as type str (imputed)\n",
      "  Loading field 'reference_allele' as type str (imputed)\n",
      "  Loading field 'effect_weight' as type float64 (imputed)\n",
      "  Loading field 'allelefrequency_effect' as type float64 (imputed)\n",
      "2023-12-06 02:33:37.533 Hail: INFO: Ordering unsorted dataset with network shuffle\n",
      "2023-12-06 02:33:37.620 Hail: INFO: Ordering unsorted dataset with network shuffle\n",
      "[Stage 901:===================>                                     (1 + 2) / 3]\r"
     ]
    },
    {
     "name": "stdout",
     "output_type": "stream",
     "text": [
      "TEST_NA18986_TEST_NA18986_x_TEST_NA19086_TEST_NA19086.txt complete, number of completed is 82\n"
     ]
    },
    {
     "name": "stderr",
     "output_type": "stream",
     "text": [
      "2023-12-06 02:33:46.991 Hail: INFO: wrote table with 1714440 rows in 1 partition to /tmp/persist_tableeO7sbFZy7L\n",
      "2023-12-06 02:33:47.180 Hail: INFO: Reading table to impute column types\n",
      "2023-12-06 02:33:51.765 Hail: INFO: Finished type imputation        (1 + 2) / 3]\n",
      "  Loading field 'locus' as type str (imputed)\n",
      "  Loading field 'alleles' as type str (imputed)\n",
      "  Loading field 'rsid' as type str (imputed)\n",
      "  Loading field 'variantID' as type str (imputed)\n",
      "  Loading field 's' as type str (imputed)\n",
      "  Loading field 'GT' as type str (imputed)\n",
      "  Loading field 'DS' as type float64 (imputed)\n",
      "2023-12-06 02:33:52.023 Hail: INFO: wrote table with 314 rows in 1 partition to /tmp/persist_tableMfh7R65fXM\n",
      "2023-12-06 02:33:52.265 Hail: INFO: Reading table to impute column types\n",
      "2023-12-06 02:33:52.447 Hail: INFO: Finished type imputation\n",
      "  Loading field 'chr_name' as type int32 (imputed)\n",
      "  Loading field 'chr_position' as type int32 (imputed)\n",
      "  Loading field 'effect_allele' as type str (imputed)\n",
      "  Loading field 'reference_allele' as type str (imputed)\n",
      "  Loading field 'effect_weight' as type float64 (imputed)\n",
      "  Loading field 'allelefrequency_effect' as type float64 (imputed)\n",
      "2023-12-06 02:33:58.032 Hail: INFO: Ordering unsorted dataset with network shuffle\n",
      "2023-12-06 02:33:58.115 Hail: INFO: Ordering unsorted dataset with network shuffle\n",
      "[Stage 912:>                                                        (0 + 3) / 3]\r"
     ]
    },
    {
     "name": "stdout",
     "output_type": "stream",
     "text": [
      "TEST_NA18986_TEST_NA18986_x_TEST_NA18975_TEST_NA18975.txt complete, number of completed is 83\n"
     ]
    },
    {
     "name": "stderr",
     "output_type": "stream",
     "text": [
      "2023-12-06 02:34:07.987 Hail: INFO: wrote table with 1713915 rows in 1 partition to /tmp/persist_tableZJSIgT7vYd\n",
      "2023-12-06 02:34:08.173 Hail: INFO: Reading table to impute column types\n",
      "2023-12-06 02:34:13.071 Hail: INFO: Finished type imputation        (1 + 2) / 3]\n",
      "  Loading field 'locus' as type str (imputed)\n",
      "  Loading field 'alleles' as type str (imputed)\n",
      "  Loading field 'rsid' as type str (imputed)\n",
      "  Loading field 'variantID' as type str (imputed)\n",
      "  Loading field 's' as type str (imputed)\n",
      "  Loading field 'GT' as type str (imputed)\n",
      "  Loading field 'DS' as type float64 (imputed)\n",
      "2023-12-06 02:34:13.338 Hail: INFO: wrote table with 314 rows in 1 partition to /tmp/persist_tablecSVM4ZMmtH\n",
      "2023-12-06 02:34:13.517 Hail: INFO: Reading table to impute column types\n",
      "2023-12-06 02:34:13.707 Hail: INFO: Finished type imputation\n",
      "  Loading field 'chr_name' as type int32 (imputed)\n",
      "  Loading field 'chr_position' as type int32 (imputed)\n",
      "  Loading field 'effect_allele' as type str (imputed)\n",
      "  Loading field 'reference_allele' as type str (imputed)\n",
      "  Loading field 'effect_weight' as type float64 (imputed)\n",
      "  Loading field 'allelefrequency_effect' as type float64 (imputed)\n",
      "2023-12-06 02:34:20.254 Hail: INFO: Ordering unsorted dataset with network shuffle\n",
      "2023-12-06 02:34:20.343 Hail: INFO: Ordering unsorted dataset with network shuffle\n",
      "[Stage 923:>                                                        (0 + 3) / 3]\r"
     ]
    },
    {
     "name": "stdout",
     "output_type": "stream",
     "text": [
      "TEST_NA18986_TEST_NA18986_x_TEST_NA18957_TEST_NA18957.txt complete, number of completed is 84\n"
     ]
    },
    {
     "name": "stderr",
     "output_type": "stream",
     "text": [
      "2023-12-06 02:34:30.846 Hail: INFO: wrote table with 1714369 rows in 1 partition to /tmp/persist_tableAdWFbo660g\n",
      "2023-12-06 02:34:31.059 Hail: INFO: Reading table to impute column types\n",
      "2023-12-06 02:34:35.672 Hail: INFO: Finished type imputation        (1 + 2) / 3]\n",
      "  Loading field 'locus' as type str (imputed)\n",
      "  Loading field 'alleles' as type str (imputed)\n",
      "  Loading field 'rsid' as type str (imputed)\n",
      "  Loading field 'variantID' as type str (imputed)\n",
      "  Loading field 's' as type str (imputed)\n",
      "  Loading field 'GT' as type str (imputed)\n",
      "  Loading field 'DS' as type float64 (imputed)\n",
      "2023-12-06 02:34:35.924 Hail: INFO: wrote table with 314 rows in 1 partition to /tmp/persist_tablew4f4Q8RxQt\n",
      "2023-12-06 02:34:36.101 Hail: INFO: Reading table to impute column types\n",
      "2023-12-06 02:34:36.282 Hail: INFO: Finished type imputation\n",
      "  Loading field 'chr_name' as type int32 (imputed)\n",
      "  Loading field 'chr_position' as type int32 (imputed)\n",
      "  Loading field 'effect_allele' as type str (imputed)\n",
      "  Loading field 'reference_allele' as type str (imputed)\n",
      "  Loading field 'effect_weight' as type float64 (imputed)\n",
      "  Loading field 'allelefrequency_effect' as type float64 (imputed)\n",
      "2023-12-06 02:34:41.875 Hail: INFO: Ordering unsorted dataset with network shuffle\n",
      "2023-12-06 02:34:41.957 Hail: INFO: Ordering unsorted dataset with network shuffle\n",
      "[Stage 934:>                                                        (0 + 3) / 3]\r"
     ]
    },
    {
     "name": "stdout",
     "output_type": "stream",
     "text": [
      "TEST_NA18986_TEST_NA18986_x_TEST_NA18979_TEST_NA18979.txt complete, number of completed is 85\n"
     ]
    },
    {
     "name": "stderr",
     "output_type": "stream",
     "text": [
      "2023-12-06 02:34:51.570 Hail: INFO: wrote table with 1711049 rows in 1 partition to /tmp/persist_tableZsKjwGmVlI\n",
      "2023-12-06 02:34:51.784 Hail: INFO: Reading table to impute column types\n",
      "2023-12-06 02:34:56.533 Hail: INFO: Finished type imputation        (1 + 2) / 3]\n",
      "  Loading field 'locus' as type str (imputed)\n",
      "  Loading field 'alleles' as type str (imputed)\n",
      "  Loading field 'rsid' as type str (imputed)\n",
      "  Loading field 'variantID' as type str (imputed)\n",
      "  Loading field 's' as type str (imputed)\n",
      "  Loading field 'GT' as type str (imputed)\n",
      "  Loading field 'DS' as type float64 (imputed)\n",
      "2023-12-06 02:34:56.818 Hail: INFO: wrote table with 314 rows in 1 partition to /tmp/persist_tableKVc5FvuUWz\n",
      "2023-12-06 02:34:56.997 Hail: INFO: Reading table to impute column types\n",
      "2023-12-06 02:34:57.194 Hail: INFO: Finished type imputation\n",
      "  Loading field 'chr_name' as type int32 (imputed)\n",
      "  Loading field 'chr_position' as type int32 (imputed)\n",
      "  Loading field 'effect_allele' as type str (imputed)\n",
      "  Loading field 'reference_allele' as type str (imputed)\n",
      "  Loading field 'effect_weight' as type float64 (imputed)\n",
      "  Loading field 'allelefrequency_effect' as type float64 (imputed)\n",
      "2023-12-06 02:35:03.106 Hail: INFO: Ordering unsorted dataset with network shuffle\n",
      "2023-12-06 02:35:03.187 Hail: INFO: Ordering unsorted dataset with network shuffle\n",
      "[Stage 945:>                                                        (0 + 3) / 3]\r"
     ]
    },
    {
     "name": "stdout",
     "output_type": "stream",
     "text": [
      "TEST_NA18986_TEST_NA18986_x_TEST_NA18953_TEST_NA18953.txt complete, number of completed is 86\n"
     ]
    },
    {
     "name": "stderr",
     "output_type": "stream",
     "text": [
      "2023-12-06 02:35:12.823 Hail: INFO: wrote table with 1713106 rows in 1 partition to /tmp/persist_tablejEtlaFtjgb\n",
      "2023-12-06 02:35:13.011 Hail: INFO: Reading table to impute column types\n",
      "2023-12-06 02:35:17.653 Hail: INFO: Finished type imputation        (1 + 2) / 3]\n",
      "  Loading field 'locus' as type str (imputed)\n",
      "  Loading field 'alleles' as type str (imputed)\n",
      "  Loading field 'rsid' as type str (imputed)\n",
      "  Loading field 'variantID' as type str (imputed)\n",
      "  Loading field 's' as type str (imputed)\n",
      "  Loading field 'GT' as type str (imputed)\n",
      "  Loading field 'DS' as type float64 (imputed)\n",
      "2023-12-06 02:35:17.910 Hail: INFO: wrote table with 314 rows in 1 partition to /tmp/persist_tableruUFO9ntrw\n",
      "2023-12-06 02:35:18.090 Hail: INFO: Reading table to impute column types\n",
      "2023-12-06 02:35:18.274 Hail: INFO: Finished type imputation\n",
      "  Loading field 'chr_name' as type int32 (imputed)\n",
      "  Loading field 'chr_position' as type int32 (imputed)\n",
      "  Loading field 'effect_allele' as type str (imputed)\n",
      "  Loading field 'reference_allele' as type str (imputed)\n",
      "  Loading field 'effect_weight' as type float64 (imputed)\n",
      "  Loading field 'allelefrequency_effect' as type float64 (imputed)\n",
      "2023-12-06 02:35:23.907 Hail: INFO: Ordering unsorted dataset with network shuffle\n",
      "2023-12-06 02:35:23.995 Hail: INFO: Ordering unsorted dataset with network shuffle\n",
      "[Stage 956:===================>                                     (1 + 2) / 3]\r"
     ]
    },
    {
     "name": "stdout",
     "output_type": "stream",
     "text": [
      "TEST_NA18986_TEST_NA18986_x_TEST_NA18943_TEST_NA18943.txt complete, number of completed is 87\n"
     ]
    },
    {
     "name": "stderr",
     "output_type": "stream",
     "text": [
      "2023-12-06 02:35:33.788 Hail: INFO: wrote table with 1708866 rows in 1 partition to /tmp/persist_tableDc9OpQJvt9\n",
      "2023-12-06 02:35:33.978 Hail: INFO: Reading table to impute column types\n",
      "2023-12-06 02:35:38.569 Hail: INFO: Finished type imputation        (1 + 2) / 3]\n",
      "  Loading field 'locus' as type str (imputed)\n",
      "  Loading field 'alleles' as type str (imputed)\n",
      "  Loading field 'rsid' as type str (imputed)\n",
      "  Loading field 'variantID' as type str (imputed)\n",
      "  Loading field 's' as type str (imputed)\n",
      "  Loading field 'GT' as type str (imputed)\n",
      "  Loading field 'DS' as type float64 (imputed)\n",
      "2023-12-06 02:35:38.817 Hail: INFO: wrote table with 314 rows in 1 partition to /tmp/persist_tableWIRRsNOyQW\n",
      "2023-12-06 02:35:38.991 Hail: INFO: Reading table to impute column types\n",
      "2023-12-06 02:35:39.181 Hail: INFO: Finished type imputation\n",
      "  Loading field 'chr_name' as type int32 (imputed)\n",
      "  Loading field 'chr_position' as type int32 (imputed)\n",
      "  Loading field 'effect_allele' as type str (imputed)\n",
      "  Loading field 'reference_allele' as type str (imputed)\n",
      "  Loading field 'effect_weight' as type float64 (imputed)\n",
      "  Loading field 'allelefrequency_effect' as type float64 (imputed)\n",
      "2023-12-06 02:35:44.710 Hail: INFO: Ordering unsorted dataset with network shuffle\n",
      "2023-12-06 02:35:44.789 Hail: INFO: Ordering unsorted dataset with network shuffle\n",
      "[Stage 967:======================================>                  (2 + 1) / 3]\r"
     ]
    },
    {
     "name": "stdout",
     "output_type": "stream",
     "text": [
      "TEST_NA18986_TEST_NA18986_x_TEST_NA18969_TEST_NA18969.txt complete, number of completed is 88\n"
     ]
    },
    {
     "name": "stderr",
     "output_type": "stream",
     "text": [
      "2023-12-06 02:35:55.004 Hail: INFO: wrote table with 1715704 rows in 1 partition to /tmp/persist_tablek0oCm6Mgbi\n",
      "2023-12-06 02:35:55.218 Hail: INFO: Reading table to impute column types\n",
      "2023-12-06 02:35:59.772 Hail: INFO: Finished type imputation        (1 + 2) / 3]\n",
      "  Loading field 'locus' as type str (imputed)\n",
      "  Loading field 'alleles' as type str (imputed)\n",
      "  Loading field 'rsid' as type str (imputed)\n",
      "  Loading field 'variantID' as type str (imputed)\n",
      "  Loading field 's' as type str (imputed)\n",
      "  Loading field 'GT' as type str (imputed)\n",
      "  Loading field 'DS' as type float64 (imputed)\n",
      "2023-12-06 02:36:00.041 Hail: INFO: wrote table with 314 rows in 1 partition to /tmp/persist_tableeexF0f5fsL\n",
      "2023-12-06 02:36:00.253 Hail: INFO: Reading table to impute column types\n",
      "2023-12-06 02:36:00.479 Hail: INFO: Finished type imputation\n",
      "  Loading field 'chr_name' as type int32 (imputed)\n",
      "  Loading field 'chr_position' as type int32 (imputed)\n",
      "  Loading field 'effect_allele' as type str (imputed)\n",
      "  Loading field 'reference_allele' as type str (imputed)\n",
      "  Loading field 'effect_weight' as type float64 (imputed)\n",
      "  Loading field 'allelefrequency_effect' as type float64 (imputed)\n",
      "2023-12-06 02:36:06.737 Hail: INFO: Ordering unsorted dataset with network shuffle\n",
      "2023-12-06 02:36:06.823 Hail: INFO: Ordering unsorted dataset with network shuffle\n",
      "[Stage 978:===================>                                     (1 + 2) / 3]\r"
     ]
    },
    {
     "name": "stdout",
     "output_type": "stream",
     "text": [
      "TEST_NA18986_TEST_NA18986_x_TEST_NA18947_TEST_NA18947.txt complete, number of completed is 89\n"
     ]
    },
    {
     "name": "stderr",
     "output_type": "stream",
     "text": [
      "2023-12-06 02:36:18.601 Hail: INFO: wrote table with 1711874 rows in 1 partition to /tmp/persist_tableTezhJ7gzYz\n",
      "2023-12-06 02:36:18.823 Hail: INFO: Reading table to impute column types\n",
      "2023-12-06 02:36:23.923 Hail: INFO: Finished type imputation        (1 + 2) / 3]\n",
      "  Loading field 'locus' as type str (imputed)\n",
      "  Loading field 'alleles' as type str (imputed)\n",
      "  Loading field 'rsid' as type str (imputed)\n",
      "  Loading field 'variantID' as type str (imputed)\n",
      "  Loading field 's' as type str (imputed)\n",
      "  Loading field 'GT' as type str (imputed)\n",
      "  Loading field 'DS' as type float64 (imputed)\n",
      "2023-12-06 02:36:24.195 Hail: INFO: wrote table with 314 rows in 1 partition to /tmp/persist_tableWfko1r8adt\n",
      "2023-12-06 02:36:24.419 Hail: INFO: Reading table to impute column types\n",
      "2023-12-06 02:36:24.603 Hail: INFO: Finished type imputation\n",
      "  Loading field 'chr_name' as type int32 (imputed)\n",
      "  Loading field 'chr_position' as type int32 (imputed)\n",
      "  Loading field 'effect_allele' as type str (imputed)\n",
      "  Loading field 'reference_allele' as type str (imputed)\n",
      "  Loading field 'effect_weight' as type float64 (imputed)\n",
      "  Loading field 'allelefrequency_effect' as type float64 (imputed)\n",
      "2023-12-06 02:36:30.698 Hail: INFO: Ordering unsorted dataset with network shuffle\n",
      "2023-12-06 02:36:30.784 Hail: INFO: Ordering unsorted dataset with network shuffle\n",
      "[Stage 989:===================>                                     (1 + 2) / 3]\r"
     ]
    },
    {
     "name": "stdout",
     "output_type": "stream",
     "text": [
      "TEST_NA18986_TEST_NA18986_x_TEST_NA18965_TEST_NA18965.txt complete, number of completed is 90\n"
     ]
    },
    {
     "name": "stderr",
     "output_type": "stream",
     "text": [
      "2023-12-06 02:36:40.188 Hail: INFO: wrote table with 1711419 rows in 1 partition to /tmp/persist_tableExJRqYxufj\n",
      "2023-12-06 02:36:40.381 Hail: INFO: Reading table to impute column types\n",
      "2023-12-06 02:36:45.018 Hail: INFO: Finished type imputation        (2 + 1) / 3]\n",
      "  Loading field 'locus' as type str (imputed)\n",
      "  Loading field 'alleles' as type str (imputed)\n",
      "  Loading field 'rsid' as type str (imputed)\n",
      "  Loading field 'variantID' as type str (imputed)\n",
      "  Loading field 's' as type str (imputed)\n",
      "  Loading field 'GT' as type str (imputed)\n",
      "  Loading field 'DS' as type float64 (imputed)\n",
      "2023-12-06 02:36:45.273 Hail: INFO: wrote table with 314 rows in 1 partition to /tmp/persist_tablejYnX0m7oAb\n",
      "2023-12-06 02:36:45.470 Hail: INFO: Reading table to impute column types\n",
      "2023-12-06 02:36:45.654 Hail: INFO: Finished type imputation\n",
      "  Loading field 'chr_name' as type int32 (imputed)\n",
      "  Loading field 'chr_position' as type int32 (imputed)\n",
      "  Loading field 'effect_allele' as type str (imputed)\n",
      "  Loading field 'reference_allele' as type str (imputed)\n",
      "  Loading field 'effect_weight' as type float64 (imputed)\n",
      "  Loading field 'allelefrequency_effect' as type float64 (imputed)\n",
      "2023-12-06 02:36:51.242 Hail: INFO: Ordering unsorted dataset with network shuffle\n",
      "2023-12-06 02:36:51.381 Hail: INFO: Ordering unsorted dataset with network shuffle\n",
      "[Stage 1000:>                                                       (0 + 3) / 3]\r"
     ]
    },
    {
     "name": "stdout",
     "output_type": "stream",
     "text": [
      "TEST_NA18986_TEST_NA18986_x_TEST_NA19003_TEST_NA19003.txt complete, number of completed is 91\n"
     ]
    },
    {
     "name": "stderr",
     "output_type": "stream",
     "text": [
      "2023-12-06 02:37:01.095 Hail: INFO: wrote table with 1710752 rows in 1 partition to /tmp/persist_tableW9MPqXAWhy\n",
      "2023-12-06 02:37:01.281 Hail: INFO: Reading table to impute column types\n",
      "2023-12-06 02:37:05.853 Hail: INFO: Finished type imputation        (1 + 2) / 3]\n",
      "  Loading field 'locus' as type str (imputed)\n",
      "  Loading field 'alleles' as type str (imputed)\n",
      "  Loading field 'rsid' as type str (imputed)\n",
      "  Loading field 'variantID' as type str (imputed)\n",
      "  Loading field 's' as type str (imputed)\n",
      "  Loading field 'GT' as type str (imputed)\n",
      "  Loading field 'DS' as type float64 (imputed)\n",
      "2023-12-06 02:37:06.104 Hail: INFO: wrote table with 314 rows in 1 partition to /tmp/persist_table8SlsIUvmd3\n",
      "2023-12-06 02:37:06.280 Hail: INFO: Reading table to impute column types\n",
      "2023-12-06 02:37:06.477 Hail: INFO: Finished type imputation\n",
      "  Loading field 'chr_name' as type int32 (imputed)\n",
      "  Loading field 'chr_position' as type int32 (imputed)\n",
      "  Loading field 'effect_allele' as type str (imputed)\n",
      "  Loading field 'reference_allele' as type str (imputed)\n",
      "  Loading field 'effect_weight' as type float64 (imputed)\n",
      "  Loading field 'allelefrequency_effect' as type float64 (imputed)\n",
      "2023-12-06 02:37:12.205 Hail: INFO: Ordering unsorted dataset with network shuffle\n",
      "2023-12-06 02:37:12.296 Hail: INFO: Ordering unsorted dataset with network shuffle\n",
      "[Stage 1011:>                                                       (0 + 3) / 3]\r"
     ]
    },
    {
     "name": "stdout",
     "output_type": "stream",
     "text": [
      "TEST_NA18986_TEST_NA18986_x_TEST_NA19007_TEST_NA19007.txt complete, number of completed is 92\n"
     ]
    },
    {
     "name": "stderr",
     "output_type": "stream",
     "text": [
      "2023-12-06 02:37:21.690 Hail: INFO: wrote table with 1713508 rows in 1 partition to /tmp/persist_tableXoCXlUKiG2\n",
      "2023-12-06 02:37:21.877 Hail: INFO: Reading table to impute column types\n",
      "2023-12-06 02:37:26.470 Hail: INFO: Finished type imputation        (1 + 2) / 3]\n",
      "  Loading field 'locus' as type str (imputed)\n",
      "  Loading field 'alleles' as type str (imputed)\n",
      "  Loading field 'rsid' as type str (imputed)\n",
      "  Loading field 'variantID' as type str (imputed)\n",
      "  Loading field 's' as type str (imputed)\n",
      "  Loading field 'GT' as type str (imputed)\n",
      "  Loading field 'DS' as type float64 (imputed)\n",
      "2023-12-06 02:37:26.741 Hail: INFO: wrote table with 314 rows in 1 partition to /tmp/persist_tableAeEO805mJd\n",
      "2023-12-06 02:37:26.933 Hail: INFO: Reading table to impute column types\n",
      "2023-12-06 02:37:27.232 Hail: INFO: Finished type imputation\n",
      "  Loading field 'chr_name' as type int32 (imputed)\n",
      "  Loading field 'chr_position' as type int32 (imputed)\n",
      "  Loading field 'effect_allele' as type str (imputed)\n",
      "  Loading field 'reference_allele' as type str (imputed)\n",
      "  Loading field 'effect_weight' as type float64 (imputed)\n",
      "  Loading field 'allelefrequency_effect' as type float64 (imputed)\n",
      "2023-12-06 02:37:33.593 Hail: INFO: Ordering unsorted dataset with network shuffle\n",
      "2023-12-06 02:37:33.679 Hail: INFO: Ordering unsorted dataset with network shuffle\n",
      "[Stage 1022:>                                                       (0 + 3) / 3]\r"
     ]
    },
    {
     "name": "stdout",
     "output_type": "stream",
     "text": [
      "TEST_NA18986_TEST_NA18986_x_TEST_NA18961_TEST_NA18961.txt complete, number of completed is 93\n"
     ]
    },
    {
     "name": "stderr",
     "output_type": "stream",
     "text": [
      "2023-12-06 02:37:44.306 Hail: INFO: wrote table with 1710618 rows in 1 partition to /tmp/persist_tableZFsG7KZYLY\n",
      "2023-12-06 02:37:44.509 Hail: INFO: Reading table to impute column types\n",
      "2023-12-06 02:37:49.058 Hail: INFO: Finished type imputation        (1 + 2) / 3]\n",
      "  Loading field 'locus' as type str (imputed)\n",
      "  Loading field 'alleles' as type str (imputed)\n",
      "  Loading field 'rsid' as type str (imputed)\n",
      "  Loading field 'variantID' as type str (imputed)\n",
      "  Loading field 's' as type str (imputed)\n",
      "  Loading field 'GT' as type str (imputed)\n",
      "  Loading field 'DS' as type float64 (imputed)\n",
      "2023-12-06 02:37:49.318 Hail: INFO: wrote table with 314 rows in 1 partition to /tmp/persist_tablenbVWXtzEgr\n",
      "2023-12-06 02:37:49.494 Hail: INFO: Reading table to impute column types\n",
      "2023-12-06 02:37:49.676 Hail: INFO: Finished type imputation\n",
      "  Loading field 'chr_name' as type int32 (imputed)\n",
      "  Loading field 'chr_position' as type int32 (imputed)\n",
      "  Loading field 'effect_allele' as type str (imputed)\n",
      "  Loading field 'reference_allele' as type str (imputed)\n",
      "  Loading field 'effect_weight' as type float64 (imputed)\n",
      "  Loading field 'allelefrequency_effect' as type float64 (imputed)\n",
      "2023-12-06 02:37:55.224 Hail: INFO: Ordering unsorted dataset with network shuffle\n",
      "2023-12-06 02:37:55.305 Hail: INFO: Ordering unsorted dataset with network shuffle\n",
      "[Stage 1033:=====================================>                  (2 + 1) / 3]\r"
     ]
    },
    {
     "name": "stdout",
     "output_type": "stream",
     "text": [
      "TEST_NA18986_TEST_NA18986_x_TEST_NA19059_TEST_NA19059.txt complete, number of completed is 94\n"
     ]
    },
    {
     "name": "stderr",
     "output_type": "stream",
     "text": [
      "2023-12-06 02:38:04.874 Hail: INFO: wrote table with 1713749 rows in 1 partition to /tmp/persist_tableefzwMaY9uG\n",
      "2023-12-06 02:38:05.078 Hail: INFO: Reading table to impute column types\n",
      "2023-12-06 02:38:09.658 Hail: INFO: Finished type imputation        (2 + 1) / 3]\n",
      "  Loading field 'locus' as type str (imputed)\n",
      "  Loading field 'alleles' as type str (imputed)\n",
      "  Loading field 'rsid' as type str (imputed)\n",
      "  Loading field 'variantID' as type str (imputed)\n",
      "  Loading field 's' as type str (imputed)\n",
      "  Loading field 'GT' as type str (imputed)\n",
      "  Loading field 'DS' as type float64 (imputed)\n",
      "2023-12-06 02:38:09.910 Hail: INFO: wrote table with 314 rows in 1 partition to /tmp/persist_tablepYWjLOU9zu\n",
      "2023-12-06 02:38:10.109 Hail: INFO: Reading table to impute column types\n",
      "2023-12-06 02:38:10.290 Hail: INFO: Finished type imputation\n",
      "  Loading field 'chr_name' as type int32 (imputed)\n",
      "  Loading field 'chr_position' as type int32 (imputed)\n",
      "  Loading field 'effect_allele' as type str (imputed)\n",
      "  Loading field 'reference_allele' as type str (imputed)\n",
      "  Loading field 'effect_weight' as type float64 (imputed)\n",
      "  Loading field 'allelefrequency_effect' as type float64 (imputed)\n",
      "2023-12-06 02:38:16.399 Hail: INFO: Ordering unsorted dataset with network shuffle\n",
      "2023-12-06 02:38:16.511 Hail: INFO: Ordering unsorted dataset with network shuffle\n",
      "[Stage 1044:==================>                                     (1 + 2) / 3]\r"
     ]
    },
    {
     "name": "stdout",
     "output_type": "stream",
     "text": [
      "TEST_NA18986_TEST_NA18986_x_TEST_NA19077_TEST_NA19077.txt complete, number of completed is 95\n"
     ]
    },
    {
     "name": "stderr",
     "output_type": "stream",
     "text": [
      "2023-12-06 02:38:29.111 Hail: INFO: wrote table with 1710026 rows in 1 partition to /tmp/persist_table4eCKpwdjNg\n",
      "2023-12-06 02:38:29.305 Hail: INFO: Reading table to impute column types\n",
      "2023-12-06 02:38:34.043 Hail: INFO: Finished type imputation        (1 + 2) / 3]\n",
      "  Loading field 'locus' as type str (imputed)\n",
      "  Loading field 'alleles' as type str (imputed)\n",
      "  Loading field 'rsid' as type str (imputed)\n",
      "  Loading field 'variantID' as type str (imputed)\n",
      "  Loading field 's' as type str (imputed)\n",
      "  Loading field 'GT' as type str (imputed)\n",
      "  Loading field 'DS' as type float64 (imputed)\n",
      "2023-12-06 02:38:34.304 Hail: INFO: wrote table with 314 rows in 1 partition to /tmp/persist_table5uYJFeIX3C\n",
      "2023-12-06 02:38:34.507 Hail: INFO: Reading table to impute column types\n",
      "2023-12-06 02:38:34.686 Hail: INFO: Finished type imputation\n",
      "  Loading field 'chr_name' as type int32 (imputed)\n",
      "  Loading field 'chr_position' as type int32 (imputed)\n",
      "  Loading field 'effect_allele' as type str (imputed)\n",
      "  Loading field 'reference_allele' as type str (imputed)\n",
      "  Loading field 'effect_weight' as type float64 (imputed)\n",
      "  Loading field 'allelefrequency_effect' as type float64 (imputed)\n",
      "2023-12-06 02:38:40.193 Hail: INFO: Ordering unsorted dataset with network shuffle\n",
      "2023-12-06 02:38:40.275 Hail: INFO: Ordering unsorted dataset with network shuffle\n",
      "[Stage 1055:>                                                       (0 + 3) / 3]\r"
     ]
    },
    {
     "name": "stdout",
     "output_type": "stream",
     "text": [
      "TEST_NA18986_TEST_NA18986_x_TEST_NA18984_TEST_NA18984.txt complete, number of completed is 96\n"
     ]
    },
    {
     "name": "stderr",
     "output_type": "stream",
     "text": [
      "2023-12-06 02:38:49.767 Hail: INFO: wrote table with 1714366 rows in 1 partition to /tmp/persist_tableSY2tS03uUZ\n",
      "2023-12-06 02:38:49.981 Hail: INFO: Reading table to impute column types\n",
      "2023-12-06 02:38:54.794 Hail: INFO: Finished type imputation        (1 + 2) / 3]\n",
      "  Loading field 'locus' as type str (imputed)\n",
      "  Loading field 'alleles' as type str (imputed)\n",
      "  Loading field 'rsid' as type str (imputed)\n",
      "  Loading field 'variantID' as type str (imputed)\n",
      "  Loading field 's' as type str (imputed)\n",
      "  Loading field 'GT' as type str (imputed)\n",
      "  Loading field 'DS' as type float64 (imputed)\n",
      "2023-12-06 02:38:55.058 Hail: INFO: wrote table with 314 rows in 1 partition to /tmp/persist_tableB7wtw2V8YA\n",
      "2023-12-06 02:38:55.236 Hail: INFO: Reading table to impute column types\n",
      "2023-12-06 02:38:55.433 Hail: INFO: Finished type imputation\n",
      "  Loading field 'chr_name' as type int32 (imputed)\n",
      "  Loading field 'chr_position' as type int32 (imputed)\n",
      "  Loading field 'effect_allele' as type str (imputed)\n",
      "  Loading field 'reference_allele' as type str (imputed)\n",
      "  Loading field 'effect_weight' as type float64 (imputed)\n",
      "  Loading field 'allelefrequency_effect' as type float64 (imputed)\n",
      "2023-12-06 02:39:01.022 Hail: INFO: Ordering unsorted dataset with network shuffle\n",
      "2023-12-06 02:39:01.105 Hail: INFO: Ordering unsorted dataset with network shuffle\n",
      "[Stage 1066:>                                                       (0 + 3) / 3]\r"
     ]
    },
    {
     "name": "stdout",
     "output_type": "stream",
     "text": [
      "TEST_NA18986_TEST_NA18986_x_TEST_NA18980_TEST_NA18980.txt complete, number of completed is 97\n"
     ]
    },
    {
     "name": "stderr",
     "output_type": "stream",
     "text": [
      "2023-12-06 02:39:10.576 Hail: INFO: wrote table with 1714169 rows in 1 partition to /tmp/persist_tableABeJv6I78I\n",
      "2023-12-06 02:39:10.789 Hail: INFO: Reading table to impute column types\n",
      "2023-12-06 02:39:15.372 Hail: INFO: Finished type imputation        (1 + 2) / 3]\n",
      "  Loading field 'locus' as type str (imputed)\n",
      "  Loading field 'alleles' as type str (imputed)\n",
      "  Loading field 'rsid' as type str (imputed)\n",
      "  Loading field 'variantID' as type str (imputed)\n",
      "  Loading field 's' as type str (imputed)\n",
      "  Loading field 'GT' as type str (imputed)\n",
      "  Loading field 'DS' as type float64 (imputed)\n",
      "2023-12-06 02:39:15.617 Hail: INFO: wrote table with 314 rows in 1 partition to /tmp/persist_table2LLCHs1tsi\n",
      "2023-12-06 02:39:15.795 Hail: INFO: Reading table to impute column types\n",
      "2023-12-06 02:39:15.982 Hail: INFO: Finished type imputation\n",
      "  Loading field 'chr_name' as type int32 (imputed)\n",
      "  Loading field 'chr_position' as type int32 (imputed)\n",
      "  Loading field 'effect_allele' as type str (imputed)\n",
      "  Loading field 'reference_allele' as type str (imputed)\n",
      "  Loading field 'effect_weight' as type float64 (imputed)\n",
      "  Loading field 'allelefrequency_effect' as type float64 (imputed)\n",
      "2023-12-06 02:39:21.588 Hail: INFO: Ordering unsorted dataset with network shuffle\n",
      "2023-12-06 02:39:21.676 Hail: INFO: Ordering unsorted dataset with network shuffle\n",
      "[Stage 1077:==================>                                     (1 + 2) / 3]\r"
     ]
    },
    {
     "name": "stdout",
     "output_type": "stream",
     "text": [
      "TEST_NA18986_TEST_NA18986_x_TEST_NA19055_TEST_NA19055.txt complete, number of completed is 98\n"
     ]
    },
    {
     "name": "stderr",
     "output_type": "stream",
     "text": [
      "2023-12-06 02:39:31.403 Hail: INFO: wrote table with 1717344 rows in 1 partition to /tmp/persist_tableAZnfkvhgbY\n",
      "2023-12-06 02:39:31.600 Hail: INFO: Reading table to impute column types\n",
      "2023-12-06 02:39:36.218 Hail: INFO: Finished type imputation        (1 + 2) / 3]\n",
      "  Loading field 'locus' as type str (imputed)\n",
      "  Loading field 'alleles' as type str (imputed)\n",
      "  Loading field 'rsid' as type str (imputed)\n",
      "  Loading field 'variantID' as type str (imputed)\n",
      "  Loading field 's' as type str (imputed)\n",
      "  Loading field 'GT' as type str (imputed)\n",
      "  Loading field 'DS' as type float64 (imputed)\n",
      "2023-12-06 02:39:36.466 Hail: INFO: wrote table with 314 rows in 1 partition to /tmp/persist_tablevPHxWWkk1C\n",
      "2023-12-06 02:39:36.649 Hail: INFO: Reading table to impute column types\n",
      "2023-12-06 02:39:36.841 Hail: INFO: Finished type imputation\n",
      "  Loading field 'chr_name' as type int32 (imputed)\n",
      "  Loading field 'chr_position' as type int32 (imputed)\n",
      "  Loading field 'effect_allele' as type str (imputed)\n",
      "  Loading field 'reference_allele' as type str (imputed)\n",
      "  Loading field 'effect_weight' as type float64 (imputed)\n",
      "  Loading field 'allelefrequency_effect' as type float64 (imputed)\n",
      "2023-12-06 02:39:43.266 Hail: INFO: Ordering unsorted dataset with network shuffle\n",
      "2023-12-06 02:39:43.419 Hail: INFO: Ordering unsorted dataset with network shuffle\n",
      "[Stage 1088:==================>                                     (1 + 2) / 3]\r"
     ]
    },
    {
     "name": "stdout",
     "output_type": "stream",
     "text": [
      "TEST_NA18986_TEST_NA18986_x_TEST_NA18988_TEST_NA18988.txt complete, number of completed is 99\n"
     ]
    },
    {
     "name": "stderr",
     "output_type": "stream",
     "text": [
      "2023-12-06 02:39:54.799 Hail: INFO: wrote table with 1718752 rows in 1 partition to /tmp/persist_tablevpQBC7wYpq\n",
      "2023-12-06 02:39:55.024 Hail: INFO: Reading table to impute column types\n",
      "2023-12-06 02:39:59.633 Hail: INFO: Finished type imputation        (1 + 2) / 3]\n",
      "  Loading field 'locus' as type str (imputed)\n",
      "  Loading field 'alleles' as type str (imputed)\n",
      "  Loading field 'rsid' as type str (imputed)\n",
      "  Loading field 'variantID' as type str (imputed)\n",
      "  Loading field 's' as type str (imputed)\n",
      "  Loading field 'GT' as type str (imputed)\n",
      "  Loading field 'DS' as type float64 (imputed)\n",
      "2023-12-06 02:39:59.892 Hail: INFO: wrote table with 314 rows in 1 partition to /tmp/persist_tableXsrSE9BiSo\n",
      "2023-12-06 02:40:00.077 Hail: INFO: Reading table to impute column types\n",
      "2023-12-06 02:40:00.283 Hail: INFO: Finished type imputation\n",
      "  Loading field 'chr_name' as type int32 (imputed)\n",
      "  Loading field 'chr_position' as type int32 (imputed)\n",
      "  Loading field 'effect_allele' as type str (imputed)\n",
      "  Loading field 'reference_allele' as type str (imputed)\n",
      "  Loading field 'effect_weight' as type float64 (imputed)\n",
      "  Loading field 'allelefrequency_effect' as type float64 (imputed)\n",
      "2023-12-06 02:40:06.557 Hail: INFO: Ordering unsorted dataset with network shuffle\n",
      "2023-12-06 02:40:06.643 Hail: INFO: Ordering unsorted dataset with network shuffle\n",
      "[Stage 1099:>                                                       (0 + 3) / 3]\r"
     ]
    },
    {
     "name": "stdout",
     "output_type": "stream",
     "text": [
      "TEST_NA18986_TEST_NA18986_x_TEST_NA18998_TEST_NA18998.txt complete, number of completed is 100\n"
     ]
    },
    {
     "name": "stderr",
     "output_type": "stream",
     "text": [
      "2023-12-06 02:40:17.455 Hail: INFO: wrote table with 1714030 rows in 1 partition to /tmp/persist_tableHszlWkegNy\n",
      "2023-12-06 02:40:17.650 Hail: INFO: Reading table to impute column types\n",
      "2023-12-06 02:40:22.547 Hail: INFO: Finished type imputation        (1 + 2) / 3]\n",
      "  Loading field 'locus' as type str (imputed)\n",
      "  Loading field 'alleles' as type str (imputed)\n",
      "  Loading field 'rsid' as type str (imputed)\n",
      "  Loading field 'variantID' as type str (imputed)\n",
      "  Loading field 's' as type str (imputed)\n",
      "  Loading field 'GT' as type str (imputed)\n",
      "  Loading field 'DS' as type float64 (imputed)\n",
      "2023-12-06 02:40:22.808 Hail: INFO: wrote table with 314 rows in 1 partition to /tmp/persist_tableEiFYOK61vj\n",
      "2023-12-06 02:40:22.989 Hail: INFO: Reading table to impute column types\n",
      "2023-12-06 02:40:23.208 Hail: INFO: Finished type imputation\n",
      "  Loading field 'chr_name' as type int32 (imputed)\n",
      "  Loading field 'chr_position' as type int32 (imputed)\n",
      "  Loading field 'effect_allele' as type str (imputed)\n",
      "  Loading field 'reference_allele' as type str (imputed)\n",
      "  Loading field 'effect_weight' as type float64 (imputed)\n",
      "  Loading field 'allelefrequency_effect' as type float64 (imputed)\n",
      "2023-12-06 02:40:28.848 Hail: INFO: Ordering unsorted dataset with network shuffle\n",
      "2023-12-06 02:40:28.935 Hail: INFO: Ordering unsorted dataset with network shuffle\n",
      "[Stage 1110:>                                                       (0 + 3) / 3]\r"
     ]
    },
    {
     "name": "stdout",
     "output_type": "stream",
     "text": [
      "TEST_NA18986_TEST_NA18986_x_TEST_NA18990_TEST_NA18990.txt complete, number of completed is 101\n"
     ]
    },
    {
     "name": "stderr",
     "output_type": "stream",
     "text": [
      "2023-12-06 02:40:38.650 Hail: INFO: wrote table with 1713839 rows in 1 partition to /tmp/persist_tablevMut9XqfMf\n",
      "2023-12-06 02:40:38.848 Hail: INFO: Reading table to impute column types\n",
      "2023-12-06 02:40:43.471 Hail: INFO: Finished type imputation        (1 + 2) / 3]\n",
      "  Loading field 'locus' as type str (imputed)\n",
      "  Loading field 'alleles' as type str (imputed)\n",
      "  Loading field 'rsid' as type str (imputed)\n",
      "  Loading field 'variantID' as type str (imputed)\n",
      "  Loading field 's' as type str (imputed)\n",
      "  Loading field 'GT' as type str (imputed)\n",
      "  Loading field 'DS' as type float64 (imputed)\n",
      "2023-12-06 02:40:43.737 Hail: INFO: wrote table with 314 rows in 1 partition to /tmp/persist_tableNecm7i769n\n",
      "2023-12-06 02:40:43.920 Hail: INFO: Reading table to impute column types\n",
      "2023-12-06 02:40:44.126 Hail: INFO: Finished type imputation\n",
      "  Loading field 'chr_name' as type int32 (imputed)\n",
      "  Loading field 'chr_position' as type int32 (imputed)\n",
      "  Loading field 'effect_allele' as type str (imputed)\n",
      "  Loading field 'reference_allele' as type str (imputed)\n",
      "  Loading field 'effect_weight' as type float64 (imputed)\n",
      "  Loading field 'allelefrequency_effect' as type float64 (imputed)\n",
      "2023-12-06 02:40:50.246 Hail: INFO: Ordering unsorted dataset with network shuffle\n",
      "2023-12-06 02:40:50.328 Hail: INFO: Ordering unsorted dataset with network shuffle\n",
      "[Stage 1121:=====================================>                  (2 + 1) / 3]\r"
     ]
    },
    {
     "name": "stdout",
     "output_type": "stream",
     "text": [
      "TEST_NA18986_TEST_NA18986_x_TEST_NA19063_TEST_NA19063.txt complete, number of completed is 102\n"
     ]
    },
    {
     "name": "stderr",
     "output_type": "stream",
     "text": [
      "2023-12-06 02:41:00.180 Hail: INFO: wrote table with 1709095 rows in 1 partition to /tmp/persist_tablejCyC9nyJ4E\n",
      "2023-12-06 02:41:00.406 Hail: INFO: Reading table to impute column types\n",
      "2023-12-06 02:41:04.999 Hail: INFO: Finished type imputation        (1 + 2) / 3]\n",
      "  Loading field 'locus' as type str (imputed)\n",
      "  Loading field 'alleles' as type str (imputed)\n",
      "  Loading field 'rsid' as type str (imputed)\n",
      "  Loading field 'variantID' as type str (imputed)\n",
      "  Loading field 's' as type str (imputed)\n",
      "  Loading field 'GT' as type str (imputed)\n",
      "  Loading field 'DS' as type float64 (imputed)\n",
      "2023-12-06 02:41:05.257 Hail: INFO: wrote table with 314 rows in 1 partition to /tmp/persist_tableEsmP95A5HC\n",
      "2023-12-06 02:41:05.476 Hail: INFO: Reading table to impute column types\n",
      "2023-12-06 02:41:05.664 Hail: INFO: Finished type imputation\n",
      "  Loading field 'chr_name' as type int32 (imputed)\n",
      "  Loading field 'chr_position' as type int32 (imputed)\n",
      "  Loading field 'effect_allele' as type str (imputed)\n",
      "  Loading field 'reference_allele' as type str (imputed)\n",
      "  Loading field 'effect_weight' as type float64 (imputed)\n",
      "  Loading field 'allelefrequency_effect' as type float64 (imputed)\n",
      "2023-12-06 02:41:12.198 Hail: INFO: Ordering unsorted dataset with network shuffle\n",
      "2023-12-06 02:41:12.283 Hail: INFO: Ordering unsorted dataset with network shuffle\n",
      "[Stage 1132:=====================================>                  (2 + 1) / 3]\r"
     ]
    },
    {
     "name": "stdout",
     "output_type": "stream",
     "text": [
      "TEST_NA18986_TEST_NA18986_x_TEST_NA18994_TEST_NA18994.txt complete, number of completed is 103\n"
     ]
    },
    {
     "name": "stderr",
     "output_type": "stream",
     "text": [
      "2023-12-06 02:41:23.058 Hail: INFO: wrote table with 1716341 rows in 1 partition to /tmp/persist_tableKcmCh1aO25\n",
      "2023-12-06 02:41:23.255 Hail: INFO: Reading table to impute column types\n",
      "2023-12-06 02:41:27.828 Hail: INFO: Finished type imputation        (1 + 2) / 3]\n",
      "  Loading field 'locus' as type str (imputed)\n",
      "  Loading field 'alleles' as type str (imputed)\n",
      "  Loading field 'rsid' as type str (imputed)\n",
      "  Loading field 'variantID' as type str (imputed)\n",
      "  Loading field 's' as type str (imputed)\n",
      "  Loading field 'GT' as type str (imputed)\n",
      "  Loading field 'DS' as type float64 (imputed)\n",
      "2023-12-06 02:41:28.174 Hail: INFO: wrote table with 314 rows in 1 partition to /tmp/persist_tablesZWDu4NIWL\n",
      "2023-12-06 02:41:28.390 Hail: INFO: Reading table to impute column types\n",
      "2023-12-06 02:41:28.599 Hail: INFO: Finished type imputation\n",
      "  Loading field 'chr_name' as type int32 (imputed)\n",
      "  Loading field 'chr_position' as type int32 (imputed)\n",
      "  Loading field 'effect_allele' as type str (imputed)\n",
      "  Loading field 'reference_allele' as type str (imputed)\n",
      "  Loading field 'effect_weight' as type float64 (imputed)\n",
      "  Loading field 'allelefrequency_effect' as type float64 (imputed)\n",
      "2023-12-06 02:41:34.907 Hail: INFO: Ordering unsorted dataset with network shuffle\n",
      "2023-12-06 02:41:35.044 Hail: INFO: Ordering unsorted dataset with network shuffle\n",
      "[Stage 1143:==================>                                     (1 + 2) / 3]\r"
     ]
    },
    {
     "name": "stdout",
     "output_type": "stream",
     "text": [
      "TEST_NA18986_TEST_NA18986_x_TEST_NA19067_TEST_NA19067.txt complete, number of completed is 104\n",
      "CPU times: user 15 s, sys: 1.76 s, total: 16.8 s\n",
      "Wall time: 38min 9s\n"
     ]
    },
    {
     "name": "stderr",
     "output_type": "stream",
     "text": [
      "/Users/naoki/.local/share/virtualenvs/my-zemi-UzeCub2s/lib/python3.7/site-packages/ipykernel_launcher.py:18: UserWarning: Matplotlib is currently using module://matplotlib_inline.backend_inline, which is a non-GUI backend, so cannot show the figure.\n"
     ]
    },
    {
     "data": {
      "image/png": "[encoded data removed]",
      "text/plain": [
       "<Figure size 640x480 with 1 Axes>"
      ]
     },
     "metadata": {},
     "output_type": "display_data"
    }
   ],
   "source": [
    "%%time\n",
    "\n",
    "# 使用するゲノムデータが含まれているディレクトリパスを指定します(例: PGS000004/middle)\n",
    "dir_path = \"PGS000004/middle\"\n",
    "# 使用するPRSモデルを指定します(例: PGS000004.txt)\n",
    "prs_model_name =\"PGS000004.txt\"\n",
    "# 表示するグラフのラベルを指定します(例: PGS000004)\n",
    "graph_label = 'PGS000004'\n",
    "# 保存するPRSのファイル名を指定します(例: PGS000004_middle_prs.txt)\n",
    "prs_file_name = 'PGS000004_middle_prs.txt'\n",
    "\n",
    "file_names = [\n",
    "    f for f in os.listdir(dir_path) if os.path.isfile(os.path.join(dir_path, f))\n",
    "]\n",
    "\n",
    "prs_lists = []\n",
    "\n",
    "for file_name in file_names:\n",
    "    prs_lists.append(compute_prs(dir_path, file_name, prs_model_name))\n",
    "    print(f\"{file_name} complete, number of completed is {len(prs_lists)}\" )\n",
    "    \n",
    "# 計算したPRSをテキストファイルに保存します\n",
    "s = ''\n",
    "for p in prs_lists:\n",
    "    s += f\"{p}\\n\"\n",
    "with open(prs_file_name, 'w') as f:\n",
    "    f.write(s)\n",
    "\n",
    "# PRSを棒グラフで表示します\n",
    "fig = plt.figure()\n",
    "ax = fig.add_subplot(1,1,1)\n",
    "ax.hist(prs_lists, bins=20)\n",
    "ax.set_title('PRS Histogram')\n",
    "ax.set_xlabel(graph_label)\n",
    "ax.set_ylabel('Frequency')\n",
    "fig.show()"
   ]
  },
  {
   "cell_type": "code",
   "execution_count": null,
   "id": "50de655e",
   "metadata": {},
   "outputs": [],
   "source": []
  },
  {
   "cell_type": "code",
   "execution_count": null,
   "id": "2d47157c",
   "metadata": {},
   "outputs": [],
   "source": [
    "# 保存したPRSからグラフを表示"
   ]
  },
  {
   "cell_type": "code",
   "execution_count": 7,
   "id": "de181bb6",
   "metadata": {},
   "outputs": [
    {
     "name": "stderr",
     "output_type": "stream",
     "text": [
      "/Users/naoki/.local/share/virtualenvs/my-zemi-UzeCub2s/lib/python3.7/site-packages/ipykernel_launcher.py:15: UserWarning: Matplotlib is currently using module://matplotlib_inline.backend_inline, which is a non-GUI backend, so cannot show the figure.\n",
      "  from ipykernel import kernelapp as app\n"
     ]
    },
    {
     "data": {
      "image/png": "[encoded data removed]",
      "text/plain": [
       "<Figure size 640x480 with 1 Axes>"
      ]
     },
     "metadata": {},
     "output_type": "display_data"
    }
   ],
   "source": [
    "# グラフに表示するPRSのファイル名を指定します(例: PGS000332_middle_prs.txt)\n",
    "prs_file_name = 'PGS000332_middle_prs.txt'\n",
    "# 表示するグラフのラベルを指定します(例: PGS000332)\n",
    "graph_label = 'PGS000332'\n",
    "\n",
    "with open(prs_file_name, encoding=\"UTF-8\") as f:\n",
    "    text = f.read()\n",
    "ar1 = text.split('\\n')\n",
    "ar1.pop(-1)\n",
    "ar2 = []\n",
    "for a in ar1:\n",
    "    ar2.append(float(a))\n",
    "\n",
    "fig = plt.figure()\n",
    "ax = fig.add_subplot(1,1,1)\n",
    "ax.hist(ar2, bins=20)\n",
    "ax.set_title('PRS Histogram')\n",
    "ax.set_xlabel(graph_label)\n",
    "ax.set_ylabel('Frequency')\n",
    "fig.show()"
   ]
  }
 ],
 "metadata": {
  "kernelspec": {
   "display_name": "Python 3 (ipykernel)",
   "language": "python",
   "name": "python3"
  },
  "language_info": {
   "codemirror_mode": {
    "name": "ipython",
    "version": 3
   },
   "file_extension": ".py",
   "mimetype": "text/x-python",
   "name": "python",
   "nbconvert_exporter": "python",
   "pygments_lexer": "ipython3",
   "version": "3.7.12"
  }
 },
 "nbformat": 4,
 "nbformat_minor": 5
}
